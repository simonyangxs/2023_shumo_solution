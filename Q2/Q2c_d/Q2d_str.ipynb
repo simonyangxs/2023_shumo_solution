{
 "cells": [
  {
   "cell_type": "markdown",
   "id": "4a30b189-a123-4768-ad33-050ac730a733",
   "metadata": {},
   "source": [
    "# Q2cd   \n",
    "先计算与首次水肿/血肿体积的关系"
   ]
  },
  {
   "cell_type": "code",
   "execution_count": 1,
   "id": "6821bd29-7148-4d0d-b662-79ae8512d3eb",
   "metadata": {},
   "outputs": [],
   "source": [
    "import pandas as pd"
   ]
  },
  {
   "cell_type": "code",
   "execution_count": 59,
   "id": "4cecabd0-ffe8-4e9f-9ff7-67ed7bd9882f",
   "metadata": {},
   "outputs": [],
   "source": [
    "tab_1 = pd.read_excel(\"../../metadata/表1-患者列表及临床信息.xlsx\")\n",
    "tab_1 = tab_1.rename(columns={'Unnamed: 0': 'ID'})"
   ]
  },
  {
   "cell_type": "code",
   "execution_count": 60,
   "id": "38bffbdd-8154-40ee-902b-4f8b37c6c408",
   "metadata": {},
   "outputs": [
    {
     "data": {
      "text/html": [
       "<div>\n",
       "<style scoped>\n",
       "    .dataframe tbody tr th:only-of-type {\n",
       "        vertical-align: middle;\n",
       "    }\n",
       "\n",
       "    .dataframe tbody tr th {\n",
       "        vertical-align: top;\n",
       "    }\n",
       "\n",
       "    .dataframe thead th {\n",
       "        text-align: right;\n",
       "    }\n",
       "</style>\n",
       "<table border=\"1\" class=\"dataframe\">\n",
       "  <thead>\n",
       "    <tr style=\"text-align: right;\">\n",
       "      <th></th>\n",
       "      <th>ID</th>\n",
       "      <th>90天mRS</th>\n",
       "      <th>数据集划分</th>\n",
       "      <th>入院首次影像检查流水号</th>\n",
       "      <th>年龄</th>\n",
       "      <th>性别</th>\n",
       "      <th>脑出血前mRS评分</th>\n",
       "      <th>高血压病史</th>\n",
       "      <th>卒中病史</th>\n",
       "      <th>糖尿病史</th>\n",
       "      <th>...</th>\n",
       "      <th>饮酒史</th>\n",
       "      <th>发病到首次影像检查时间间隔</th>\n",
       "      <th>血压</th>\n",
       "      <th>脑室引流</th>\n",
       "      <th>止血治疗</th>\n",
       "      <th>降颅压治疗</th>\n",
       "      <th>降压治疗</th>\n",
       "      <th>镇静、镇痛治疗</th>\n",
       "      <th>止吐护胃</th>\n",
       "      <th>营养神经</th>\n",
       "    </tr>\n",
       "  </thead>\n",
       "  <tbody>\n",
       "    <tr>\n",
       "      <th>0</th>\n",
       "      <td>sub001</td>\n",
       "      <td>4.0</td>\n",
       "      <td>训练</td>\n",
       "      <td>20161212002136</td>\n",
       "      <td>43</td>\n",
       "      <td>女</td>\n",
       "      <td>0</td>\n",
       "      <td>0</td>\n",
       "      <td>0</td>\n",
       "      <td>0</td>\n",
       "      <td>...</td>\n",
       "      <td>0</td>\n",
       "      <td>2.5</td>\n",
       "      <td>180/90</td>\n",
       "      <td>0</td>\n",
       "      <td>1</td>\n",
       "      <td>1</td>\n",
       "      <td>1</td>\n",
       "      <td>1</td>\n",
       "      <td>1</td>\n",
       "      <td>1</td>\n",
       "    </tr>\n",
       "    <tr>\n",
       "      <th>1</th>\n",
       "      <td>sub002</td>\n",
       "      <td>0.0</td>\n",
       "      <td>训练</td>\n",
       "      <td>20160406002131</td>\n",
       "      <td>58</td>\n",
       "      <td>男</td>\n",
       "      <td>0</td>\n",
       "      <td>1</td>\n",
       "      <td>0</td>\n",
       "      <td>0</td>\n",
       "      <td>...</td>\n",
       "      <td>0</td>\n",
       "      <td>3.0</td>\n",
       "      <td>199/120</td>\n",
       "      <td>0</td>\n",
       "      <td>1</td>\n",
       "      <td>1</td>\n",
       "      <td>1</td>\n",
       "      <td>0</td>\n",
       "      <td>1</td>\n",
       "      <td>1</td>\n",
       "    </tr>\n",
       "    <tr>\n",
       "      <th>2</th>\n",
       "      <td>sub003</td>\n",
       "      <td>5.0</td>\n",
       "      <td>训练</td>\n",
       "      <td>20160413000006</td>\n",
       "      <td>78</td>\n",
       "      <td>男</td>\n",
       "      <td>0</td>\n",
       "      <td>1</td>\n",
       "      <td>0</td>\n",
       "      <td>0</td>\n",
       "      <td>...</td>\n",
       "      <td>0</td>\n",
       "      <td>2.0</td>\n",
       "      <td>199/120</td>\n",
       "      <td>0</td>\n",
       "      <td>1</td>\n",
       "      <td>1</td>\n",
       "      <td>1</td>\n",
       "      <td>1</td>\n",
       "      <td>1</td>\n",
       "      <td>1</td>\n",
       "    </tr>\n",
       "    <tr>\n",
       "      <th>3</th>\n",
       "      <td>sub004</td>\n",
       "      <td>4.0</td>\n",
       "      <td>训练</td>\n",
       "      <td>20161215001667</td>\n",
       "      <td>70</td>\n",
       "      <td>男</td>\n",
       "      <td>2</td>\n",
       "      <td>1</td>\n",
       "      <td>1</td>\n",
       "      <td>0</td>\n",
       "      <td>...</td>\n",
       "      <td>0</td>\n",
       "      <td>1.0</td>\n",
       "      <td>186/99</td>\n",
       "      <td>0</td>\n",
       "      <td>1</td>\n",
       "      <td>1</td>\n",
       "      <td>1</td>\n",
       "      <td>0</td>\n",
       "      <td>0</td>\n",
       "      <td>0</td>\n",
       "    </tr>\n",
       "    <tr>\n",
       "      <th>4</th>\n",
       "      <td>sub005</td>\n",
       "      <td>3.0</td>\n",
       "      <td>训练</td>\n",
       "      <td>20161222000978</td>\n",
       "      <td>51</td>\n",
       "      <td>男</td>\n",
       "      <td>0</td>\n",
       "      <td>0</td>\n",
       "      <td>0</td>\n",
       "      <td>0</td>\n",
       "      <td>...</td>\n",
       "      <td>0</td>\n",
       "      <td>5.0</td>\n",
       "      <td>135/92</td>\n",
       "      <td>0</td>\n",
       "      <td>1</td>\n",
       "      <td>1</td>\n",
       "      <td>0</td>\n",
       "      <td>0</td>\n",
       "      <td>1</td>\n",
       "      <td>1</td>\n",
       "    </tr>\n",
       "    <tr>\n",
       "      <th>...</th>\n",
       "      <td>...</td>\n",
       "      <td>...</td>\n",
       "      <td>...</td>\n",
       "      <td>...</td>\n",
       "      <td>...</td>\n",
       "      <td>...</td>\n",
       "      <td>...</td>\n",
       "      <td>...</td>\n",
       "      <td>...</td>\n",
       "      <td>...</td>\n",
       "      <td>...</td>\n",
       "      <td>...</td>\n",
       "      <td>...</td>\n",
       "      <td>...</td>\n",
       "      <td>...</td>\n",
       "      <td>...</td>\n",
       "      <td>...</td>\n",
       "      <td>...</td>\n",
       "      <td>...</td>\n",
       "      <td>...</td>\n",
       "      <td>...</td>\n",
       "    </tr>\n",
       "    <tr>\n",
       "      <th>155</th>\n",
       "      <td>sub156</td>\n",
       "      <td>NaN</td>\n",
       "      <td>测试2</td>\n",
       "      <td>20200306000927</td>\n",
       "      <td>87</td>\n",
       "      <td>女</td>\n",
       "      <td>0</td>\n",
       "      <td>1</td>\n",
       "      <td>0</td>\n",
       "      <td>0</td>\n",
       "      <td>...</td>\n",
       "      <td>0</td>\n",
       "      <td>5.5</td>\n",
       "      <td>202/100</td>\n",
       "      <td>0</td>\n",
       "      <td>1</td>\n",
       "      <td>1</td>\n",
       "      <td>1</td>\n",
       "      <td>0</td>\n",
       "      <td>1</td>\n",
       "      <td>1</td>\n",
       "    </tr>\n",
       "    <tr>\n",
       "      <th>156</th>\n",
       "      <td>sub157</td>\n",
       "      <td>NaN</td>\n",
       "      <td>测试2</td>\n",
       "      <td>20201009003102</td>\n",
       "      <td>52</td>\n",
       "      <td>男</td>\n",
       "      <td>2</td>\n",
       "      <td>1</td>\n",
       "      <td>1</td>\n",
       "      <td>0</td>\n",
       "      <td>...</td>\n",
       "      <td>0</td>\n",
       "      <td>0.5</td>\n",
       "      <td>180/110</td>\n",
       "      <td>1</td>\n",
       "      <td>0</td>\n",
       "      <td>1</td>\n",
       "      <td>1</td>\n",
       "      <td>1</td>\n",
       "      <td>1</td>\n",
       "      <td>1</td>\n",
       "    </tr>\n",
       "    <tr>\n",
       "      <th>157</th>\n",
       "      <td>sub158</td>\n",
       "      <td>NaN</td>\n",
       "      <td>测试2</td>\n",
       "      <td>20200410001952</td>\n",
       "      <td>57</td>\n",
       "      <td>男</td>\n",
       "      <td>0</td>\n",
       "      <td>1</td>\n",
       "      <td>0</td>\n",
       "      <td>0</td>\n",
       "      <td>...</td>\n",
       "      <td>0</td>\n",
       "      <td>2.8</td>\n",
       "      <td>233/135</td>\n",
       "      <td>0</td>\n",
       "      <td>1</td>\n",
       "      <td>1</td>\n",
       "      <td>1</td>\n",
       "      <td>1</td>\n",
       "      <td>1</td>\n",
       "      <td>1</td>\n",
       "    </tr>\n",
       "    <tr>\n",
       "      <th>158</th>\n",
       "      <td>sub159</td>\n",
       "      <td>NaN</td>\n",
       "      <td>测试2</td>\n",
       "      <td>20200218000582</td>\n",
       "      <td>47</td>\n",
       "      <td>男</td>\n",
       "      <td>0</td>\n",
       "      <td>1</td>\n",
       "      <td>0</td>\n",
       "      <td>0</td>\n",
       "      <td>...</td>\n",
       "      <td>1</td>\n",
       "      <td>3.0</td>\n",
       "      <td>183/122</td>\n",
       "      <td>0</td>\n",
       "      <td>1</td>\n",
       "      <td>1</td>\n",
       "      <td>1</td>\n",
       "      <td>1</td>\n",
       "      <td>1</td>\n",
       "      <td>1</td>\n",
       "    </tr>\n",
       "    <tr>\n",
       "      <th>159</th>\n",
       "      <td>sub160</td>\n",
       "      <td>NaN</td>\n",
       "      <td>测试2</td>\n",
       "      <td>20200821002584</td>\n",
       "      <td>80</td>\n",
       "      <td>女</td>\n",
       "      <td>0</td>\n",
       "      <td>1</td>\n",
       "      <td>0</td>\n",
       "      <td>1</td>\n",
       "      <td>...</td>\n",
       "      <td>0</td>\n",
       "      <td>4.0</td>\n",
       "      <td>208/95</td>\n",
       "      <td>1</td>\n",
       "      <td>1</td>\n",
       "      <td>1</td>\n",
       "      <td>1</td>\n",
       "      <td>1</td>\n",
       "      <td>1</td>\n",
       "      <td>1</td>\n",
       "    </tr>\n",
       "  </tbody>\n",
       "</table>\n",
       "<p>160 rows × 23 columns</p>\n",
       "</div>"
      ],
      "text/plain": [
       "         ID  90天mRS 数据集划分     入院首次影像检查流水号  年龄 性别  脑出血前mRS评分  高血压病史  卒中病史  \\\n",
       "0    sub001     4.0    训练  20161212002136  43  女          0      0     0   \n",
       "1    sub002     0.0    训练  20160406002131  58  男          0      1     0   \n",
       "2    sub003     5.0    训练  20160413000006  78  男          0      1     0   \n",
       "3    sub004     4.0    训练  20161215001667  70  男          2      1     1   \n",
       "4    sub005     3.0    训练  20161222000978  51  男          0      0     0   \n",
       "..      ...     ...   ...             ...  .. ..        ...    ...   ...   \n",
       "155  sub156     NaN   测试2  20200306000927  87  女          0      1     0   \n",
       "156  sub157     NaN   测试2  20201009003102  52  男          2      1     1   \n",
       "157  sub158     NaN   测试2  20200410001952  57  男          0      1     0   \n",
       "158  sub159     NaN   测试2  20200218000582  47  男          0      1     0   \n",
       "159  sub160     NaN   测试2  20200821002584  80  女          0      1     0   \n",
       "\n",
       "     糖尿病史  ...  饮酒史  发病到首次影像检查时间间隔       血压  脑室引流  止血治疗 降颅压治疗  降压治疗  镇静、镇痛治疗  \\\n",
       "0       0  ...    0            2.5   180/90     0     1     1     1        1   \n",
       "1       0  ...    0            3.0  199/120     0     1     1     1        0   \n",
       "2       0  ...    0            2.0  199/120     0     1     1     1        1   \n",
       "3       0  ...    0            1.0   186/99     0     1     1     1        0   \n",
       "4       0  ...    0            5.0   135/92     0     1     1     0        0   \n",
       "..    ...  ...  ...            ...      ...   ...   ...   ...   ...      ...   \n",
       "155     0  ...    0            5.5  202/100     0     1     1     1        0   \n",
       "156     0  ...    0            0.5  180/110     1     0     1     1        1   \n",
       "157     0  ...    0            2.8  233/135     0     1     1     1        1   \n",
       "158     0  ...    1            3.0  183/122     0     1     1     1        1   \n",
       "159     1  ...    0            4.0   208/95     1     1     1     1        1   \n",
       "\n",
       "     止吐护胃  营养神经  \n",
       "0       1     1  \n",
       "1       1     1  \n",
       "2       1     1  \n",
       "3       0     0  \n",
       "4       1     1  \n",
       "..    ...   ...  \n",
       "155     1     1  \n",
       "156     1     1  \n",
       "157     1     1  \n",
       "158     1     1  \n",
       "159     1     1  \n",
       "\n",
       "[160 rows x 23 columns]"
      ]
     },
     "execution_count": 60,
     "metadata": {},
     "output_type": "execute_result"
    }
   ],
   "source": [
    "tab_1"
   ]
  },
  {
   "cell_type": "code",
   "execution_count": 72,
   "id": "74ad96d9-993c-4b14-8da4-7a8f4aff7055",
   "metadata": {},
   "outputs": [],
   "source": [
    "tab_1_100 = tab_1[:100]"
   ]
  },
  {
   "cell_type": "code",
   "execution_count": 255,
   "id": "61d852bf-5369-4ac4-9d18-5a6802a51bd4",
   "metadata": {},
   "outputs": [
    {
     "data": {
      "text/html": [
       "<div>\n",
       "<style scoped>\n",
       "    .dataframe tbody tr th:only-of-type {\n",
       "        vertical-align: middle;\n",
       "    }\n",
       "\n",
       "    .dataframe tbody tr th {\n",
       "        vertical-align: top;\n",
       "    }\n",
       "\n",
       "    .dataframe thead th {\n",
       "        text-align: right;\n",
       "    }\n",
       "</style>\n",
       "<table border=\"1\" class=\"dataframe\">\n",
       "  <thead>\n",
       "    <tr style=\"text-align: right;\">\n",
       "      <th></th>\n",
       "      <th>ID</th>\n",
       "      <th>90天mRS</th>\n",
       "      <th>数据集划分</th>\n",
       "      <th>入院首次影像检查流水号</th>\n",
       "      <th>年龄</th>\n",
       "      <th>性别</th>\n",
       "      <th>脑出血前mRS评分</th>\n",
       "      <th>高血压病史</th>\n",
       "      <th>卒中病史</th>\n",
       "      <th>糖尿病史</th>\n",
       "      <th>...</th>\n",
       "      <th>血压</th>\n",
       "      <th>脑室引流</th>\n",
       "      <th>止血治疗</th>\n",
       "      <th>降颅压治疗</th>\n",
       "      <th>降压治疗</th>\n",
       "      <th>镇静、镇痛治疗</th>\n",
       "      <th>止吐护胃</th>\n",
       "      <th>营养神经</th>\n",
       "      <th>ed</th>\n",
       "      <th>hm</th>\n",
       "    </tr>\n",
       "  </thead>\n",
       "  <tbody>\n",
       "    <tr>\n",
       "      <th>0</th>\n",
       "      <td>sub001</td>\n",
       "      <td>4.0</td>\n",
       "      <td>训练</td>\n",
       "      <td>20161212002136</td>\n",
       "      <td>43</td>\n",
       "      <td>女</td>\n",
       "      <td>0</td>\n",
       "      <td>0</td>\n",
       "      <td>0</td>\n",
       "      <td>0</td>\n",
       "      <td>...</td>\n",
       "      <td>180/90</td>\n",
       "      <td>0</td>\n",
       "      <td>1</td>\n",
       "      <td>1</td>\n",
       "      <td>1</td>\n",
       "      <td>1</td>\n",
       "      <td>1</td>\n",
       "      <td>1</td>\n",
       "      <td>0</td>\n",
       "      <td>1</td>\n",
       "    </tr>\n",
       "    <tr>\n",
       "      <th>1</th>\n",
       "      <td>sub002</td>\n",
       "      <td>0.0</td>\n",
       "      <td>训练</td>\n",
       "      <td>20160406002131</td>\n",
       "      <td>58</td>\n",
       "      <td>男</td>\n",
       "      <td>0</td>\n",
       "      <td>1</td>\n",
       "      <td>0</td>\n",
       "      <td>0</td>\n",
       "      <td>...</td>\n",
       "      <td>199/120</td>\n",
       "      <td>0</td>\n",
       "      <td>1</td>\n",
       "      <td>1</td>\n",
       "      <td>1</td>\n",
       "      <td>0</td>\n",
       "      <td>1</td>\n",
       "      <td>1</td>\n",
       "      <td>2</td>\n",
       "      <td>1</td>\n",
       "    </tr>\n",
       "    <tr>\n",
       "      <th>2</th>\n",
       "      <td>sub003</td>\n",
       "      <td>5.0</td>\n",
       "      <td>训练</td>\n",
       "      <td>20160413000006</td>\n",
       "      <td>78</td>\n",
       "      <td>男</td>\n",
       "      <td>0</td>\n",
       "      <td>1</td>\n",
       "      <td>0</td>\n",
       "      <td>0</td>\n",
       "      <td>...</td>\n",
       "      <td>199/120</td>\n",
       "      <td>0</td>\n",
       "      <td>1</td>\n",
       "      <td>1</td>\n",
       "      <td>1</td>\n",
       "      <td>1</td>\n",
       "      <td>1</td>\n",
       "      <td>1</td>\n",
       "      <td>1</td>\n",
       "      <td>0</td>\n",
       "    </tr>\n",
       "    <tr>\n",
       "      <th>3</th>\n",
       "      <td>sub004</td>\n",
       "      <td>4.0</td>\n",
       "      <td>训练</td>\n",
       "      <td>20161215001667</td>\n",
       "      <td>70</td>\n",
       "      <td>男</td>\n",
       "      <td>2</td>\n",
       "      <td>1</td>\n",
       "      <td>1</td>\n",
       "      <td>0</td>\n",
       "      <td>...</td>\n",
       "      <td>186/99</td>\n",
       "      <td>0</td>\n",
       "      <td>1</td>\n",
       "      <td>1</td>\n",
       "      <td>1</td>\n",
       "      <td>0</td>\n",
       "      <td>0</td>\n",
       "      <td>0</td>\n",
       "      <td>2</td>\n",
       "      <td>2</td>\n",
       "    </tr>\n",
       "    <tr>\n",
       "      <th>4</th>\n",
       "      <td>sub005</td>\n",
       "      <td>3.0</td>\n",
       "      <td>训练</td>\n",
       "      <td>20161222000978</td>\n",
       "      <td>51</td>\n",
       "      <td>男</td>\n",
       "      <td>0</td>\n",
       "      <td>0</td>\n",
       "      <td>0</td>\n",
       "      <td>0</td>\n",
       "      <td>...</td>\n",
       "      <td>135/92</td>\n",
       "      <td>0</td>\n",
       "      <td>1</td>\n",
       "      <td>1</td>\n",
       "      <td>0</td>\n",
       "      <td>0</td>\n",
       "      <td>1</td>\n",
       "      <td>1</td>\n",
       "      <td>2</td>\n",
       "      <td>0</td>\n",
       "    </tr>\n",
       "    <tr>\n",
       "      <th>...</th>\n",
       "      <td>...</td>\n",
       "      <td>...</td>\n",
       "      <td>...</td>\n",
       "      <td>...</td>\n",
       "      <td>...</td>\n",
       "      <td>...</td>\n",
       "      <td>...</td>\n",
       "      <td>...</td>\n",
       "      <td>...</td>\n",
       "      <td>...</td>\n",
       "      <td>...</td>\n",
       "      <td>...</td>\n",
       "      <td>...</td>\n",
       "      <td>...</td>\n",
       "      <td>...</td>\n",
       "      <td>...</td>\n",
       "      <td>...</td>\n",
       "      <td>...</td>\n",
       "      <td>...</td>\n",
       "      <td>...</td>\n",
       "      <td>...</td>\n",
       "    </tr>\n",
       "    <tr>\n",
       "      <th>95</th>\n",
       "      <td>sub096</td>\n",
       "      <td>4.0</td>\n",
       "      <td>训练</td>\n",
       "      <td>20180802001789</td>\n",
       "      <td>93</td>\n",
       "      <td>女</td>\n",
       "      <td>0</td>\n",
       "      <td>0</td>\n",
       "      <td>0</td>\n",
       "      <td>0</td>\n",
       "      <td>...</td>\n",
       "      <td>181/76</td>\n",
       "      <td>0</td>\n",
       "      <td>0</td>\n",
       "      <td>0</td>\n",
       "      <td>1</td>\n",
       "      <td>1</td>\n",
       "      <td>1</td>\n",
       "      <td>1</td>\n",
       "      <td>2</td>\n",
       "      <td>1</td>\n",
       "    </tr>\n",
       "    <tr>\n",
       "      <th>96</th>\n",
       "      <td>sub097</td>\n",
       "      <td>2.0</td>\n",
       "      <td>训练</td>\n",
       "      <td>20181010000767</td>\n",
       "      <td>83</td>\n",
       "      <td>女</td>\n",
       "      <td>0</td>\n",
       "      <td>1</td>\n",
       "      <td>0</td>\n",
       "      <td>0</td>\n",
       "      <td>...</td>\n",
       "      <td>170/79</td>\n",
       "      <td>0</td>\n",
       "      <td>1</td>\n",
       "      <td>1</td>\n",
       "      <td>1</td>\n",
       "      <td>1</td>\n",
       "      <td>1</td>\n",
       "      <td>1</td>\n",
       "      <td>2</td>\n",
       "      <td>3</td>\n",
       "    </tr>\n",
       "    <tr>\n",
       "      <th>97</th>\n",
       "      <td>sub098</td>\n",
       "      <td>5.0</td>\n",
       "      <td>训练</td>\n",
       "      <td>20180612002507</td>\n",
       "      <td>82</td>\n",
       "      <td>男</td>\n",
       "      <td>0</td>\n",
       "      <td>1</td>\n",
       "      <td>1</td>\n",
       "      <td>1</td>\n",
       "      <td>...</td>\n",
       "      <td>200/100</td>\n",
       "      <td>0</td>\n",
       "      <td>1</td>\n",
       "      <td>1</td>\n",
       "      <td>1</td>\n",
       "      <td>1</td>\n",
       "      <td>1</td>\n",
       "      <td>1</td>\n",
       "      <td>2</td>\n",
       "      <td>1</td>\n",
       "    </tr>\n",
       "    <tr>\n",
       "      <th>98</th>\n",
       "      <td>sub099</td>\n",
       "      <td>3.0</td>\n",
       "      <td>训练</td>\n",
       "      <td>20180620002296</td>\n",
       "      <td>53</td>\n",
       "      <td>男</td>\n",
       "      <td>0</td>\n",
       "      <td>1</td>\n",
       "      <td>0</td>\n",
       "      <td>0</td>\n",
       "      <td>...</td>\n",
       "      <td>159/91</td>\n",
       "      <td>1</td>\n",
       "      <td>1</td>\n",
       "      <td>1</td>\n",
       "      <td>1</td>\n",
       "      <td>1</td>\n",
       "      <td>1</td>\n",
       "      <td>1</td>\n",
       "      <td>1</td>\n",
       "      <td>0</td>\n",
       "    </tr>\n",
       "    <tr>\n",
       "      <th>99</th>\n",
       "      <td>sub100</td>\n",
       "      <td>2.0</td>\n",
       "      <td>训练</td>\n",
       "      <td>20180314000010</td>\n",
       "      <td>80</td>\n",
       "      <td>男</td>\n",
       "      <td>0</td>\n",
       "      <td>0</td>\n",
       "      <td>0</td>\n",
       "      <td>0</td>\n",
       "      <td>...</td>\n",
       "      <td>152/80</td>\n",
       "      <td>0</td>\n",
       "      <td>1</td>\n",
       "      <td>1</td>\n",
       "      <td>1</td>\n",
       "      <td>1</td>\n",
       "      <td>1</td>\n",
       "      <td>1</td>\n",
       "      <td>2</td>\n",
       "      <td>3</td>\n",
       "    </tr>\n",
       "  </tbody>\n",
       "</table>\n",
       "<p>100 rows × 25 columns</p>\n",
       "</div>"
      ],
      "text/plain": [
       "        ID  90天mRS 数据集划分     入院首次影像检查流水号  年龄 性别  脑出血前mRS评分  高血压病史  卒中病史  糖尿病史  \\\n",
       "0   sub001     4.0    训练  20161212002136  43  女          0      0     0     0   \n",
       "1   sub002     0.0    训练  20160406002131  58  男          0      1     0     0   \n",
       "2   sub003     5.0    训练  20160413000006  78  男          0      1     0     0   \n",
       "3   sub004     4.0    训练  20161215001667  70  男          2      1     1     0   \n",
       "4   sub005     3.0    训练  20161222000978  51  男          0      0     0     0   \n",
       "..     ...     ...   ...             ...  .. ..        ...    ...   ...   ...   \n",
       "95  sub096     4.0    训练  20180802001789  93  女          0      0     0     0   \n",
       "96  sub097     2.0    训练  20181010000767  83  女          0      1     0     0   \n",
       "97  sub098     5.0    训练  20180612002507  82  男          0      1     1     1   \n",
       "98  sub099     3.0    训练  20180620002296  53  男          0      1     0     0   \n",
       "99  sub100     2.0    训练  20180314000010  80  男          0      0     0     0   \n",
       "\n",
       "    ...       血压  脑室引流  止血治疗  降颅压治疗  降压治疗 镇静、镇痛治疗  止吐护胃  营养神经  ed  hm  \n",
       "0   ...   180/90     0     1      1     1       1     1     1   0   1  \n",
       "1   ...  199/120     0     1      1     1       0     1     1   2   1  \n",
       "2   ...  199/120     0     1      1     1       1     1     1   1   0  \n",
       "3   ...   186/99     0     1      1     1       0     0     0   2   2  \n",
       "4   ...   135/92     0     1      1     0       0     1     1   2   0  \n",
       "..  ...      ...   ...   ...    ...   ...     ...   ...   ...  ..  ..  \n",
       "95  ...   181/76     0     0      0     1       1     1     1   2   1  \n",
       "96  ...   170/79     0     1      1     1       1     1     1   2   3  \n",
       "97  ...  200/100     0     1      1     1       1     1     1   2   1  \n",
       "98  ...   159/91     1     1      1     1       1     1     1   1   0  \n",
       "99  ...   152/80     0     1      1     1       1     1     1   2   3  \n",
       "\n",
       "[100 rows x 25 columns]"
      ]
     },
     "execution_count": 255,
     "metadata": {},
     "output_type": "execute_result"
    }
   ],
   "source": [
    "# tab_1_100[\"ed\"] = 0\n",
    "# tab_1_100[\"hm\"] = 0\n",
    "tab_1_100"
   ]
  },
  {
   "cell_type": "markdown",
   "id": "33c45f1c-e577-4f33-bc8e-00d7dbd8fee3",
   "metadata": {},
   "source": [
    "## 读入水肿/血肿进展标签"
   ]
  },
  {
   "cell_type": "code",
   "execution_count": 105,
   "id": "ed4a075b-bf9a-4683-80d2-8e90fab0e849",
   "metadata": {},
   "outputs": [],
   "source": [
    "ed_label = pd.read_pickle(\"data/best_3_cluster_members.pkl\")"
   ]
  },
  {
   "cell_type": "code",
   "execution_count": 117,
   "id": "d211cbc7-f213-4595-a61d-3b5b7d65099c",
   "metadata": {},
   "outputs": [],
   "source": [
    "for label in ed_label:\n",
    "    # 对于每一类 label，把原来的数值填上\n",
    "    num = label[0]\n",
    "    person = ed_label[label]\n",
    "    for person_id in person:\n",
    "        tab_1_100.loc[(tab_1_100[\"ID\"] == person_id), \"ed\"] = int(num)"
   ]
  },
  {
   "cell_type": "code",
   "execution_count": 243,
   "id": "55bffb24-a30f-4c3e-8a81-e5b52a84d6d8",
   "metadata": {},
   "outputs": [],
   "source": [
    "hm_label = pd.read_pickle(\"data/best_4_cluster_members_HM.pkl\")"
   ]
  },
  {
   "cell_type": "code",
   "execution_count": 254,
   "id": "d683b8c0-be05-4cb9-b180-618b31aa7734",
   "metadata": {},
   "outputs": [],
   "source": [
    "for label in hm_label:\n",
    "    # 对于每一类 label，把原来的数值填上\n",
    "    num = label[0]\n",
    "    person = hm_label[label]\n",
    "    for person_id in person:\n",
    "        tab_1_100.loc[(tab_1_100[\"ID\"] == person_id), \"hm\"] = int(num)"
   ]
  },
  {
   "cell_type": "markdown",
   "id": "4b4ce8e7-8652-4f42-bbc2-4b7e5e60eb67",
   "metadata": {},
   "source": [
    "## 治疗方案的分布情况    \n",
    "假设医生在实施治疗方案时已经充分考虑了患者的临床特征"
   ]
  },
  {
   "cell_type": "code",
   "execution_count": 92,
   "id": "ca87c08f-4eba-41b0-93e9-f5c18f405f1b",
   "metadata": {},
   "outputs": [],
   "source": [
    "import seaborn as sns\n",
    "import matplotlib.pyplot as plt\n",
    "\n",
    "rc = {'font.sans-serif': 'SimHei',\n",
    "      'axes.unicode_minus': False}\n",
    "sns.set(context='notebook', style='ticks', rc=rc)"
   ]
  },
  {
   "cell_type": "code",
   "execution_count": 90,
   "id": "bb786ac6-893e-487d-a43b-bb2299cad2ca",
   "metadata": {},
   "outputs": [],
   "source": [
    "%matplotlib inline"
   ]
  },
  {
   "cell_type": "code",
   "execution_count": 87,
   "id": "0d6e85a1-e19a-4f28-8ecc-b23656f837a4",
   "metadata": {},
   "outputs": [],
   "source": [
    "remedy_cnts = dict()\n",
    "for remedy in [\"脑室引流\",\"止血治疗\",\"降颅压治疗\",\"降压治疗\",\"镇静、镇痛治疗\",\"止吐护胃\",\"营养神经\"]:\n",
    "    remedy_cnts[remedy] = tab_1_100[remedy].sum()"
   ]
  },
  {
   "cell_type": "code",
   "execution_count": 88,
   "id": "f2f739ba-680c-4f6c-ad1a-070338a7a5ed",
   "metadata": {},
   "outputs": [
    {
     "data": {
      "text/plain": [
       "{'脑室引流': 6,\n",
       " '止血治疗': 79,\n",
       " '降颅压治疗': 76,\n",
       " '降压治疗': 92,\n",
       " '镇静、镇痛治疗': 85,\n",
       " '止吐护胃': 97,\n",
       " '营养神经': 96}"
      ]
     },
     "execution_count": 88,
     "metadata": {},
     "output_type": "execute_result"
    }
   ],
   "source": [
    "remedy_cnts"
   ]
  },
  {
   "cell_type": "code",
   "execution_count": 103,
   "id": "4593ff3b-1287-4f02-9fa8-327a5a89bf79",
   "metadata": {},
   "outputs": [
    {
     "data": {
      "image/png": "[encoded data removed]",
      "text/plain": [
       "<Figure size 864x216 with 1 Axes>"
      ]
     },
     "metadata": {},
     "output_type": "display_data"
    }
   ],
   "source": [
    "# 条形图可视化\n",
    "plt.close()\n",
    "\n",
    "plt.figure(figsize=(12, 3))\n",
    "\n",
    "sns.barplot(x=list(remedy_cnts.keys()), y=[remedy_cnts[remedy] for remedy in remedy_cnts])\n",
    "\n",
    "# 添加标题和标签\n",
    "plt.xlabel('治疗方法', fontsize=16)\n",
    "plt.ylabel('对应患者数量', fontsize=16)\n",
    "\n",
    "plt.xticks(fontsize=16)\n",
    "plt.yticks(fontsize=16)\n",
    "\n",
    "# 显示图形\n",
    "plt.savefig('img/不同治疗方案的使用数目.pdf', dpi=300, bbox_inches='tight')\n",
    "plt.show()"
   ]
  },
  {
   "cell_type": "code",
   "execution_count": 76,
   "id": "6ff40927-2692-4977-9e39-f672785a74ef",
   "metadata": {},
   "outputs": [],
   "source": [
    "combined_values = tab_1_100[[\"脑室引流\",\"止血治疗\",\"降颅压治疗\",\"降压治疗\",\"镇静、镇痛治疗\",\"止吐护胃\",\"营养神经\"]].drop_duplicates()"
   ]
  },
  {
   "cell_type": "code",
   "execution_count": 77,
   "id": "e0ed998e-6142-485c-9e18-5f7909f05d6b",
   "metadata": {
    "tags": []
   },
   "outputs": [],
   "source": [
    "grouped_remedy = tab_1_100.groupby([\"脑室引流\",\"止血治疗\",\"降颅压治疗\",\"降压治疗\",\"镇静、镇痛治疗\",\"止吐护胃\",\"营养神经\"])"
   ]
  },
  {
   "cell_type": "code",
   "execution_count": 78,
   "id": "f4d64b6b-f7d7-4c60-aa77-a3d09c1a7edf",
   "metadata": {},
   "outputs": [],
   "source": [
    "combined_values[\"counts\"] = 0"
   ]
  },
  {
   "cell_type": "code",
   "execution_count": 122,
   "id": "6912edf8-d09a-4506-927f-95c54d2a9069",
   "metadata": {},
   "outputs": [],
   "source": [
    "from collections import Counter"
   ]
  },
  {
   "cell_type": "code",
   "execution_count": 126,
   "id": "8a76f485-31f0-4b53-8163-6f7c76dee8a5",
   "metadata": {},
   "outputs": [],
   "source": [
    "# 只用跑一遍\n",
    "# combined_values[\"ed_0\"] = 0\n",
    "# combined_values[\"ed_1\"] = 0\n",
    "# combined_values[\"ed_2\"] = 0"
   ]
  },
  {
   "cell_type": "code",
   "execution_count": 246,
   "id": "0b337c81-8812-48c8-a1ef-99e510d9ab13",
   "metadata": {},
   "outputs": [],
   "source": [
    "# 只用跑一遍\n",
    "# combined_values[\"hm_0\"] = 0\n",
    "# combined_values[\"hm_1\"] = 0\n",
    "# combined_values[\"hm_2\"] = 0\n",
    "# combined_values[\"hm_3\"] = 0"
   ]
  },
  {
   "cell_type": "code",
   "execution_count": 307,
   "id": "63191f2f-fc4d-4556-9623-860b508365b0",
   "metadata": {},
   "outputs": [
    {
     "data": {
      "text/plain": [
       "Index(['ID', '90天mRS', '数据集划分', '入院首次影像检查流水号', '年龄', '性别', '脑出血前mRS评分',\n",
       "       '高血压病史', '卒中病史', '糖尿病史', '房颤史', '冠心病史', '吸烟史', '饮酒史', '发病到首次影像检查时间间隔',\n",
       "       '血压', '脑室引流', '止血治疗', '降颅压治疗', '降压治疗', '镇静、镇痛治疗', '止吐护胃', '营养神经', 'ed',\n",
       "       'hm'],\n",
       "      dtype='object')"
      ]
     },
     "execution_count": 307,
     "metadata": {},
     "output_type": "execute_result"
    }
   ],
   "source": [
    "tmp_patient.columns"
   ]
  },
  {
   "cell_type": "code",
   "execution_count": 320,
   "id": "8a3286b2-bd31-4119-bd74-abdebd705a18",
   "metadata": {},
   "outputs": [
    {
     "data": {
      "text/plain": [
       "0.0"
      ]
     },
     "execution_count": 320,
     "metadata": {},
     "output_type": "execute_result"
    }
   ],
   "source": [
    "tmp_patient[tmp_patient[\"ed\"] == 0][\"房颤史\"].mean()"
   ]
  },
  {
   "cell_type": "code",
   "execution_count": 321,
   "id": "8682ad8f-5570-4432-a0cc-4a63ba5666c8",
   "metadata": {},
   "outputs": [
    {
     "data": {
      "text/plain": [
       "0.0"
      ]
     },
     "execution_count": 321,
     "metadata": {},
     "output_type": "execute_result"
    }
   ],
   "source": [
    "tmp_patient[tmp_patient[\"ed\"] == 1][\"房颤史\"].mean()"
   ]
  },
  {
   "cell_type": "code",
   "execution_count": 322,
   "id": "37fcf798-3a1c-4019-bff0-723ba94c39d1",
   "metadata": {},
   "outputs": [
    {
     "data": {
      "text/plain": [
       "0.08333333333333333"
      ]
     },
     "execution_count": 322,
     "metadata": {},
     "output_type": "execute_result"
    }
   ],
   "source": [
    "tmp_patient[tmp_patient[\"ed\"] == 2][\"房颤史\"].mean()"
   ]
  },
  {
   "cell_type": "code",
   "execution_count": 291,
   "id": "3bc704f4-9885-452d-a5d3-e2c6f1081b5e",
   "metadata": {},
   "outputs": [
    {
     "name": "stdout",
     "output_type": "stream",
     "text": [
      "[2, 2, 1, 2, 2]\n",
      "[2, 1, 1, 0, 0, 2]\n",
      "[0]\n",
      "[0, 1]\n",
      "[0, 2, 2, 0, 0]\n",
      "[2]\n",
      "[0]\n",
      "[2]\n",
      "[2, 0, 2, 1, 1, 2, 1, 2]\n",
      "[2, 2]\n",
      "[2]\n",
      "[1]\n",
      "[2, 1, 2, 0, 2]\n",
      "[0]\n",
      "[0, 1, 1, 1, 0, 0, 2, 2, 1, 2, 0, 2, 2, 0, 2, 0, 0, 2, 2, 0, 1, 2, 0, 2, 1, 2, 2, 0, 0, 1, 2, 1, 1, 2, 0, 1, 0, 0, 2, 2, 1, 0, 2, 0, 2, 2, 1, 0, 2, 2, 0, 2, 2, 2]\n",
      "[2]\n",
      "[0]\n",
      "[1, 2, 2, 1]\n"
     ]
    }
   ],
   "source": [
    "tmp_patient = None\n",
    "# 补充水肿类别数量\n",
    "for name, group in grouped_remedy:\n",
    "    # print(name)\n",
    "    # print(group.shape)\n",
    "    \n",
    "    if name == (0,1,1,1,1,1,1):\n",
    "        tmp_patient = tab_1_100.loc[(tab_1_100[\"脑室引流\"]==name[0]) & (tab_1_100[\"止血治疗\"]==name[1]) & (tab_1_100[\"降颅压治疗\"]==name[2]) & (tab_1_100[\"降压治疗\"]==name[3]) & (tab_1_100[\"镇静、镇痛治疗\"]==name[4]) & (tab_1_100[\"止吐护胃\"]==name[5]) & (tab_1_100[\"营养神经\"]==name[6])]\n",
    "        \n",
    "    val = tab_1_100.loc[(tab_1_100[\"脑室引流\"]==name[0]) & (tab_1_100[\"止血治疗\"]==name[1]) & (tab_1_100[\"降颅压治疗\"]==name[2]) & (tab_1_100[\"降压治疗\"]==name[3]) & (tab_1_100[\"镇静、镇痛治疗\"]==name[4]) & (tab_1_100[\"止吐护胃\"]==name[5]) & (tab_1_100[\"营养神经\"]==name[6])][\"ed\"]\n",
    "    ed_counter = Counter(val.tolist())\n",
    "    combined_values.loc[(combined_values[\"脑室引流\"]==name[0]) & (combined_values[\"止血治疗\"]==name[1]) & (combined_values[\"降颅压治疗\"]==name[2]) & (combined_values[\"降压治疗\"]==name[3]) & (combined_values[\"镇静、镇痛治疗\"]==name[4]) & (combined_values[\"止吐护胃\"]==name[5]) & (combined_values[\"营养神经\"]==name[6]), \"ed_0\"] = ed_counter[0]\n",
    "    combined_values.loc[(combined_values[\"脑室引流\"]==name[0]) & (combined_values[\"止血治疗\"]==name[1]) & (combined_values[\"降颅压治疗\"]==name[2]) & (combined_values[\"降压治疗\"]==name[3]) & (combined_values[\"镇静、镇痛治疗\"]==name[4]) & (combined_values[\"止吐护胃\"]==name[5]) & (combined_values[\"营养神经\"]==name[6]), \"ed_1\"] = ed_counter[1]\n",
    "    combined_values.loc[(combined_values[\"脑室引流\"]==name[0]) & (combined_values[\"止血治疗\"]==name[1]) & (combined_values[\"降颅压治疗\"]==name[2]) & (combined_values[\"降压治疗\"]==name[3]) & (combined_values[\"镇静、镇痛治疗\"]==name[4]) & (combined_values[\"止吐护胃\"]==name[5]) & (combined_values[\"营养神经\"]==name[6]), \"ed_2\"] = ed_counter[2]\n",
    "    print(val.tolist())"
   ]
  },
  {
   "cell_type": "code",
   "execution_count": 256,
   "id": "9c9a0669-d7f2-419a-a652-c1d5e805e3bb",
   "metadata": {},
   "outputs": [
    {
     "name": "stdout",
     "output_type": "stream",
     "text": [
      "[2, 1, 3, 1, 1]\n",
      "[3, 0, 0, 2, 2, 1]\n",
      "[2]\n",
      "[1, 3]\n",
      "[1, 1, 1, 0, 2]\n",
      "[1]\n",
      "[0]\n",
      "[1]\n",
      "[1, 2, 2, 3, 3, 1, 0, 1]\n",
      "[0, 1]\n",
      "[2]\n",
      "[3]\n",
      "[1, 0, 1, 2, 1]\n",
      "[2]\n",
      "[1, 0, 0, 0, 2, 0, 1, 2, 3, 1, 0, 0, 1, 1, 1, 1, 2, 2, 1, 2, 3, 2, 2, 2, 3, 1, 1, 2, 2, 0, 1, 3, 3, 1, 1, 3, 1, 2, 1, 1, 3, 1, 1, 1, 3, 3, 3, 1, 1, 1, 1, 3, 1, 3]\n",
      "[1]\n",
      "[0]\n",
      "[3, 1, 2, 0]\n"
     ]
    }
   ],
   "source": [
    "# 补充血肿类别数量\n",
    "for name, group in grouped_remedy:\n",
    "    # print(name)\n",
    "    # print(group.shape)\n",
    "    val = tab_1_100.loc[(tab_1_100[\"脑室引流\"]==name[0]) & (tab_1_100[\"止血治疗\"]==name[1]) & (tab_1_100[\"降颅压治疗\"]==name[2]) & (tab_1_100[\"降压治疗\"]==name[3]) & (tab_1_100[\"镇静、镇痛治疗\"]==name[4]) & (tab_1_100[\"止吐护胃\"]==name[5]) & (tab_1_100[\"营养神经\"]==name[6])][\"hm\"]\n",
    "    hm_counter = Counter(val.tolist())\n",
    "    combined_values.loc[(combined_values[\"脑室引流\"]==name[0]) & (combined_values[\"止血治疗\"]==name[1]) & (combined_values[\"降颅压治疗\"]==name[2]) & (combined_values[\"降压治疗\"]==name[3]) & (combined_values[\"镇静、镇痛治疗\"]==name[4]) & (combined_values[\"止吐护胃\"]==name[5]) & (combined_values[\"营养神经\"]==name[6]), \"hm_0\"] = hm_counter[0]\n",
    "    combined_values.loc[(combined_values[\"脑室引流\"]==name[0]) & (combined_values[\"止血治疗\"]==name[1]) & (combined_values[\"降颅压治疗\"]==name[2]) & (combined_values[\"降压治疗\"]==name[3]) & (combined_values[\"镇静、镇痛治疗\"]==name[4]) & (combined_values[\"止吐护胃\"]==name[5]) & (combined_values[\"营养神经\"]==name[6]), \"hm_1\"] = hm_counter[1]\n",
    "    combined_values.loc[(combined_values[\"脑室引流\"]==name[0]) & (combined_values[\"止血治疗\"]==name[1]) & (combined_values[\"降颅压治疗\"]==name[2]) & (combined_values[\"降压治疗\"]==name[3]) & (combined_values[\"镇静、镇痛治疗\"]==name[4]) & (combined_values[\"止吐护胃\"]==name[5]) & (combined_values[\"营养神经\"]==name[6]), \"hm_2\"] = hm_counter[2]\n",
    "    combined_values.loc[(combined_values[\"脑室引流\"]==name[0]) & (combined_values[\"止血治疗\"]==name[1]) & (combined_values[\"降颅压治疗\"]==name[2]) & (combined_values[\"降压治疗\"]==name[3]) & (combined_values[\"镇静、镇痛治疗\"]==name[4]) & (combined_values[\"止吐护胃\"]==name[5]) & (combined_values[\"营养神经\"]==name[6]), \"hm_3\"] = hm_counter[3]\n",
    "    print(val.tolist())"
   ]
  },
  {
   "cell_type": "code",
   "execution_count": 257,
   "id": "a606c9c2-6262-41d3-8019-b5afa73bd0af",
   "metadata": {
    "tags": []
   },
   "outputs": [],
   "source": [
    "sorted_combined_values = combined_values.sort_values(by='counts', ascending=False)\n",
    "# 定义新索引\n",
    "new_index = list('ABCDEFGHIJKLMNOPQR')\n",
    "sorted_combined_values = sorted_combined_values.set_index(pd.Index(new_index))"
   ]
  },
  {
   "cell_type": "code",
   "execution_count": 258,
   "id": "5e702299-dcd0-405d-bd9a-401067aadd6d",
   "metadata": {},
   "outputs": [
    {
     "data": {
      "text/html": [
       "<div>\n",
       "<style scoped>\n",
       "    .dataframe tbody tr th:only-of-type {\n",
       "        vertical-align: middle;\n",
       "    }\n",
       "\n",
       "    .dataframe tbody tr th {\n",
       "        vertical-align: top;\n",
       "    }\n",
       "\n",
       "    .dataframe thead th {\n",
       "        text-align: right;\n",
       "    }\n",
       "</style>\n",
       "<table border=\"1\" class=\"dataframe\">\n",
       "  <thead>\n",
       "    <tr style=\"text-align: right;\">\n",
       "      <th></th>\n",
       "      <th>脑室引流</th>\n",
       "      <th>止血治疗</th>\n",
       "      <th>降颅压治疗</th>\n",
       "      <th>降压治疗</th>\n",
       "      <th>镇静、镇痛治疗</th>\n",
       "      <th>止吐护胃</th>\n",
       "      <th>营养神经</th>\n",
       "      <th>counts</th>\n",
       "      <th>ed_0</th>\n",
       "      <th>ed_1</th>\n",
       "      <th>ed_2</th>\n",
       "      <th>hm_0</th>\n",
       "      <th>hm_1</th>\n",
       "      <th>hm_2</th>\n",
       "      <th>hm_3</th>\n",
       "    </tr>\n",
       "  </thead>\n",
       "  <tbody>\n",
       "    <tr>\n",
       "      <th>A</th>\n",
       "      <td>0</td>\n",
       "      <td>1</td>\n",
       "      <td>1</td>\n",
       "      <td>1</td>\n",
       "      <td>1</td>\n",
       "      <td>1</td>\n",
       "      <td>1</td>\n",
       "      <td>54</td>\n",
       "      <td>18</td>\n",
       "      <td>12</td>\n",
       "      <td>24</td>\n",
       "      <td>7</td>\n",
       "      <td>24</td>\n",
       "      <td>11</td>\n",
       "      <td>12</td>\n",
       "    </tr>\n",
       "    <tr>\n",
       "      <th>B</th>\n",
       "      <td>0</td>\n",
       "      <td>1</td>\n",
       "      <td>0</td>\n",
       "      <td>1</td>\n",
       "      <td>1</td>\n",
       "      <td>1</td>\n",
       "      <td>1</td>\n",
       "      <td>8</td>\n",
       "      <td>1</td>\n",
       "      <td>3</td>\n",
       "      <td>4</td>\n",
       "      <td>1</td>\n",
       "      <td>3</td>\n",
       "      <td>2</td>\n",
       "      <td>2</td>\n",
       "    </tr>\n",
       "    <tr>\n",
       "      <th>C</th>\n",
       "      <td>0</td>\n",
       "      <td>0</td>\n",
       "      <td>0</td>\n",
       "      <td>1</td>\n",
       "      <td>1</td>\n",
       "      <td>1</td>\n",
       "      <td>1</td>\n",
       "      <td>6</td>\n",
       "      <td>2</td>\n",
       "      <td>2</td>\n",
       "      <td>2</td>\n",
       "      <td>2</td>\n",
       "      <td>1</td>\n",
       "      <td>2</td>\n",
       "      <td>1</td>\n",
       "    </tr>\n",
       "    <tr>\n",
       "      <th>D</th>\n",
       "      <td>0</td>\n",
       "      <td>0</td>\n",
       "      <td>0</td>\n",
       "      <td>0</td>\n",
       "      <td>1</td>\n",
       "      <td>1</td>\n",
       "      <td>1</td>\n",
       "      <td>5</td>\n",
       "      <td>0</td>\n",
       "      <td>1</td>\n",
       "      <td>4</td>\n",
       "      <td>0</td>\n",
       "      <td>3</td>\n",
       "      <td>1</td>\n",
       "      <td>1</td>\n",
       "    </tr>\n",
       "    <tr>\n",
       "      <th>E</th>\n",
       "      <td>0</td>\n",
       "      <td>0</td>\n",
       "      <td>1</td>\n",
       "      <td>1</td>\n",
       "      <td>1</td>\n",
       "      <td>1</td>\n",
       "      <td>1</td>\n",
       "      <td>5</td>\n",
       "      <td>3</td>\n",
       "      <td>0</td>\n",
       "      <td>2</td>\n",
       "      <td>1</td>\n",
       "      <td>3</td>\n",
       "      <td>1</td>\n",
       "      <td>0</td>\n",
       "    </tr>\n",
       "    <tr>\n",
       "      <th>F</th>\n",
       "      <td>0</td>\n",
       "      <td>1</td>\n",
       "      <td>1</td>\n",
       "      <td>1</td>\n",
       "      <td>0</td>\n",
       "      <td>1</td>\n",
       "      <td>1</td>\n",
       "      <td>5</td>\n",
       "      <td>1</td>\n",
       "      <td>1</td>\n",
       "      <td>3</td>\n",
       "      <td>1</td>\n",
       "      <td>3</td>\n",
       "      <td>1</td>\n",
       "      <td>0</td>\n",
       "    </tr>\n",
       "    <tr>\n",
       "      <th>G</th>\n",
       "      <td>1</td>\n",
       "      <td>1</td>\n",
       "      <td>1</td>\n",
       "      <td>1</td>\n",
       "      <td>1</td>\n",
       "      <td>1</td>\n",
       "      <td>1</td>\n",
       "      <td>4</td>\n",
       "      <td>0</td>\n",
       "      <td>2</td>\n",
       "      <td>2</td>\n",
       "      <td>1</td>\n",
       "      <td>1</td>\n",
       "      <td>1</td>\n",
       "      <td>1</td>\n",
       "    </tr>\n",
       "    <tr>\n",
       "      <th>H</th>\n",
       "      <td>0</td>\n",
       "      <td>1</td>\n",
       "      <td>1</td>\n",
       "      <td>0</td>\n",
       "      <td>0</td>\n",
       "      <td>1</td>\n",
       "      <td>1</td>\n",
       "      <td>2</td>\n",
       "      <td>0</td>\n",
       "      <td>0</td>\n",
       "      <td>2</td>\n",
       "      <td>1</td>\n",
       "      <td>1</td>\n",
       "      <td>0</td>\n",
       "      <td>0</td>\n",
       "    </tr>\n",
       "    <tr>\n",
       "      <th>I</th>\n",
       "      <td>0</td>\n",
       "      <td>0</td>\n",
       "      <td>1</td>\n",
       "      <td>1</td>\n",
       "      <td>0</td>\n",
       "      <td>1</td>\n",
       "      <td>1</td>\n",
       "      <td>2</td>\n",
       "      <td>1</td>\n",
       "      <td>1</td>\n",
       "      <td>0</td>\n",
       "      <td>0</td>\n",
       "      <td>1</td>\n",
       "      <td>0</td>\n",
       "      <td>1</td>\n",
       "    </tr>\n",
       "    <tr>\n",
       "      <th>J</th>\n",
       "      <td>0</td>\n",
       "      <td>1</td>\n",
       "      <td>1</td>\n",
       "      <td>1</td>\n",
       "      <td>1</td>\n",
       "      <td>1</td>\n",
       "      <td>0</td>\n",
       "      <td>1</td>\n",
       "      <td>1</td>\n",
       "      <td>0</td>\n",
       "      <td>0</td>\n",
       "      <td>0</td>\n",
       "      <td>0</td>\n",
       "      <td>1</td>\n",
       "      <td>0</td>\n",
       "    </tr>\n",
       "    <tr>\n",
       "      <th>K</th>\n",
       "      <td>0</td>\n",
       "      <td>1</td>\n",
       "      <td>0</td>\n",
       "      <td>1</td>\n",
       "      <td>0</td>\n",
       "      <td>1</td>\n",
       "      <td>1</td>\n",
       "      <td>1</td>\n",
       "      <td>0</td>\n",
       "      <td>0</td>\n",
       "      <td>1</td>\n",
       "      <td>0</td>\n",
       "      <td>1</td>\n",
       "      <td>0</td>\n",
       "      <td>0</td>\n",
       "    </tr>\n",
       "    <tr>\n",
       "      <th>L</th>\n",
       "      <td>0</td>\n",
       "      <td>1</td>\n",
       "      <td>0</td>\n",
       "      <td>0</td>\n",
       "      <td>1</td>\n",
       "      <td>1</td>\n",
       "      <td>0</td>\n",
       "      <td>1</td>\n",
       "      <td>0</td>\n",
       "      <td>0</td>\n",
       "      <td>1</td>\n",
       "      <td>0</td>\n",
       "      <td>1</td>\n",
       "      <td>0</td>\n",
       "      <td>0</td>\n",
       "    </tr>\n",
       "    <tr>\n",
       "      <th>M</th>\n",
       "      <td>0</td>\n",
       "      <td>0</td>\n",
       "      <td>1</td>\n",
       "      <td>1</td>\n",
       "      <td>0</td>\n",
       "      <td>1</td>\n",
       "      <td>0</td>\n",
       "      <td>1</td>\n",
       "      <td>1</td>\n",
       "      <td>0</td>\n",
       "      <td>0</td>\n",
       "      <td>0</td>\n",
       "      <td>0</td>\n",
       "      <td>1</td>\n",
       "      <td>0</td>\n",
       "    </tr>\n",
       "    <tr>\n",
       "      <th>N</th>\n",
       "      <td>0</td>\n",
       "      <td>1</td>\n",
       "      <td>1</td>\n",
       "      <td>1</td>\n",
       "      <td>0</td>\n",
       "      <td>0</td>\n",
       "      <td>1</td>\n",
       "      <td>1</td>\n",
       "      <td>0</td>\n",
       "      <td>1</td>\n",
       "      <td>0</td>\n",
       "      <td>0</td>\n",
       "      <td>0</td>\n",
       "      <td>0</td>\n",
       "      <td>1</td>\n",
       "    </tr>\n",
       "    <tr>\n",
       "      <th>O</th>\n",
       "      <td>0</td>\n",
       "      <td>1</td>\n",
       "      <td>0</td>\n",
       "      <td>1</td>\n",
       "      <td>0</td>\n",
       "      <td>0</td>\n",
       "      <td>1</td>\n",
       "      <td>1</td>\n",
       "      <td>1</td>\n",
       "      <td>0</td>\n",
       "      <td>0</td>\n",
       "      <td>1</td>\n",
       "      <td>0</td>\n",
       "      <td>0</td>\n",
       "      <td>0</td>\n",
       "    </tr>\n",
       "    <tr>\n",
       "      <th>P</th>\n",
       "      <td>1</td>\n",
       "      <td>0</td>\n",
       "      <td>0</td>\n",
       "      <td>1</td>\n",
       "      <td>0</td>\n",
       "      <td>1</td>\n",
       "      <td>1</td>\n",
       "      <td>1</td>\n",
       "      <td>0</td>\n",
       "      <td>0</td>\n",
       "      <td>1</td>\n",
       "      <td>0</td>\n",
       "      <td>1</td>\n",
       "      <td>0</td>\n",
       "      <td>0</td>\n",
       "    </tr>\n",
       "    <tr>\n",
       "      <th>Q</th>\n",
       "      <td>0</td>\n",
       "      <td>1</td>\n",
       "      <td>1</td>\n",
       "      <td>1</td>\n",
       "      <td>0</td>\n",
       "      <td>0</td>\n",
       "      <td>0</td>\n",
       "      <td>1</td>\n",
       "      <td>0</td>\n",
       "      <td>0</td>\n",
       "      <td>1</td>\n",
       "      <td>0</td>\n",
       "      <td>0</td>\n",
       "      <td>1</td>\n",
       "      <td>0</td>\n",
       "    </tr>\n",
       "    <tr>\n",
       "      <th>R</th>\n",
       "      <td>1</td>\n",
       "      <td>0</td>\n",
       "      <td>0</td>\n",
       "      <td>1</td>\n",
       "      <td>1</td>\n",
       "      <td>1</td>\n",
       "      <td>1</td>\n",
       "      <td>1</td>\n",
       "      <td>1</td>\n",
       "      <td>0</td>\n",
       "      <td>0</td>\n",
       "      <td>1</td>\n",
       "      <td>0</td>\n",
       "      <td>0</td>\n",
       "      <td>0</td>\n",
       "    </tr>\n",
       "  </tbody>\n",
       "</table>\n",
       "</div>"
      ],
      "text/plain": [
       "   脑室引流  止血治疗  降颅压治疗  降压治疗  镇静、镇痛治疗  止吐护胃  营养神经  counts  ed_0  ed_1  ed_2  \\\n",
       "A     0     1      1     1        1     1     1      54    18    12    24   \n",
       "B     0     1      0     1        1     1     1       8     1     3     4   \n",
       "C     0     0      0     1        1     1     1       6     2     2     2   \n",
       "D     0     0      0     0        1     1     1       5     0     1     4   \n",
       "E     0     0      1     1        1     1     1       5     3     0     2   \n",
       "F     0     1      1     1        0     1     1       5     1     1     3   \n",
       "G     1     1      1     1        1     1     1       4     0     2     2   \n",
       "H     0     1      1     0        0     1     1       2     0     0     2   \n",
       "I     0     0      1     1        0     1     1       2     1     1     0   \n",
       "J     0     1      1     1        1     1     0       1     1     0     0   \n",
       "K     0     1      0     1        0     1     1       1     0     0     1   \n",
       "L     0     1      0     0        1     1     0       1     0     0     1   \n",
       "M     0     0      1     1        0     1     0       1     1     0     0   \n",
       "N     0     1      1     1        0     0     1       1     0     1     0   \n",
       "O     0     1      0     1        0     0     1       1     1     0     0   \n",
       "P     1     0      0     1        0     1     1       1     0     0     1   \n",
       "Q     0     1      1     1        0     0     0       1     0     0     1   \n",
       "R     1     0      0     1        1     1     1       1     1     0     0   \n",
       "\n",
       "   hm_0  hm_1  hm_2  hm_3  \n",
       "A     7    24    11    12  \n",
       "B     1     3     2     2  \n",
       "C     2     1     2     1  \n",
       "D     0     3     1     1  \n",
       "E     1     3     1     0  \n",
       "F     1     3     1     0  \n",
       "G     1     1     1     1  \n",
       "H     1     1     0     0  \n",
       "I     0     1     0     1  \n",
       "J     0     0     1     0  \n",
       "K     0     1     0     0  \n",
       "L     0     1     0     0  \n",
       "M     0     0     1     0  \n",
       "N     0     0     0     1  \n",
       "O     1     0     0     0  \n",
       "P     0     1     0     0  \n",
       "Q     0     0     1     0  \n",
       "R     1     0     0     0  "
      ]
     },
     "execution_count": 258,
     "metadata": {},
     "output_type": "execute_result"
    }
   ],
   "source": [
    "sorted_combined_values"
   ]
  },
  {
   "cell_type": "code",
   "execution_count": 273,
   "id": "12b90a10-117d-46ea-a730-3deb0d791ebb",
   "metadata": {},
   "outputs": [],
   "source": [
    "sorted_combined_values.to_excel(\"remedy_counts.xlsx\", index=False)"
   ]
  },
  {
   "cell_type": "code",
   "execution_count": 136,
   "id": "8740aa07-b5a9-48a8-bc8a-e093500cc247",
   "metadata": {},
   "outputs": [
    {
     "data": {
      "text/plain": [
       "[54, 8, 6, 5, 5, 5, 4, 2, 2, 1, 1, 1, 1, 1, 1, 1, 1, 1]"
      ]
     },
     "execution_count": 136,
     "metadata": {},
     "output_type": "execute_result"
    }
   ],
   "source": [
    "sorted_combined_values[\"counts\"].tolist()"
   ]
  },
  {
   "cell_type": "code",
   "execution_count": null,
   "id": "827f94fb-d75b-497d-ae4c-ecaadca80c1b",
   "metadata": {},
   "outputs": [
    {
     "data": {
      "text/plain": [
       "count    18.000000\n",
       "mean      5.555556\n",
       "std      12.291663\n",
       "min       1.000000\n",
       "25%       1.000000\n",
       "50%       1.500000\n",
       "75%       5.000000\n",
       "max      54.000000\n",
       "Name: counts, dtype: float64"
      ]
     },
     "execution_count": 101,
     "metadata": {},
     "output_type": "execute_result"
    }
   ],
   "source": [
    "sorted_combined_values[\"counts\"].describe()"
   ]
  },
  {
   "cell_type": "code",
   "execution_count": null,
   "id": "73a4c45a-206a-48b0-ab5f-045516e509b3",
   "metadata": {},
   "outputs": [
    {
     "data": {
      "text/plain": [
       "count    28.000000\n",
       "mean      5.714286\n",
       "std      11.414277\n",
       "min       1.000000\n",
       "25%       1.000000\n",
       "50%       2.000000\n",
       "75%       5.500000\n",
       "max      61.000000\n",
       "Name: counts, dtype: float64"
      ]
     },
     "execution_count": 71,
     "metadata": {},
     "output_type": "execute_result"
    }
   ],
   "source": [
    "combined_values[\"counts\"].describeribe()"
   ]
  },
  {
   "cell_type": "code",
   "execution_count": null,
   "id": "2c918b7d-582c-461d-a893-81a1133aaddd",
   "metadata": {},
   "outputs": [],
   "source": [
    "[\"counts\"] = group.shape[0]"
   ]
  },
  {
   "cell_type": "code",
   "execution_count": 185,
   "id": "7e37dda3-b902-442f-bc80-a7f85abfa7d3",
   "metadata": {},
   "outputs": [],
   "source": [
    "# 生成水肿桑基图数据\n",
    "source_ed = []\n",
    "target_ed = []\n",
    "val_ed = []\n",
    "for i, data in sorted_combined_values.iterrows():\n",
    "    # 序号：ord(i)-65\n",
    "    \n",
    "    idx = ord(i)-65\n",
    "    \n",
    "    if data.ed_0 > 0:\n",
    "        source_ed.append(ord(i)-65)\n",
    "        target_ed.append(20)\n",
    "        val_ed.append(data.ed_0)\n",
    "    \n",
    "    if data.ed_1 > 0:\n",
    "        source_ed.append(ord(i)-65)\n",
    "        target_ed.append(19)\n",
    "        val_ed.append(data.ed_1)\n",
    "    \n",
    "    if data.ed_2 > 0:\n",
    "        source_ed.append(ord(i)-65)\n",
    "        target_ed.append(18)\n",
    "        val_ed.append(data.ed_2)"
   ]
  },
  {
   "cell_type": "code",
   "execution_count": 259,
   "id": "4472bcfd-34b9-4c15-8ccb-174d13479cfb",
   "metadata": {},
   "outputs": [],
   "source": [
    "# 生成血肿桑基图数据\n",
    "source_hm = []\n",
    "target_hm = []\n",
    "val_hm = []\n",
    "for i, data in sorted_combined_values.iterrows():\n",
    "    # 序号：ord(i)-65\n",
    "    \n",
    "    idx = ord(i)-65\n",
    "    \n",
    "    if data.hm_0 > 0:\n",
    "        source_hm.append(ord(i)-65)\n",
    "        target_hm.append(21)\n",
    "        val_hm.append(data.hm_0)\n",
    "    \n",
    "    if data.hm_1 > 0:\n",
    "        source_hm.append(ord(i)-65)\n",
    "        target_hm.append(20)\n",
    "        val_hm.append(data.hm_1)\n",
    "    \n",
    "    if data.hm_2 > 0:\n",
    "        source_hm.append(ord(i)-65)\n",
    "        target_hm.append(19)\n",
    "        val_hm.append(data.hm_2)\n",
    "        \n",
    "    if data.hm_2 > 0:\n",
    "        source_hm.append(ord(i)-65)\n",
    "        target_hm.append(18)\n",
    "        val_hm.append(data.hm_2)"
   ]
  },
  {
   "cell_type": "code",
   "execution_count": 262,
   "id": "733efe5b-6ea6-45dc-9e87-1c3377fa8c22",
   "metadata": {},
   "outputs": [
    {
     "data": {
      "text/html": [
       "<div>\n",
       "<style scoped>\n",
       "    .dataframe tbody tr th:only-of-type {\n",
       "        vertical-align: middle;\n",
       "    }\n",
       "\n",
       "    .dataframe tbody tr th {\n",
       "        vertical-align: top;\n",
       "    }\n",
       "\n",
       "    .dataframe thead th {\n",
       "        text-align: right;\n",
       "    }\n",
       "</style>\n",
       "<table border=\"1\" class=\"dataframe\">\n",
       "  <thead>\n",
       "    <tr style=\"text-align: right;\">\n",
       "      <th></th>\n",
       "      <th>脑室引流</th>\n",
       "      <th>止血治疗</th>\n",
       "      <th>降颅压治疗</th>\n",
       "      <th>降压治疗</th>\n",
       "      <th>镇静、镇痛治疗</th>\n",
       "      <th>止吐护胃</th>\n",
       "      <th>营养神经</th>\n",
       "      <th>counts</th>\n",
       "      <th>ed_0</th>\n",
       "      <th>ed_1</th>\n",
       "      <th>ed_2</th>\n",
       "      <th>hm_0</th>\n",
       "      <th>hm_1</th>\n",
       "      <th>hm_2</th>\n",
       "      <th>hm_3</th>\n",
       "    </tr>\n",
       "  </thead>\n",
       "  <tbody>\n",
       "    <tr>\n",
       "      <th>A</th>\n",
       "      <td>0</td>\n",
       "      <td>1</td>\n",
       "      <td>1</td>\n",
       "      <td>1</td>\n",
       "      <td>1</td>\n",
       "      <td>1</td>\n",
       "      <td>1</td>\n",
       "      <td>54</td>\n",
       "      <td>18</td>\n",
       "      <td>12</td>\n",
       "      <td>24</td>\n",
       "      <td>7</td>\n",
       "      <td>24</td>\n",
       "      <td>11</td>\n",
       "      <td>12</td>\n",
       "    </tr>\n",
       "    <tr>\n",
       "      <th>B</th>\n",
       "      <td>0</td>\n",
       "      <td>1</td>\n",
       "      <td>0</td>\n",
       "      <td>1</td>\n",
       "      <td>1</td>\n",
       "      <td>1</td>\n",
       "      <td>1</td>\n",
       "      <td>8</td>\n",
       "      <td>1</td>\n",
       "      <td>3</td>\n",
       "      <td>4</td>\n",
       "      <td>1</td>\n",
       "      <td>3</td>\n",
       "      <td>2</td>\n",
       "      <td>2</td>\n",
       "    </tr>\n",
       "    <tr>\n",
       "      <th>C</th>\n",
       "      <td>0</td>\n",
       "      <td>0</td>\n",
       "      <td>0</td>\n",
       "      <td>1</td>\n",
       "      <td>1</td>\n",
       "      <td>1</td>\n",
       "      <td>1</td>\n",
       "      <td>6</td>\n",
       "      <td>2</td>\n",
       "      <td>2</td>\n",
       "      <td>2</td>\n",
       "      <td>2</td>\n",
       "      <td>1</td>\n",
       "      <td>2</td>\n",
       "      <td>1</td>\n",
       "    </tr>\n",
       "    <tr>\n",
       "      <th>D</th>\n",
       "      <td>0</td>\n",
       "      <td>0</td>\n",
       "      <td>0</td>\n",
       "      <td>0</td>\n",
       "      <td>1</td>\n",
       "      <td>1</td>\n",
       "      <td>1</td>\n",
       "      <td>5</td>\n",
       "      <td>0</td>\n",
       "      <td>1</td>\n",
       "      <td>4</td>\n",
       "      <td>0</td>\n",
       "      <td>3</td>\n",
       "      <td>1</td>\n",
       "      <td>1</td>\n",
       "    </tr>\n",
       "    <tr>\n",
       "      <th>E</th>\n",
       "      <td>0</td>\n",
       "      <td>0</td>\n",
       "      <td>1</td>\n",
       "      <td>1</td>\n",
       "      <td>1</td>\n",
       "      <td>1</td>\n",
       "      <td>1</td>\n",
       "      <td>5</td>\n",
       "      <td>3</td>\n",
       "      <td>0</td>\n",
       "      <td>2</td>\n",
       "      <td>1</td>\n",
       "      <td>3</td>\n",
       "      <td>1</td>\n",
       "      <td>0</td>\n",
       "    </tr>\n",
       "    <tr>\n",
       "      <th>F</th>\n",
       "      <td>0</td>\n",
       "      <td>1</td>\n",
       "      <td>1</td>\n",
       "      <td>1</td>\n",
       "      <td>0</td>\n",
       "      <td>1</td>\n",
       "      <td>1</td>\n",
       "      <td>5</td>\n",
       "      <td>1</td>\n",
       "      <td>1</td>\n",
       "      <td>3</td>\n",
       "      <td>1</td>\n",
       "      <td>3</td>\n",
       "      <td>1</td>\n",
       "      <td>0</td>\n",
       "    </tr>\n",
       "    <tr>\n",
       "      <th>G</th>\n",
       "      <td>1</td>\n",
       "      <td>1</td>\n",
       "      <td>1</td>\n",
       "      <td>1</td>\n",
       "      <td>1</td>\n",
       "      <td>1</td>\n",
       "      <td>1</td>\n",
       "      <td>4</td>\n",
       "      <td>0</td>\n",
       "      <td>2</td>\n",
       "      <td>2</td>\n",
       "      <td>1</td>\n",
       "      <td>1</td>\n",
       "      <td>1</td>\n",
       "      <td>1</td>\n",
       "    </tr>\n",
       "    <tr>\n",
       "      <th>H</th>\n",
       "      <td>0</td>\n",
       "      <td>1</td>\n",
       "      <td>1</td>\n",
       "      <td>0</td>\n",
       "      <td>0</td>\n",
       "      <td>1</td>\n",
       "      <td>1</td>\n",
       "      <td>2</td>\n",
       "      <td>0</td>\n",
       "      <td>0</td>\n",
       "      <td>2</td>\n",
       "      <td>1</td>\n",
       "      <td>1</td>\n",
       "      <td>0</td>\n",
       "      <td>0</td>\n",
       "    </tr>\n",
       "    <tr>\n",
       "      <th>I</th>\n",
       "      <td>0</td>\n",
       "      <td>0</td>\n",
       "      <td>1</td>\n",
       "      <td>1</td>\n",
       "      <td>0</td>\n",
       "      <td>1</td>\n",
       "      <td>1</td>\n",
       "      <td>2</td>\n",
       "      <td>1</td>\n",
       "      <td>1</td>\n",
       "      <td>0</td>\n",
       "      <td>0</td>\n",
       "      <td>1</td>\n",
       "      <td>0</td>\n",
       "      <td>1</td>\n",
       "    </tr>\n",
       "    <tr>\n",
       "      <th>J</th>\n",
       "      <td>0</td>\n",
       "      <td>1</td>\n",
       "      <td>1</td>\n",
       "      <td>1</td>\n",
       "      <td>1</td>\n",
       "      <td>1</td>\n",
       "      <td>0</td>\n",
       "      <td>1</td>\n",
       "      <td>1</td>\n",
       "      <td>0</td>\n",
       "      <td>0</td>\n",
       "      <td>0</td>\n",
       "      <td>0</td>\n",
       "      <td>1</td>\n",
       "      <td>0</td>\n",
       "    </tr>\n",
       "    <tr>\n",
       "      <th>K</th>\n",
       "      <td>0</td>\n",
       "      <td>1</td>\n",
       "      <td>0</td>\n",
       "      <td>1</td>\n",
       "      <td>0</td>\n",
       "      <td>1</td>\n",
       "      <td>1</td>\n",
       "      <td>1</td>\n",
       "      <td>0</td>\n",
       "      <td>0</td>\n",
       "      <td>1</td>\n",
       "      <td>0</td>\n",
       "      <td>1</td>\n",
       "      <td>0</td>\n",
       "      <td>0</td>\n",
       "    </tr>\n",
       "    <tr>\n",
       "      <th>L</th>\n",
       "      <td>0</td>\n",
       "      <td>1</td>\n",
       "      <td>0</td>\n",
       "      <td>0</td>\n",
       "      <td>1</td>\n",
       "      <td>1</td>\n",
       "      <td>0</td>\n",
       "      <td>1</td>\n",
       "      <td>0</td>\n",
       "      <td>0</td>\n",
       "      <td>1</td>\n",
       "      <td>0</td>\n",
       "      <td>1</td>\n",
       "      <td>0</td>\n",
       "      <td>0</td>\n",
       "    </tr>\n",
       "    <tr>\n",
       "      <th>M</th>\n",
       "      <td>0</td>\n",
       "      <td>0</td>\n",
       "      <td>1</td>\n",
       "      <td>1</td>\n",
       "      <td>0</td>\n",
       "      <td>1</td>\n",
       "      <td>0</td>\n",
       "      <td>1</td>\n",
       "      <td>1</td>\n",
       "      <td>0</td>\n",
       "      <td>0</td>\n",
       "      <td>0</td>\n",
       "      <td>0</td>\n",
       "      <td>1</td>\n",
       "      <td>0</td>\n",
       "    </tr>\n",
       "    <tr>\n",
       "      <th>N</th>\n",
       "      <td>0</td>\n",
       "      <td>1</td>\n",
       "      <td>1</td>\n",
       "      <td>1</td>\n",
       "      <td>0</td>\n",
       "      <td>0</td>\n",
       "      <td>1</td>\n",
       "      <td>1</td>\n",
       "      <td>0</td>\n",
       "      <td>1</td>\n",
       "      <td>0</td>\n",
       "      <td>0</td>\n",
       "      <td>0</td>\n",
       "      <td>0</td>\n",
       "      <td>1</td>\n",
       "    </tr>\n",
       "    <tr>\n",
       "      <th>O</th>\n",
       "      <td>0</td>\n",
       "      <td>1</td>\n",
       "      <td>0</td>\n",
       "      <td>1</td>\n",
       "      <td>0</td>\n",
       "      <td>0</td>\n",
       "      <td>1</td>\n",
       "      <td>1</td>\n",
       "      <td>1</td>\n",
       "      <td>0</td>\n",
       "      <td>0</td>\n",
       "      <td>1</td>\n",
       "      <td>0</td>\n",
       "      <td>0</td>\n",
       "      <td>0</td>\n",
       "    </tr>\n",
       "    <tr>\n",
       "      <th>P</th>\n",
       "      <td>1</td>\n",
       "      <td>0</td>\n",
       "      <td>0</td>\n",
       "      <td>1</td>\n",
       "      <td>0</td>\n",
       "      <td>1</td>\n",
       "      <td>1</td>\n",
       "      <td>1</td>\n",
       "      <td>0</td>\n",
       "      <td>0</td>\n",
       "      <td>1</td>\n",
       "      <td>0</td>\n",
       "      <td>1</td>\n",
       "      <td>0</td>\n",
       "      <td>0</td>\n",
       "    </tr>\n",
       "    <tr>\n",
       "      <th>Q</th>\n",
       "      <td>0</td>\n",
       "      <td>1</td>\n",
       "      <td>1</td>\n",
       "      <td>1</td>\n",
       "      <td>0</td>\n",
       "      <td>0</td>\n",
       "      <td>0</td>\n",
       "      <td>1</td>\n",
       "      <td>0</td>\n",
       "      <td>0</td>\n",
       "      <td>1</td>\n",
       "      <td>0</td>\n",
       "      <td>0</td>\n",
       "      <td>1</td>\n",
       "      <td>0</td>\n",
       "    </tr>\n",
       "    <tr>\n",
       "      <th>R</th>\n",
       "      <td>1</td>\n",
       "      <td>0</td>\n",
       "      <td>0</td>\n",
       "      <td>1</td>\n",
       "      <td>1</td>\n",
       "      <td>1</td>\n",
       "      <td>1</td>\n",
       "      <td>1</td>\n",
       "      <td>1</td>\n",
       "      <td>0</td>\n",
       "      <td>0</td>\n",
       "      <td>1</td>\n",
       "      <td>0</td>\n",
       "      <td>0</td>\n",
       "      <td>0</td>\n",
       "    </tr>\n",
       "  </tbody>\n",
       "</table>\n",
       "</div>"
      ],
      "text/plain": [
       "   脑室引流  止血治疗  降颅压治疗  降压治疗  镇静、镇痛治疗  止吐护胃  营养神经  counts  ed_0  ed_1  ed_2  \\\n",
       "A     0     1      1     1        1     1     1      54    18    12    24   \n",
       "B     0     1      0     1        1     1     1       8     1     3     4   \n",
       "C     0     0      0     1        1     1     1       6     2     2     2   \n",
       "D     0     0      0     0        1     1     1       5     0     1     4   \n",
       "E     0     0      1     1        1     1     1       5     3     0     2   \n",
       "F     0     1      1     1        0     1     1       5     1     1     3   \n",
       "G     1     1      1     1        1     1     1       4     0     2     2   \n",
       "H     0     1      1     0        0     1     1       2     0     0     2   \n",
       "I     0     0      1     1        0     1     1       2     1     1     0   \n",
       "J     0     1      1     1        1     1     0       1     1     0     0   \n",
       "K     0     1      0     1        0     1     1       1     0     0     1   \n",
       "L     0     1      0     0        1     1     0       1     0     0     1   \n",
       "M     0     0      1     1        0     1     0       1     1     0     0   \n",
       "N     0     1      1     1        0     0     1       1     0     1     0   \n",
       "O     0     1      0     1        0     0     1       1     1     0     0   \n",
       "P     1     0      0     1        0     1     1       1     0     0     1   \n",
       "Q     0     1      1     1        0     0     0       1     0     0     1   \n",
       "R     1     0      0     1        1     1     1       1     1     0     0   \n",
       "\n",
       "   hm_0  hm_1  hm_2  hm_3  \n",
       "A     7    24    11    12  \n",
       "B     1     3     2     2  \n",
       "C     2     1     2     1  \n",
       "D     0     3     1     1  \n",
       "E     1     3     1     0  \n",
       "F     1     3     1     0  \n",
       "G     1     1     1     1  \n",
       "H     1     1     0     0  \n",
       "I     0     1     0     1  \n",
       "J     0     0     1     0  \n",
       "K     0     1     0     0  \n",
       "L     0     1     0     0  \n",
       "M     0     0     1     0  \n",
       "N     0     0     0     1  \n",
       "O     1     0     0     0  \n",
       "P     0     1     0     0  \n",
       "Q     0     0     1     0  \n",
       "R     1     0     0     0  "
      ]
     },
     "execution_count": 262,
     "metadata": {},
     "output_type": "execute_result"
    }
   ],
   "source": [
    "sorted_combined_values"
   ]
  },
  {
   "cell_type": "code",
   "execution_count": 270,
   "id": "1a03f104-1516-4adf-baf2-89b9d5c8e7c9",
   "metadata": {},
   "outputs": [],
   "source": [
    "# 生成血肿水肿桑基图数据\n",
    "source_all = []\n",
    "target_all = []\n",
    "val_all = []\n",
    "\n",
    "# 先生成治疗方案到血肿\n",
    "for i, data in sorted_combined_values.iterrows():\n",
    "    # 序号：ord(i)-65\n",
    "    \n",
    "    idx = ord(i)-65\n",
    "    \n",
    "    if data.hm_0 > 0:\n",
    "        source_all.append(ord(i)-65)\n",
    "        target_all.append(21)\n",
    "        val_all.append(data.hm_0)\n",
    "    \n",
    "    if data.hm_1 > 0:\n",
    "        source_all.append(ord(i)-65)\n",
    "        target_all.append(20)\n",
    "        val_all.append(data.hm_1)\n",
    "    \n",
    "    if data.hm_2 > 0:\n",
    "        source_all.append(ord(i)-65)\n",
    "        target_all.append(19)\n",
    "        val_all.append(data.hm_2)\n",
    "        \n",
    "    if data.hm_3 > 0:\n",
    "        source_all.append(ord(i)-65)\n",
    "        target_all.append(18)\n",
    "        val_all.append(data.hm_2)\n",
    "\n",
    "# 再生成血肿到水肿\n",
    "\n",
    "ed_sankey_dict = {2:22, 1:23, 0:24}\n",
    "hm_sankey_dict = {3:18, 2:19, 1:20, 0:21}\n",
    "\n",
    "for i in range(4): # 对应血肿 0123 （下面的排序是：优良中差）\n",
    "    for j in range(3): # 对应水肿 012（下面的排序是：良中差）\n",
    "        val = tab_1_100.loc[(tab_1_100[\"hm\"] == i) & (tab_1_100[\"ed\"] == j)].shape[0]\n",
    "        if val > 0:\n",
    "            source_all.append(hm_sankey_dict[i])\n",
    "            target_all.append(ed_sankey_dict[j])\n",
    "            val_all.append(val)"
   ]
  },
  {
   "cell_type": "code",
   "execution_count": 271,
   "id": "ca9edf25-8eac-4015-a86e-0972bdd1c453",
   "metadata": {},
   "outputs": [
    {
     "data": {
      "text/plain": [
       "[7,\n",
       " 24,\n",
       " 11,\n",
       " 11,\n",
       " 1,\n",
       " 3,\n",
       " 2,\n",
       " 2,\n",
       " 2,\n",
       " 1,\n",
       " 2,\n",
       " 2,\n",
       " 3,\n",
       " 1,\n",
       " 1,\n",
       " 1,\n",
       " 3,\n",
       " 1,\n",
       " 1,\n",
       " 3,\n",
       " 1,\n",
       " 1,\n",
       " 1,\n",
       " 1,\n",
       " 1,\n",
       " 1,\n",
       " 1,\n",
       " 1,\n",
       " 0,\n",
       " 1,\n",
       " 1,\n",
       " 1,\n",
       " 1,\n",
       " 0,\n",
       " 1,\n",
       " 1,\n",
       " 1,\n",
       " 1,\n",
       " 5,\n",
       " 9,\n",
       " 2,\n",
       " 11,\n",
       " 32,\n",
       " 14,\n",
       " 8,\n",
       " 14,\n",
       " 5]"
      ]
     },
     "execution_count": 271,
     "metadata": {},
     "output_type": "execute_result"
    }
   ],
   "source": [
    "val_all"
   ]
  },
  {
   "cell_type": "markdown",
   "id": "ee19985a-1f24-4067-9811-d31ffe8bac5d",
   "metadata": {},
   "source": [
    "### 桑基图可视化水肿体积进展"
   ]
  },
  {
   "cell_type": "code",
   "execution_count": 186,
   "id": "21129931-0f17-4a33-b002-40fa44cf3644",
   "metadata": {},
   "outputs": [
    {
     "data": {
      "application/vnd.plotly.v1+json": {
       "config": {
        "plotlyServerURL": "https://plot.ly"
       },
       "data": [
        {
         "link": {
          "source": [
           0,
           0,
           0,
           1,
           1,
           1,
           2,
           2,
           2,
           3,
           3,
           4,
           4,
           5,
           5,
           5,
           6,
           6,
           7,
           8,
           8,
           9,
           10,
           11,
           12,
           13,
           14,
           15,
           16,
           17
          ],
          "target": [
           20,
           19,
           18,
           20,
           19,
           18,
           20,
           19,
           18,
           19,
           18,
           20,
           18,
           20,
           19,
           18,
           19,
           18,
           18,
           20,
           19,
           20,
           18,
           18,
           20,
           19,
           20,
           18,
           18,
           20
          ],
          "value": [
           18,
           12,
           24,
           1,
           3,
           4,
           2,
           2,
           2,
           1,
           4,
           3,
           2,
           1,
           1,
           3,
           2,
           2,
           2,
           1,
           1,
           1,
           1,
           1,
           1,
           1,
           1,
           1,
           1,
           1
          ]
         },
         "node": {
          "label": [
           "A",
           "B",
           "C",
           "D",
           "E",
           "F",
           "G",
           "H",
           "I",
           "J",
           "K",
           "L",
           "M",
           "N",
           "O",
           "P",
           "Q",
           "R",
           "良",
           "中",
           "差"
          ],
          "x": [
           0.011904761904761904,
           0.011904761904761904,
           0.011904761904761904,
           0.011904761904761904,
           0.011904761904761904,
           0.011904761904761904,
           0.011904761904761904,
           0.011904761904761904,
           0.011904761904761904,
           0.011904761904761904,
           0.011904761904761904,
           0.011904761904761904,
           0.011904761904761904,
           0.011904761904761904,
           0.011904761904761904,
           0.011904761904761904,
           0.011904761904761904,
           0.011904761904761904,
           0.986904761904762,
           0.9857142857142858,
           0.9916666666666667
          ],
          "y": [
           0.3619607843137255,
           0.5570588235294118,
           0.6754901960784313,
           0.22441176470588234,
           0.7755882352941177,
           0.6179411764705883,
           0.49784313725490204,
           0.003333333333333381,
           0.8264705882352942,
           0.870686274509804,
           0.04754901960784327,
           0.09009803921568642,
           0.913235294117647,
           0.7263725490196078,
           0.9557843137254902,
           0.1326470588235295,
           0.17519607843137258,
           0.9983333333333334,
           0.07357142857142855,
           0.537783825448695,
           0.95
          ]
         },
         "type": "sankey"
        }
       ],
       "layout": {
        "font": {
         "size": 16
        },
        "height": 600,
        "template": {
         "data": {
          "bar": [
           {
            "error_x": {
             "color": "#2a3f5f"
            },
            "error_y": {
             "color": "#2a3f5f"
            },
            "marker": {
             "line": {
              "color": "#E5ECF6",
              "width": 0.5
             },
             "pattern": {
              "fillmode": "overlay",
              "size": 10,
              "solidity": 0.2
             }
            },
            "type": "bar"
           }
          ],
          "barpolar": [
           {
            "marker": {
             "line": {
              "color": "#E5ECF6",
              "width": 0.5
             },
             "pattern": {
              "fillmode": "overlay",
              "size": 10,
              "solidity": 0.2
             }
            },
            "type": "barpolar"
           }
          ],
          "carpet": [
           {
            "aaxis": {
             "endlinecolor": "#2a3f5f",
             "gridcolor": "white",
             "linecolor": "white",
             "minorgridcolor": "white",
             "startlinecolor": "#2a3f5f"
            },
            "baxis": {
             "endlinecolor": "#2a3f5f",
             "gridcolor": "white",
             "linecolor": "white",
             "minorgridcolor": "white",
             "startlinecolor": "#2a3f5f"
            },
            "type": "carpet"
           }
          ],
          "choropleth": [
           {
            "colorbar": {
             "outlinewidth": 0,
             "ticks": ""
            },
            "type": "choropleth"
           }
          ],
          "contour": [
           {
            "colorbar": {
             "outlinewidth": 0,
             "ticks": ""
            },
            "colorscale": [
             [
              0,
              "#0d0887"
             ],
             [
              0.1111111111111111,
              "#46039f"
             ],
             [
              0.2222222222222222,
              "#7201a8"
             ],
             [
              0.3333333333333333,
              "#9c179e"
             ],
             [
              0.4444444444444444,
              "#bd3786"
             ],
             [
              0.5555555555555556,
              "#d8576b"
             ],
             [
              0.6666666666666666,
              "#ed7953"
             ],
             [
              0.7777777777777778,
              "#fb9f3a"
             ],
             [
              0.8888888888888888,
              "#fdca26"
             ],
             [
              1,
              "#f0f921"
             ]
            ],
            "type": "contour"
           }
          ],
          "contourcarpet": [
           {
            "colorbar": {
             "outlinewidth": 0,
             "ticks": ""
            },
            "type": "contourcarpet"
           }
          ],
          "heatmap": [
           {
            "colorbar": {
             "outlinewidth": 0,
             "ticks": ""
            },
            "colorscale": [
             [
              0,
              "#0d0887"
             ],
             [
              0.1111111111111111,
              "#46039f"
             ],
             [
              0.2222222222222222,
              "#7201a8"
             ],
             [
              0.3333333333333333,
              "#9c179e"
             ],
             [
              0.4444444444444444,
              "#bd3786"
             ],
             [
              0.5555555555555556,
              "#d8576b"
             ],
             [
              0.6666666666666666,
              "#ed7953"
             ],
             [
              0.7777777777777778,
              "#fb9f3a"
             ],
             [
              0.8888888888888888,
              "#fdca26"
             ],
             [
              1,
              "#f0f921"
             ]
            ],
            "type": "heatmap"
           }
          ],
          "heatmapgl": [
           {
            "colorbar": {
             "outlinewidth": 0,
             "ticks": ""
            },
            "colorscale": [
             [
              0,
              "#0d0887"
             ],
             [
              0.1111111111111111,
              "#46039f"
             ],
             [
              0.2222222222222222,
              "#7201a8"
             ],
             [
              0.3333333333333333,
              "#9c179e"
             ],
             [
              0.4444444444444444,
              "#bd3786"
             ],
             [
              0.5555555555555556,
              "#d8576b"
             ],
             [
              0.6666666666666666,
              "#ed7953"
             ],
             [
              0.7777777777777778,
              "#fb9f3a"
             ],
             [
              0.8888888888888888,
              "#fdca26"
             ],
             [
              1,
              "#f0f921"
             ]
            ],
            "type": "heatmapgl"
           }
          ],
          "histogram": [
           {
            "marker": {
             "pattern": {
              "fillmode": "overlay",
              "size": 10,
              "solidity": 0.2
             }
            },
            "type": "histogram"
           }
          ],
          "histogram2d": [
           {
            "colorbar": {
             "outlinewidth": 0,
             "ticks": ""
            },
            "colorscale": [
             [
              0,
              "#0d0887"
             ],
             [
              0.1111111111111111,
              "#46039f"
             ],
             [
              0.2222222222222222,
              "#7201a8"
             ],
             [
              0.3333333333333333,
              "#9c179e"
             ],
             [
              0.4444444444444444,
              "#bd3786"
             ],
             [
              0.5555555555555556,
              "#d8576b"
             ],
             [
              0.6666666666666666,
              "#ed7953"
             ],
             [
              0.7777777777777778,
              "#fb9f3a"
             ],
             [
              0.8888888888888888,
              "#fdca26"
             ],
             [
              1,
              "#f0f921"
             ]
            ],
            "type": "histogram2d"
           }
          ],
          "histogram2dcontour": [
           {
            "colorbar": {
             "outlinewidth": 0,
             "ticks": ""
            },
            "colorscale": [
             [
              0,
              "#0d0887"
             ],
             [
              0.1111111111111111,
              "#46039f"
             ],
             [
              0.2222222222222222,
              "#7201a8"
             ],
             [
              0.3333333333333333,
              "#9c179e"
             ],
             [
              0.4444444444444444,
              "#bd3786"
             ],
             [
              0.5555555555555556,
              "#d8576b"
             ],
             [
              0.6666666666666666,
              "#ed7953"
             ],
             [
              0.7777777777777778,
              "#fb9f3a"
             ],
             [
              0.8888888888888888,
              "#fdca26"
             ],
             [
              1,
              "#f0f921"
             ]
            ],
            "type": "histogram2dcontour"
           }
          ],
          "mesh3d": [
           {
            "colorbar": {
             "outlinewidth": 0,
             "ticks": ""
            },
            "type": "mesh3d"
           }
          ],
          "parcoords": [
           {
            "line": {
             "colorbar": {
              "outlinewidth": 0,
              "ticks": ""
             }
            },
            "type": "parcoords"
           }
          ],
          "pie": [
           {
            "automargin": true,
            "type": "pie"
           }
          ],
          "scatter": [
           {
            "fillpattern": {
             "fillmode": "overlay",
             "size": 10,
             "solidity": 0.2
            },
            "type": "scatter"
           }
          ],
          "scatter3d": [
           {
            "line": {
             "colorbar": {
              "outlinewidth": 0,
              "ticks": ""
             }
            },
            "marker": {
             "colorbar": {
              "outlinewidth": 0,
              "ticks": ""
             }
            },
            "type": "scatter3d"
           }
          ],
          "scattercarpet": [
           {
            "marker": {
             "colorbar": {
              "outlinewidth": 0,
              "ticks": ""
             }
            },
            "type": "scattercarpet"
           }
          ],
          "scattergeo": [
           {
            "marker": {
             "colorbar": {
              "outlinewidth": 0,
              "ticks": ""
             }
            },
            "type": "scattergeo"
           }
          ],
          "scattergl": [
           {
            "marker": {
             "colorbar": {
              "outlinewidth": 0,
              "ticks": ""
             }
            },
            "type": "scattergl"
           }
          ],
          "scattermapbox": [
           {
            "marker": {
             "colorbar": {
              "outlinewidth": 0,
              "ticks": ""
             }
            },
            "type": "scattermapbox"
           }
          ],
          "scatterpolar": [
           {
            "marker": {
             "colorbar": {
              "outlinewidth": 0,
              "ticks": ""
             }
            },
            "type": "scatterpolar"
           }
          ],
          "scatterpolargl": [
           {
            "marker": {
             "colorbar": {
              "outlinewidth": 0,
              "ticks": ""
             }
            },
            "type": "scatterpolargl"
           }
          ],
          "scatterternary": [
           {
            "marker": {
             "colorbar": {
              "outlinewidth": 0,
              "ticks": ""
             }
            },
            "type": "scatterternary"
           }
          ],
          "surface": [
           {
            "colorbar": {
             "outlinewidth": 0,
             "ticks": ""
            },
            "colorscale": [
             [
              0,
              "#0d0887"
             ],
             [
              0.1111111111111111,
              "#46039f"
             ],
             [
              0.2222222222222222,
              "#7201a8"
             ],
             [
              0.3333333333333333,
              "#9c179e"
             ],
             [
              0.4444444444444444,
              "#bd3786"
             ],
             [
              0.5555555555555556,
              "#d8576b"
             ],
             [
              0.6666666666666666,
              "#ed7953"
             ],
             [
              0.7777777777777778,
              "#fb9f3a"
             ],
             [
              0.8888888888888888,
              "#fdca26"
             ],
             [
              1,
              "#f0f921"
             ]
            ],
            "type": "surface"
           }
          ],
          "table": [
           {
            "cells": {
             "fill": {
              "color": "#EBF0F8"
             },
             "line": {
              "color": "white"
             }
            },
            "header": {
             "fill": {
              "color": "#C8D4E3"
             },
             "line": {
              "color": "white"
             }
            },
            "type": "table"
           }
          ]
         },
         "layout": {
          "annotationdefaults": {
           "arrowcolor": "#2a3f5f",
           "arrowhead": 0,
           "arrowwidth": 1
          },
          "autotypenumbers": "strict",
          "coloraxis": {
           "colorbar": {
            "outlinewidth": 0,
            "ticks": ""
           }
          },
          "colorscale": {
           "diverging": [
            [
             0,
             "#8e0152"
            ],
            [
             0.1,
             "#c51b7d"
            ],
            [
             0.2,
             "#de77ae"
            ],
            [
             0.3,
             "#f1b6da"
            ],
            [
             0.4,
             "#fde0ef"
            ],
            [
             0.5,
             "#f7f7f7"
            ],
            [
             0.6,
             "#e6f5d0"
            ],
            [
             0.7,
             "#b8e186"
            ],
            [
             0.8,
             "#7fbc41"
            ],
            [
             0.9,
             "#4d9221"
            ],
            [
             1,
             "#276419"
            ]
           ],
           "sequential": [
            [
             0,
             "#0d0887"
            ],
            [
             0.1111111111111111,
             "#46039f"
            ],
            [
             0.2222222222222222,
             "#7201a8"
            ],
            [
             0.3333333333333333,
             "#9c179e"
            ],
            [
             0.4444444444444444,
             "#bd3786"
            ],
            [
             0.5555555555555556,
             "#d8576b"
            ],
            [
             0.6666666666666666,
             "#ed7953"
            ],
            [
             0.7777777777777778,
             "#fb9f3a"
            ],
            [
             0.8888888888888888,
             "#fdca26"
            ],
            [
             1,
             "#f0f921"
            ]
           ],
           "sequentialminus": [
            [
             0,
             "#0d0887"
            ],
            [
             0.1111111111111111,
             "#46039f"
            ],
            [
             0.2222222222222222,
             "#7201a8"
            ],
            [
             0.3333333333333333,
             "#9c179e"
            ],
            [
             0.4444444444444444,
             "#bd3786"
            ],
            [
             0.5555555555555556,
             "#d8576b"
            ],
            [
             0.6666666666666666,
             "#ed7953"
            ],
            [
             0.7777777777777778,
             "#fb9f3a"
            ],
            [
             0.8888888888888888,
             "#fdca26"
            ],
            [
             1,
             "#f0f921"
            ]
           ]
          },
          "colorway": [
           "#636efa",
           "#EF553B",
           "#00cc96",
           "#ab63fa",
           "#FFA15A",
           "#19d3f3",
           "#FF6692",
           "#B6E880",
           "#FF97FF",
           "#FECB52"
          ],
          "font": {
           "color": "#2a3f5f"
          },
          "geo": {
           "bgcolor": "white",
           "lakecolor": "white",
           "landcolor": "#E5ECF6",
           "showlakes": true,
           "showland": true,
           "subunitcolor": "white"
          },
          "hoverlabel": {
           "align": "left"
          },
          "hovermode": "closest",
          "mapbox": {
           "style": "light"
          },
          "paper_bgcolor": "white",
          "plot_bgcolor": "#E5ECF6",
          "polar": {
           "angularaxis": {
            "gridcolor": "white",
            "linecolor": "white",
            "ticks": ""
           },
           "bgcolor": "#E5ECF6",
           "radialaxis": {
            "gridcolor": "white",
            "linecolor": "white",
            "ticks": ""
           }
          },
          "scene": {
           "xaxis": {
            "backgroundcolor": "#E5ECF6",
            "gridcolor": "white",
            "gridwidth": 2,
            "linecolor": "white",
            "showbackground": true,
            "ticks": "",
            "zerolinecolor": "white"
           },
           "yaxis": {
            "backgroundcolor": "#E5ECF6",
            "gridcolor": "white",
            "gridwidth": 2,
            "linecolor": "white",
            "showbackground": true,
            "ticks": "",
            "zerolinecolor": "white"
           },
           "zaxis": {
            "backgroundcolor": "#E5ECF6",
            "gridcolor": "white",
            "gridwidth": 2,
            "linecolor": "white",
            "showbackground": true,
            "ticks": "",
            "zerolinecolor": "white"
           }
          },
          "shapedefaults": {
           "line": {
            "color": "#2a3f5f"
           }
          },
          "ternary": {
           "aaxis": {
            "gridcolor": "white",
            "linecolor": "white",
            "ticks": ""
           },
           "baxis": {
            "gridcolor": "white",
            "linecolor": "white",
            "ticks": ""
           },
           "bgcolor": "#E5ECF6",
           "caxis": {
            "gridcolor": "white",
            "linecolor": "white",
            "ticks": ""
           }
          },
          "title": {
           "x": 0.05
          },
          "xaxis": {
           "automargin": true,
           "gridcolor": "white",
           "linecolor": "white",
           "ticks": "",
           "title": {
            "standoff": 15
           },
           "zerolinecolor": "white",
           "zerolinewidth": 2
          },
          "yaxis": {
           "automargin": true,
           "gridcolor": "white",
           "linecolor": "white",
           "ticks": "",
           "title": {
            "standoff": 15
           },
           "zerolinecolor": "white",
           "zerolinewidth": 2
          }
         }
        },
        "width": 1000
       }
      },
      "image/png": "[encoded data removed]",
      "text/html": [
       "<div>                            <div id=\"8490164f-96e9-4253-8eb9-6022544c5f4d\" class=\"plotly-graph-div\" style=\"height:600px; width:1000px;\"></div>            <script type=\"text/javascript\">                require([\"plotly\"], function(Plotly) {                    window.PLOTLYENV=window.PLOTLYENV || {};                                    if (document.getElementById(\"8490164f-96e9-4253-8eb9-6022544c5f4d\")) {                    Plotly.newPlot(                        \"8490164f-96e9-4253-8eb9-6022544c5f4d\",                        [{\"link\":{\"source\":[0,0,0,1,1,1,2,2,2,3,3,4,4,5,5,5,6,6,7,8,8,9,10,11,12,13,14,15,16,17],\"target\":[20,19,18,20,19,18,20,19,18,19,18,20,18,20,19,18,19,18,18,20,19,20,18,18,20,19,20,18,18,20],\"value\":[18,12,24,1,3,4,2,2,2,1,4,3,2,1,1,3,2,2,2,1,1,1,1,1,1,1,1,1,1,1]},\"node\":{\"label\":[\"A\",\"B\",\"C\",\"D\",\"E\",\"F\",\"G\",\"H\",\"I\",\"J\",\"K\",\"L\",\"M\",\"N\",\"O\",\"P\",\"Q\",\"R\",\"\\u826f\",\"\\u4e2d\",\"\\u5dee\"]},\"type\":\"sankey\"}],                        {\"template\":{\"data\":{\"histogram2dcontour\":[{\"type\":\"histogram2dcontour\",\"colorbar\":{\"outlinewidth\":0,\"ticks\":\"\"},\"colorscale\":[[0.0,\"#0d0887\"],[0.1111111111111111,\"#46039f\"],[0.2222222222222222,\"#7201a8\"],[0.3333333333333333,\"#9c179e\"],[0.4444444444444444,\"#bd3786\"],[0.5555555555555556,\"#d8576b\"],[0.6666666666666666,\"#ed7953\"],[0.7777777777777778,\"#fb9f3a\"],[0.8888888888888888,\"#fdca26\"],[1.0,\"#f0f921\"]]}],\"choropleth\":[{\"type\":\"choropleth\",\"colorbar\":{\"outlinewidth\":0,\"ticks\":\"\"}}],\"histogram2d\":[{\"type\":\"histogram2d\",\"colorbar\":{\"outlinewidth\":0,\"ticks\":\"\"},\"colorscale\":[[0.0,\"#0d0887\"],[0.1111111111111111,\"#46039f\"],[0.2222222222222222,\"#7201a8\"],[0.3333333333333333,\"#9c179e\"],[0.4444444444444444,\"#bd3786\"],[0.5555555555555556,\"#d8576b\"],[0.6666666666666666,\"#ed7953\"],[0.7777777777777778,\"#fb9f3a\"],[0.8888888888888888,\"#fdca26\"],[1.0,\"#f0f921\"]]}],\"heatmap\":[{\"type\":\"heatmap\",\"colorbar\":{\"outlinewidth\":0,\"ticks\":\"\"},\"colorscale\":[[0.0,\"#0d0887\"],[0.1111111111111111,\"#46039f\"],[0.2222222222222222,\"#7201a8\"],[0.3333333333333333,\"#9c179e\"],[0.4444444444444444,\"#bd3786\"],[0.5555555555555556,\"#d8576b\"],[0.6666666666666666,\"#ed7953\"],[0.7777777777777778,\"#fb9f3a\"],[0.8888888888888888,\"#fdca26\"],[1.0,\"#f0f921\"]]}],\"heatmapgl\":[{\"type\":\"heatmapgl\",\"colorbar\":{\"outlinewidth\":0,\"ticks\":\"\"},\"colorscale\":[[0.0,\"#0d0887\"],[0.1111111111111111,\"#46039f\"],[0.2222222222222222,\"#7201a8\"],[0.3333333333333333,\"#9c179e\"],[0.4444444444444444,\"#bd3786\"],[0.5555555555555556,\"#d8576b\"],[0.6666666666666666,\"#ed7953\"],[0.7777777777777778,\"#fb9f3a\"],[0.8888888888888888,\"#fdca26\"],[1.0,\"#f0f921\"]]}],\"contourcarpet\":[{\"type\":\"contourcarpet\",\"colorbar\":{\"outlinewidth\":0,\"ticks\":\"\"}}],\"contour\":[{\"type\":\"contour\",\"colorbar\":{\"outlinewidth\":0,\"ticks\":\"\"},\"colorscale\":[[0.0,\"#0d0887\"],[0.1111111111111111,\"#46039f\"],[0.2222222222222222,\"#7201a8\"],[0.3333333333333333,\"#9c179e\"],[0.4444444444444444,\"#bd3786\"],[0.5555555555555556,\"#d8576b\"],[0.6666666666666666,\"#ed7953\"],[0.7777777777777778,\"#fb9f3a\"],[0.8888888888888888,\"#fdca26\"],[1.0,\"#f0f921\"]]}],\"surface\":[{\"type\":\"surface\",\"colorbar\":{\"outlinewidth\":0,\"ticks\":\"\"},\"colorscale\":[[0.0,\"#0d0887\"],[0.1111111111111111,\"#46039f\"],[0.2222222222222222,\"#7201a8\"],[0.3333333333333333,\"#9c179e\"],[0.4444444444444444,\"#bd3786\"],[0.5555555555555556,\"#d8576b\"],[0.6666666666666666,\"#ed7953\"],[0.7777777777777778,\"#fb9f3a\"],[0.8888888888888888,\"#fdca26\"],[1.0,\"#f0f921\"]]}],\"mesh3d\":[{\"type\":\"mesh3d\",\"colorbar\":{\"outlinewidth\":0,\"ticks\":\"\"}}],\"scatter\":[{\"fillpattern\":{\"fillmode\":\"overlay\",\"size\":10,\"solidity\":0.2},\"type\":\"scatter\"}],\"parcoords\":[{\"type\":\"parcoords\",\"line\":{\"colorbar\":{\"outlinewidth\":0,\"ticks\":\"\"}}}],\"scatterpolargl\":[{\"type\":\"scatterpolargl\",\"marker\":{\"colorbar\":{\"outlinewidth\":0,\"ticks\":\"\"}}}],\"bar\":[{\"error_x\":{\"color\":\"#2a3f5f\"},\"error_y\":{\"color\":\"#2a3f5f\"},\"marker\":{\"line\":{\"color\":\"#E5ECF6\",\"width\":0.5},\"pattern\":{\"fillmode\":\"overlay\",\"size\":10,\"solidity\":0.2}},\"type\":\"bar\"}],\"scattergeo\":[{\"type\":\"scattergeo\",\"marker\":{\"colorbar\":{\"outlinewidth\":0,\"ticks\":\"\"}}}],\"scatterpolar\":[{\"type\":\"scatterpolar\",\"marker\":{\"colorbar\":{\"outlinewidth\":0,\"ticks\":\"\"}}}],\"histogram\":[{\"marker\":{\"pattern\":{\"fillmode\":\"overlay\",\"size\":10,\"solidity\":0.2}},\"type\":\"histogram\"}],\"scattergl\":[{\"type\":\"scattergl\",\"marker\":{\"colorbar\":{\"outlinewidth\":0,\"ticks\":\"\"}}}],\"scatter3d\":[{\"type\":\"scatter3d\",\"line\":{\"colorbar\":{\"outlinewidth\":0,\"ticks\":\"\"}},\"marker\":{\"colorbar\":{\"outlinewidth\":0,\"ticks\":\"\"}}}],\"scattermapbox\":[{\"type\":\"scattermapbox\",\"marker\":{\"colorbar\":{\"outlinewidth\":0,\"ticks\":\"\"}}}],\"scatterternary\":[{\"type\":\"scatterternary\",\"marker\":{\"colorbar\":{\"outlinewidth\":0,\"ticks\":\"\"}}}],\"scattercarpet\":[{\"type\":\"scattercarpet\",\"marker\":{\"colorbar\":{\"outlinewidth\":0,\"ticks\":\"\"}}}],\"carpet\":[{\"aaxis\":{\"endlinecolor\":\"#2a3f5f\",\"gridcolor\":\"white\",\"linecolor\":\"white\",\"minorgridcolor\":\"white\",\"startlinecolor\":\"#2a3f5f\"},\"baxis\":{\"endlinecolor\":\"#2a3f5f\",\"gridcolor\":\"white\",\"linecolor\":\"white\",\"minorgridcolor\":\"white\",\"startlinecolor\":\"#2a3f5f\"},\"type\":\"carpet\"}],\"table\":[{\"cells\":{\"fill\":{\"color\":\"#EBF0F8\"},\"line\":{\"color\":\"white\"}},\"header\":{\"fill\":{\"color\":\"#C8D4E3\"},\"line\":{\"color\":\"white\"}},\"type\":\"table\"}],\"barpolar\":[{\"marker\":{\"line\":{\"color\":\"#E5ECF6\",\"width\":0.5},\"pattern\":{\"fillmode\":\"overlay\",\"size\":10,\"solidity\":0.2}},\"type\":\"barpolar\"}],\"pie\":[{\"automargin\":true,\"type\":\"pie\"}]},\"layout\":{\"autotypenumbers\":\"strict\",\"colorway\":[\"#636efa\",\"#EF553B\",\"#00cc96\",\"#ab63fa\",\"#FFA15A\",\"#19d3f3\",\"#FF6692\",\"#B6E880\",\"#FF97FF\",\"#FECB52\"],\"font\":{\"color\":\"#2a3f5f\"},\"hovermode\":\"closest\",\"hoverlabel\":{\"align\":\"left\"},\"paper_bgcolor\":\"white\",\"plot_bgcolor\":\"#E5ECF6\",\"polar\":{\"bgcolor\":\"#E5ECF6\",\"angularaxis\":{\"gridcolor\":\"white\",\"linecolor\":\"white\",\"ticks\":\"\"},\"radialaxis\":{\"gridcolor\":\"white\",\"linecolor\":\"white\",\"ticks\":\"\"}},\"ternary\":{\"bgcolor\":\"#E5ECF6\",\"aaxis\":{\"gridcolor\":\"white\",\"linecolor\":\"white\",\"ticks\":\"\"},\"baxis\":{\"gridcolor\":\"white\",\"linecolor\":\"white\",\"ticks\":\"\"},\"caxis\":{\"gridcolor\":\"white\",\"linecolor\":\"white\",\"ticks\":\"\"}},\"coloraxis\":{\"colorbar\":{\"outlinewidth\":0,\"ticks\":\"\"}},\"colorscale\":{\"sequential\":[[0.0,\"#0d0887\"],[0.1111111111111111,\"#46039f\"],[0.2222222222222222,\"#7201a8\"],[0.3333333333333333,\"#9c179e\"],[0.4444444444444444,\"#bd3786\"],[0.5555555555555556,\"#d8576b\"],[0.6666666666666666,\"#ed7953\"],[0.7777777777777778,\"#fb9f3a\"],[0.8888888888888888,\"#fdca26\"],[1.0,\"#f0f921\"]],\"sequentialminus\":[[0.0,\"#0d0887\"],[0.1111111111111111,\"#46039f\"],[0.2222222222222222,\"#7201a8\"],[0.3333333333333333,\"#9c179e\"],[0.4444444444444444,\"#bd3786\"],[0.5555555555555556,\"#d8576b\"],[0.6666666666666666,\"#ed7953\"],[0.7777777777777778,\"#fb9f3a\"],[0.8888888888888888,\"#fdca26\"],[1.0,\"#f0f921\"]],\"diverging\":[[0,\"#8e0152\"],[0.1,\"#c51b7d\"],[0.2,\"#de77ae\"],[0.3,\"#f1b6da\"],[0.4,\"#fde0ef\"],[0.5,\"#f7f7f7\"],[0.6,\"#e6f5d0\"],[0.7,\"#b8e186\"],[0.8,\"#7fbc41\"],[0.9,\"#4d9221\"],[1,\"#276419\"]]},\"xaxis\":{\"gridcolor\":\"white\",\"linecolor\":\"white\",\"ticks\":\"\",\"title\":{\"standoff\":15},\"zerolinecolor\":\"white\",\"automargin\":true,\"zerolinewidth\":2},\"yaxis\":{\"gridcolor\":\"white\",\"linecolor\":\"white\",\"ticks\":\"\",\"title\":{\"standoff\":15},\"zerolinecolor\":\"white\",\"automargin\":true,\"zerolinewidth\":2},\"scene\":{\"xaxis\":{\"backgroundcolor\":\"#E5ECF6\",\"gridcolor\":\"white\",\"linecolor\":\"white\",\"showbackground\":true,\"ticks\":\"\",\"zerolinecolor\":\"white\",\"gridwidth\":2},\"yaxis\":{\"backgroundcolor\":\"#E5ECF6\",\"gridcolor\":\"white\",\"linecolor\":\"white\",\"showbackground\":true,\"ticks\":\"\",\"zerolinecolor\":\"white\",\"gridwidth\":2},\"zaxis\":{\"backgroundcolor\":\"#E5ECF6\",\"gridcolor\":\"white\",\"linecolor\":\"white\",\"showbackground\":true,\"ticks\":\"\",\"zerolinecolor\":\"white\",\"gridwidth\":2}},\"shapedefaults\":{\"line\":{\"color\":\"#2a3f5f\"}},\"annotationdefaults\":{\"arrowcolor\":\"#2a3f5f\",\"arrowhead\":0,\"arrowwidth\":1},\"geo\":{\"bgcolor\":\"white\",\"landcolor\":\"#E5ECF6\",\"subunitcolor\":\"white\",\"showland\":true,\"showlakes\":true,\"lakecolor\":\"white\"},\"title\":{\"x\":0.05},\"mapbox\":{\"style\":\"light\"}}},\"font\":{\"size\":16},\"width\":1000,\"height\":600},                        {\"responsive\": true}                    ).then(function(){\n",
       "                            \n",
       "var gd = document.getElementById('8490164f-96e9-4253-8eb9-6022544c5f4d');\n",
       "var x = new MutationObserver(function (mutations, observer) {{\n",
       "        var display = window.getComputedStyle(gd).display;\n",
       "        if (!display || display === 'none') {{\n",
       "            console.log([gd, 'removed!']);\n",
       "            Plotly.purge(gd);\n",
       "            observer.disconnect();\n",
       "        }}\n",
       "}});\n",
       "\n",
       "// Listen for the removal of the full notebook cells\n",
       "var notebookContainer = gd.closest('#notebook-container');\n",
       "if (notebookContainer) {{\n",
       "    x.observe(notebookContainer, {childList: true});\n",
       "}}\n",
       "\n",
       "// Listen for the clearing of the current output cell\n",
       "var outputEl = gd.closest('.output');\n",
       "if (outputEl) {{\n",
       "    x.observe(outputEl, {childList: true});\n",
       "}}\n",
       "\n",
       "                        })                };                });            </script>        </div>"
      ]
     },
     "metadata": {},
     "output_type": "display_data"
    }
   ],
   "source": [
    "import plotly.graph_objects as go\n",
    "\n",
    "# 示例数据\n",
    "labels = ['A', 'B', 'C', 'D', 'E', 'F', 'G', 'H', 'I', 'J', 'K', 'L', 'M', 'N', 'O', 'P', 'Q', 'R', '良', '中', '差']\n",
    "source = source_ed\n",
    "target = target_ed\n",
    "value = val_ed\n",
    "# 创建桑基图\n",
    "fig = go.Figure(data=[go.Sankey(\n",
    "    node=dict(\n",
    "        label=labels,\n",
    "        # arrangement='perpendicular'\n",
    "    ),\n",
    "    link=dict(\n",
    "        source=source,\n",
    "        target=target,\n",
    "        value=value,\n",
    "    )\n",
    ")])\n",
    "\n",
    "fig.update_layout(\n",
    "    width=1000,  # 设置宽度为800像素\n",
    "    height=600,  # 设置高度为600像素\n",
    "    font_size=16\n",
    ")\n",
    "\n",
    "# 显示图形\n",
    "# fig.write_image(\"img/ed_sankey.pdf\")\n",
    "fig.show()"
   ]
  },
  {
   "cell_type": "markdown",
   "id": "12b9d746-4941-48e3-889b-14a2c0ddcb6b",
   "metadata": {},
   "source": [
    "### 桑基图可视化血肿体积进展"
   ]
  },
  {
   "cell_type": "code",
   "execution_count": 260,
   "id": "ae5951af-428d-469f-86af-ef10016cff8b",
   "metadata": {},
   "outputs": [
    {
     "data": {
      "application/vnd.plotly.v1+json": {
       "config": {
        "plotlyServerURL": "https://plot.ly"
       },
       "data": [
        {
         "link": {
          "source": [
           0,
           0,
           0,
           0,
           1,
           1,
           1,
           1,
           2,
           2,
           2,
           2,
           3,
           3,
           3,
           4,
           4,
           4,
           4,
           5,
           5,
           5,
           5,
           6,
           6,
           6,
           6,
           7,
           7,
           8,
           9,
           9,
           10,
           11,
           12,
           12,
           14,
           15,
           16,
           16,
           17
          ],
          "target": [
           21,
           20,
           19,
           18,
           21,
           20,
           19,
           18,
           21,
           20,
           19,
           18,
           20,
           19,
           18,
           21,
           20,
           19,
           18,
           21,
           20,
           19,
           18,
           21,
           20,
           19,
           18,
           21,
           20,
           20,
           19,
           18,
           20,
           20,
           19,
           18,
           21,
           20,
           19,
           18,
           21
          ],
          "value": [
           7,
           24,
           11,
           11,
           1,
           3,
           2,
           2,
           2,
           1,
           2,
           2,
           3,
           1,
           1,
           1,
           3,
           1,
           1,
           1,
           3,
           1,
           1,
           1,
           1,
           1,
           1,
           1,
           1,
           1,
           1,
           1,
           1,
           1,
           1,
           1,
           1,
           1,
           1,
           1,
           1
          ]
         },
         "node": {
          "label": [
           "A",
           "B",
           "C",
           "D",
           "E",
           "F",
           "G",
           "H",
           "I",
           "J",
           "K",
           "L",
           "M",
           "N",
           "O",
           "P",
           "Q",
           "R",
           "优",
           "良",
           "中",
           "差"
          ],
          "x": [
           0.011904761904761904,
           0.011904761904761904,
           0.011904761904761904,
           0.011904761904761904,
           0.011904761904761904,
           0.011904761904761904,
           0.011904761904761904,
           0.011904761904761904,
           0.011904761904761904,
           0.011904761904761904,
           0.011904761904761904,
           0.011904761904761904,
           0.011904761904761904,
           0.011904761904761904,
           0.011904761904761904,
           0.011904761904761904,
           0.011904761904761904,
           0.9880952380952381,
           0.9892857142857143,
           0.9904761904761905,
           0.9928571428571429
          ],
          "y": [
           0.2301779935275084,
           0.3705501618122976,
           0.49433656957928784,
           0.4332524271844658,
           0.6116504854368928,
           0.6727346278317146,
           0.5538025889967636,
           0.9069579288025886,
           0.7257281553398054,
           0.003236245954693033,
           0.7706310679611648,
           0.8155339805825241,
           0.051375404530744816,
           0.9534789644012941,
           0.8604368932038834,
           0.09951456310679666,
           0.9983818770226535,
           0.035598705501618116,
           0.289077528208279,
           0.6347317862539457,
           0.96458622283865
          ]
         },
         "type": "sankey"
        }
       ],
       "layout": {
        "font": {
         "size": 16
        },
        "height": 600,
        "template": {
         "data": {
          "bar": [
           {
            "error_x": {
             "color": "#2a3f5f"
            },
            "error_y": {
             "color": "#2a3f5f"
            },
            "marker": {
             "line": {
              "color": "#E5ECF6",
              "width": 0.5
             },
             "pattern": {
              "fillmode": "overlay",
              "size": 10,
              "solidity": 0.2
             }
            },
            "type": "bar"
           }
          ],
          "barpolar": [
           {
            "marker": {
             "line": {
              "color": "#E5ECF6",
              "width": 0.5
             },
             "pattern": {
              "fillmode": "overlay",
              "size": 10,
              "solidity": 0.2
             }
            },
            "type": "barpolar"
           }
          ],
          "carpet": [
           {
            "aaxis": {
             "endlinecolor": "#2a3f5f",
             "gridcolor": "white",
             "linecolor": "white",
             "minorgridcolor": "white",
             "startlinecolor": "#2a3f5f"
            },
            "baxis": {
             "endlinecolor": "#2a3f5f",
             "gridcolor": "white",
             "linecolor": "white",
             "minorgridcolor": "white",
             "startlinecolor": "#2a3f5f"
            },
            "type": "carpet"
           }
          ],
          "choropleth": [
           {
            "colorbar": {
             "outlinewidth": 0,
             "ticks": ""
            },
            "type": "choropleth"
           }
          ],
          "contour": [
           {
            "colorbar": {
             "outlinewidth": 0,
             "ticks": ""
            },
            "colorscale": [
             [
              0,
              "#0d0887"
             ],
             [
              0.1111111111111111,
              "#46039f"
             ],
             [
              0.2222222222222222,
              "#7201a8"
             ],
             [
              0.3333333333333333,
              "#9c179e"
             ],
             [
              0.4444444444444444,
              "#bd3786"
             ],
             [
              0.5555555555555556,
              "#d8576b"
             ],
             [
              0.6666666666666666,
              "#ed7953"
             ],
             [
              0.7777777777777778,
              "#fb9f3a"
             ],
             [
              0.8888888888888888,
              "#fdca26"
             ],
             [
              1,
              "#f0f921"
             ]
            ],
            "type": "contour"
           }
          ],
          "contourcarpet": [
           {
            "colorbar": {
             "outlinewidth": 0,
             "ticks": ""
            },
            "type": "contourcarpet"
           }
          ],
          "heatmap": [
           {
            "colorbar": {
             "outlinewidth": 0,
             "ticks": ""
            },
            "colorscale": [
             [
              0,
              "#0d0887"
             ],
             [
              0.1111111111111111,
              "#46039f"
             ],
             [
              0.2222222222222222,
              "#7201a8"
             ],
             [
              0.3333333333333333,
              "#9c179e"
             ],
             [
              0.4444444444444444,
              "#bd3786"
             ],
             [
              0.5555555555555556,
              "#d8576b"
             ],
             [
              0.6666666666666666,
              "#ed7953"
             ],
             [
              0.7777777777777778,
              "#fb9f3a"
             ],
             [
              0.8888888888888888,
              "#fdca26"
             ],
             [
              1,
              "#f0f921"
             ]
            ],
            "type": "heatmap"
           }
          ],
          "heatmapgl": [
           {
            "colorbar": {
             "outlinewidth": 0,
             "ticks": ""
            },
            "colorscale": [
             [
              0,
              "#0d0887"
             ],
             [
              0.1111111111111111,
              "#46039f"
             ],
             [
              0.2222222222222222,
              "#7201a8"
             ],
             [
              0.3333333333333333,
              "#9c179e"
             ],
             [
              0.4444444444444444,
              "#bd3786"
             ],
             [
              0.5555555555555556,
              "#d8576b"
             ],
             [
              0.6666666666666666,
              "#ed7953"
             ],
             [
              0.7777777777777778,
              "#fb9f3a"
             ],
             [
              0.8888888888888888,
              "#fdca26"
             ],
             [
              1,
              "#f0f921"
             ]
            ],
            "type": "heatmapgl"
           }
          ],
          "histogram": [
           {
            "marker": {
             "pattern": {
              "fillmode": "overlay",
              "size": 10,
              "solidity": 0.2
             }
            },
            "type": "histogram"
           }
          ],
          "histogram2d": [
           {
            "colorbar": {
             "outlinewidth": 0,
             "ticks": ""
            },
            "colorscale": [
             [
              0,
              "#0d0887"
             ],
             [
              0.1111111111111111,
              "#46039f"
             ],
             [
              0.2222222222222222,
              "#7201a8"
             ],
             [
              0.3333333333333333,
              "#9c179e"
             ],
             [
              0.4444444444444444,
              "#bd3786"
             ],
             [
              0.5555555555555556,
              "#d8576b"
             ],
             [
              0.6666666666666666,
              "#ed7953"
             ],
             [
              0.7777777777777778,
              "#fb9f3a"
             ],
             [
              0.8888888888888888,
              "#fdca26"
             ],
             [
              1,
              "#f0f921"
             ]
            ],
            "type": "histogram2d"
           }
          ],
          "histogram2dcontour": [
           {
            "colorbar": {
             "outlinewidth": 0,
             "ticks": ""
            },
            "colorscale": [
             [
              0,
              "#0d0887"
             ],
             [
              0.1111111111111111,
              "#46039f"
             ],
             [
              0.2222222222222222,
              "#7201a8"
             ],
             [
              0.3333333333333333,
              "#9c179e"
             ],
             [
              0.4444444444444444,
              "#bd3786"
             ],
             [
              0.5555555555555556,
              "#d8576b"
             ],
             [
              0.6666666666666666,
              "#ed7953"
             ],
             [
              0.7777777777777778,
              "#fb9f3a"
             ],
             [
              0.8888888888888888,
              "#fdca26"
             ],
             [
              1,
              "#f0f921"
             ]
            ],
            "type": "histogram2dcontour"
           }
          ],
          "mesh3d": [
           {
            "colorbar": {
             "outlinewidth": 0,
             "ticks": ""
            },
            "type": "mesh3d"
           }
          ],
          "parcoords": [
           {
            "line": {
             "colorbar": {
              "outlinewidth": 0,
              "ticks": ""
             }
            },
            "type": "parcoords"
           }
          ],
          "pie": [
           {
            "automargin": true,
            "type": "pie"
           }
          ],
          "scatter": [
           {
            "fillpattern": {
             "fillmode": "overlay",
             "size": 10,
             "solidity": 0.2
            },
            "type": "scatter"
           }
          ],
          "scatter3d": [
           {
            "line": {
             "colorbar": {
              "outlinewidth": 0,
              "ticks": ""
             }
            },
            "marker": {
             "colorbar": {
              "outlinewidth": 0,
              "ticks": ""
             }
            },
            "type": "scatter3d"
           }
          ],
          "scattercarpet": [
           {
            "marker": {
             "colorbar": {
              "outlinewidth": 0,
              "ticks": ""
             }
            },
            "type": "scattercarpet"
           }
          ],
          "scattergeo": [
           {
            "marker": {
             "colorbar": {
              "outlinewidth": 0,
              "ticks": ""
             }
            },
            "type": "scattergeo"
           }
          ],
          "scattergl": [
           {
            "marker": {
             "colorbar": {
              "outlinewidth": 0,
              "ticks": ""
             }
            },
            "type": "scattergl"
           }
          ],
          "scattermapbox": [
           {
            "marker": {
             "colorbar": {
              "outlinewidth": 0,
              "ticks": ""
             }
            },
            "type": "scattermapbox"
           }
          ],
          "scatterpolar": [
           {
            "marker": {
             "colorbar": {
              "outlinewidth": 0,
              "ticks": ""
             }
            },
            "type": "scatterpolar"
           }
          ],
          "scatterpolargl": [
           {
            "marker": {
             "colorbar": {
              "outlinewidth": 0,
              "ticks": ""
             }
            },
            "type": "scatterpolargl"
           }
          ],
          "scatterternary": [
           {
            "marker": {
             "colorbar": {
              "outlinewidth": 0,
              "ticks": ""
             }
            },
            "type": "scatterternary"
           }
          ],
          "surface": [
           {
            "colorbar": {
             "outlinewidth": 0,
             "ticks": ""
            },
            "colorscale": [
             [
              0,
              "#0d0887"
             ],
             [
              0.1111111111111111,
              "#46039f"
             ],
             [
              0.2222222222222222,
              "#7201a8"
             ],
             [
              0.3333333333333333,
              "#9c179e"
             ],
             [
              0.4444444444444444,
              "#bd3786"
             ],
             [
              0.5555555555555556,
              "#d8576b"
             ],
             [
              0.6666666666666666,
              "#ed7953"
             ],
             [
              0.7777777777777778,
              "#fb9f3a"
             ],
             [
              0.8888888888888888,
              "#fdca26"
             ],
             [
              1,
              "#f0f921"
             ]
            ],
            "type": "surface"
           }
          ],
          "table": [
           {
            "cells": {
             "fill": {
              "color": "#EBF0F8"
             },
             "line": {
              "color": "white"
             }
            },
            "header": {
             "fill": {
              "color": "#C8D4E3"
             },
             "line": {
              "color": "white"
             }
            },
            "type": "table"
           }
          ]
         },
         "layout": {
          "annotationdefaults": {
           "arrowcolor": "#2a3f5f",
           "arrowhead": 0,
           "arrowwidth": 1
          },
          "autotypenumbers": "strict",
          "coloraxis": {
           "colorbar": {
            "outlinewidth": 0,
            "ticks": ""
           }
          },
          "colorscale": {
           "diverging": [
            [
             0,
             "#8e0152"
            ],
            [
             0.1,
             "#c51b7d"
            ],
            [
             0.2,
             "#de77ae"
            ],
            [
             0.3,
             "#f1b6da"
            ],
            [
             0.4,
             "#fde0ef"
            ],
            [
             0.5,
             "#f7f7f7"
            ],
            [
             0.6,
             "#e6f5d0"
            ],
            [
             0.7,
             "#b8e186"
            ],
            [
             0.8,
             "#7fbc41"
            ],
            [
             0.9,
             "#4d9221"
            ],
            [
             1,
             "#276419"
            ]
           ],
           "sequential": [
            [
             0,
             "#0d0887"
            ],
            [
             0.1111111111111111,
             "#46039f"
            ],
            [
             0.2222222222222222,
             "#7201a8"
            ],
            [
             0.3333333333333333,
             "#9c179e"
            ],
            [
             0.4444444444444444,
             "#bd3786"
            ],
            [
             0.5555555555555556,
             "#d8576b"
            ],
            [
             0.6666666666666666,
             "#ed7953"
            ],
            [
             0.7777777777777778,
             "#fb9f3a"
            ],
            [
             0.8888888888888888,
             "#fdca26"
            ],
            [
             1,
             "#f0f921"
            ]
           ],
           "sequentialminus": [
            [
             0,
             "#0d0887"
            ],
            [
             0.1111111111111111,
             "#46039f"
            ],
            [
             0.2222222222222222,
             "#7201a8"
            ],
            [
             0.3333333333333333,
             "#9c179e"
            ],
            [
             0.4444444444444444,
             "#bd3786"
            ],
            [
             0.5555555555555556,
             "#d8576b"
            ],
            [
             0.6666666666666666,
             "#ed7953"
            ],
            [
             0.7777777777777778,
             "#fb9f3a"
            ],
            [
             0.8888888888888888,
             "#fdca26"
            ],
            [
             1,
             "#f0f921"
            ]
           ]
          },
          "colorway": [
           "#636efa",
           "#EF553B",
           "#00cc96",
           "#ab63fa",
           "#FFA15A",
           "#19d3f3",
           "#FF6692",
           "#B6E880",
           "#FF97FF",
           "#FECB52"
          ],
          "font": {
           "color": "#2a3f5f"
          },
          "geo": {
           "bgcolor": "white",
           "lakecolor": "white",
           "landcolor": "#E5ECF6",
           "showlakes": true,
           "showland": true,
           "subunitcolor": "white"
          },
          "hoverlabel": {
           "align": "left"
          },
          "hovermode": "closest",
          "mapbox": {
           "style": "light"
          },
          "paper_bgcolor": "white",
          "plot_bgcolor": "#E5ECF6",
          "polar": {
           "angularaxis": {
            "gridcolor": "white",
            "linecolor": "white",
            "ticks": ""
           },
           "bgcolor": "#E5ECF6",
           "radialaxis": {
            "gridcolor": "white",
            "linecolor": "white",
            "ticks": ""
           }
          },
          "scene": {
           "xaxis": {
            "backgroundcolor": "#E5ECF6",
            "gridcolor": "white",
            "gridwidth": 2,
            "linecolor": "white",
            "showbackground": true,
            "ticks": "",
            "zerolinecolor": "white"
           },
           "yaxis": {
            "backgroundcolor": "#E5ECF6",
            "gridcolor": "white",
            "gridwidth": 2,
            "linecolor": "white",
            "showbackground": true,
            "ticks": "",
            "zerolinecolor": "white"
           },
           "zaxis": {
            "backgroundcolor": "#E5ECF6",
            "gridcolor": "white",
            "gridwidth": 2,
            "linecolor": "white",
            "showbackground": true,
            "ticks": "",
            "zerolinecolor": "white"
           }
          },
          "shapedefaults": {
           "line": {
            "color": "#2a3f5f"
           }
          },
          "ternary": {
           "aaxis": {
            "gridcolor": "white",
            "linecolor": "white",
            "ticks": ""
           },
           "baxis": {
            "gridcolor": "white",
            "linecolor": "white",
            "ticks": ""
           },
           "bgcolor": "#E5ECF6",
           "caxis": {
            "gridcolor": "white",
            "linecolor": "white",
            "ticks": ""
           }
          },
          "title": {
           "x": 0.05
          },
          "xaxis": {
           "automargin": true,
           "gridcolor": "white",
           "linecolor": "white",
           "ticks": "",
           "title": {
            "standoff": 15
           },
           "zerolinecolor": "white",
           "zerolinewidth": 2
          },
          "yaxis": {
           "automargin": true,
           "gridcolor": "white",
           "linecolor": "white",
           "ticks": "",
           "title": {
            "standoff": 15
           },
           "zerolinecolor": "white",
           "zerolinewidth": 2
          }
         }
        },
        "width": 1000
       }
      },
      "image/png": "[encoded data removed]",
      "text/html": [
       "<div>                            <div id=\"1b4b24ca-0c99-4151-9c02-6b2af6de3cc8\" class=\"plotly-graph-div\" style=\"height:600px; width:1000px;\"></div>            <script type=\"text/javascript\">                require([\"plotly\"], function(Plotly) {                    window.PLOTLYENV=window.PLOTLYENV || {};                                    if (document.getElementById(\"1b4b24ca-0c99-4151-9c02-6b2af6de3cc8\")) {                    Plotly.newPlot(                        \"1b4b24ca-0c99-4151-9c02-6b2af6de3cc8\",                        [{\"link\":{\"source\":[0,0,0,0,1,1,1,1,2,2,2,2,3,3,3,4,4,4,4,5,5,5,5,6,6,6,6,7,7,8,9,9,10,11,12,12,14,15,16,16,17],\"target\":[21,20,19,18,21,20,19,18,21,20,19,18,20,19,18,21,20,19,18,21,20,19,18,21,20,19,18,21,20,20,19,18,20,20,19,18,21,20,19,18,21],\"value\":[7,24,11,11,1,3,2,2,2,1,2,2,3,1,1,1,3,1,1,1,3,1,1,1,1,1,1,1,1,1,1,1,1,1,1,1,1,1,1,1,1]},\"node\":{\"label\":[\"A\",\"B\",\"C\",\"D\",\"E\",\"F\",\"G\",\"H\",\"I\",\"J\",\"K\",\"L\",\"M\",\"N\",\"O\",\"P\",\"Q\",\"R\",\"\\u4f18\",\"\\u826f\",\"\\u4e2d\",\"\\u5dee\"]},\"type\":\"sankey\"}],                        {\"template\":{\"data\":{\"histogram2dcontour\":[{\"type\":\"histogram2dcontour\",\"colorbar\":{\"outlinewidth\":0,\"ticks\":\"\"},\"colorscale\":[[0.0,\"#0d0887\"],[0.1111111111111111,\"#46039f\"],[0.2222222222222222,\"#7201a8\"],[0.3333333333333333,\"#9c179e\"],[0.4444444444444444,\"#bd3786\"],[0.5555555555555556,\"#d8576b\"],[0.6666666666666666,\"#ed7953\"],[0.7777777777777778,\"#fb9f3a\"],[0.8888888888888888,\"#fdca26\"],[1.0,\"#f0f921\"]]}],\"choropleth\":[{\"type\":\"choropleth\",\"colorbar\":{\"outlinewidth\":0,\"ticks\":\"\"}}],\"histogram2d\":[{\"type\":\"histogram2d\",\"colorbar\":{\"outlinewidth\":0,\"ticks\":\"\"},\"colorscale\":[[0.0,\"#0d0887\"],[0.1111111111111111,\"#46039f\"],[0.2222222222222222,\"#7201a8\"],[0.3333333333333333,\"#9c179e\"],[0.4444444444444444,\"#bd3786\"],[0.5555555555555556,\"#d8576b\"],[0.6666666666666666,\"#ed7953\"],[0.7777777777777778,\"#fb9f3a\"],[0.8888888888888888,\"#fdca26\"],[1.0,\"#f0f921\"]]}],\"heatmap\":[{\"type\":\"heatmap\",\"colorbar\":{\"outlinewidth\":0,\"ticks\":\"\"},\"colorscale\":[[0.0,\"#0d0887\"],[0.1111111111111111,\"#46039f\"],[0.2222222222222222,\"#7201a8\"],[0.3333333333333333,\"#9c179e\"],[0.4444444444444444,\"#bd3786\"],[0.5555555555555556,\"#d8576b\"],[0.6666666666666666,\"#ed7953\"],[0.7777777777777778,\"#fb9f3a\"],[0.8888888888888888,\"#fdca26\"],[1.0,\"#f0f921\"]]}],\"heatmapgl\":[{\"type\":\"heatmapgl\",\"colorbar\":{\"outlinewidth\":0,\"ticks\":\"\"},\"colorscale\":[[0.0,\"#0d0887\"],[0.1111111111111111,\"#46039f\"],[0.2222222222222222,\"#7201a8\"],[0.3333333333333333,\"#9c179e\"],[0.4444444444444444,\"#bd3786\"],[0.5555555555555556,\"#d8576b\"],[0.6666666666666666,\"#ed7953\"],[0.7777777777777778,\"#fb9f3a\"],[0.8888888888888888,\"#fdca26\"],[1.0,\"#f0f921\"]]}],\"contourcarpet\":[{\"type\":\"contourcarpet\",\"colorbar\":{\"outlinewidth\":0,\"ticks\":\"\"}}],\"contour\":[{\"type\":\"contour\",\"colorbar\":{\"outlinewidth\":0,\"ticks\":\"\"},\"colorscale\":[[0.0,\"#0d0887\"],[0.1111111111111111,\"#46039f\"],[0.2222222222222222,\"#7201a8\"],[0.3333333333333333,\"#9c179e\"],[0.4444444444444444,\"#bd3786\"],[0.5555555555555556,\"#d8576b\"],[0.6666666666666666,\"#ed7953\"],[0.7777777777777778,\"#fb9f3a\"],[0.8888888888888888,\"#fdca26\"],[1.0,\"#f0f921\"]]}],\"surface\":[{\"type\":\"surface\",\"colorbar\":{\"outlinewidth\":0,\"ticks\":\"\"},\"colorscale\":[[0.0,\"#0d0887\"],[0.1111111111111111,\"#46039f\"],[0.2222222222222222,\"#7201a8\"],[0.3333333333333333,\"#9c179e\"],[0.4444444444444444,\"#bd3786\"],[0.5555555555555556,\"#d8576b\"],[0.6666666666666666,\"#ed7953\"],[0.7777777777777778,\"#fb9f3a\"],[0.8888888888888888,\"#fdca26\"],[1.0,\"#f0f921\"]]}],\"mesh3d\":[{\"type\":\"mesh3d\",\"colorbar\":{\"outlinewidth\":0,\"ticks\":\"\"}}],\"scatter\":[{\"fillpattern\":{\"fillmode\":\"overlay\",\"size\":10,\"solidity\":0.2},\"type\":\"scatter\"}],\"parcoords\":[{\"type\":\"parcoords\",\"line\":{\"colorbar\":{\"outlinewidth\":0,\"ticks\":\"\"}}}],\"scatterpolargl\":[{\"type\":\"scatterpolargl\",\"marker\":{\"colorbar\":{\"outlinewidth\":0,\"ticks\":\"\"}}}],\"bar\":[{\"error_x\":{\"color\":\"#2a3f5f\"},\"error_y\":{\"color\":\"#2a3f5f\"},\"marker\":{\"line\":{\"color\":\"#E5ECF6\",\"width\":0.5},\"pattern\":{\"fillmode\":\"overlay\",\"size\":10,\"solidity\":0.2}},\"type\":\"bar\"}],\"scattergeo\":[{\"type\":\"scattergeo\",\"marker\":{\"colorbar\":{\"outlinewidth\":0,\"ticks\":\"\"}}}],\"scatterpolar\":[{\"type\":\"scatterpolar\",\"marker\":{\"colorbar\":{\"outlinewidth\":0,\"ticks\":\"\"}}}],\"histogram\":[{\"marker\":{\"pattern\":{\"fillmode\":\"overlay\",\"size\":10,\"solidity\":0.2}},\"type\":\"histogram\"}],\"scattergl\":[{\"type\":\"scattergl\",\"marker\":{\"colorbar\":{\"outlinewidth\":0,\"ticks\":\"\"}}}],\"scatter3d\":[{\"type\":\"scatter3d\",\"line\":{\"colorbar\":{\"outlinewidth\":0,\"ticks\":\"\"}},\"marker\":{\"colorbar\":{\"outlinewidth\":0,\"ticks\":\"\"}}}],\"scattermapbox\":[{\"type\":\"scattermapbox\",\"marker\":{\"colorbar\":{\"outlinewidth\":0,\"ticks\":\"\"}}}],\"scatterternary\":[{\"type\":\"scatterternary\",\"marker\":{\"colorbar\":{\"outlinewidth\":0,\"ticks\":\"\"}}}],\"scattercarpet\":[{\"type\":\"scattercarpet\",\"marker\":{\"colorbar\":{\"outlinewidth\":0,\"ticks\":\"\"}}}],\"carpet\":[{\"aaxis\":{\"endlinecolor\":\"#2a3f5f\",\"gridcolor\":\"white\",\"linecolor\":\"white\",\"minorgridcolor\":\"white\",\"startlinecolor\":\"#2a3f5f\"},\"baxis\":{\"endlinecolor\":\"#2a3f5f\",\"gridcolor\":\"white\",\"linecolor\":\"white\",\"minorgridcolor\":\"white\",\"startlinecolor\":\"#2a3f5f\"},\"type\":\"carpet\"}],\"table\":[{\"cells\":{\"fill\":{\"color\":\"#EBF0F8\"},\"line\":{\"color\":\"white\"}},\"header\":{\"fill\":{\"color\":\"#C8D4E3\"},\"line\":{\"color\":\"white\"}},\"type\":\"table\"}],\"barpolar\":[{\"marker\":{\"line\":{\"color\":\"#E5ECF6\",\"width\":0.5},\"pattern\":{\"fillmode\":\"overlay\",\"size\":10,\"solidity\":0.2}},\"type\":\"barpolar\"}],\"pie\":[{\"automargin\":true,\"type\":\"pie\"}]},\"layout\":{\"autotypenumbers\":\"strict\",\"colorway\":[\"#636efa\",\"#EF553B\",\"#00cc96\",\"#ab63fa\",\"#FFA15A\",\"#19d3f3\",\"#FF6692\",\"#B6E880\",\"#FF97FF\",\"#FECB52\"],\"font\":{\"color\":\"#2a3f5f\"},\"hovermode\":\"closest\",\"hoverlabel\":{\"align\":\"left\"},\"paper_bgcolor\":\"white\",\"plot_bgcolor\":\"#E5ECF6\",\"polar\":{\"bgcolor\":\"#E5ECF6\",\"angularaxis\":{\"gridcolor\":\"white\",\"linecolor\":\"white\",\"ticks\":\"\"},\"radialaxis\":{\"gridcolor\":\"white\",\"linecolor\":\"white\",\"ticks\":\"\"}},\"ternary\":{\"bgcolor\":\"#E5ECF6\",\"aaxis\":{\"gridcolor\":\"white\",\"linecolor\":\"white\",\"ticks\":\"\"},\"baxis\":{\"gridcolor\":\"white\",\"linecolor\":\"white\",\"ticks\":\"\"},\"caxis\":{\"gridcolor\":\"white\",\"linecolor\":\"white\",\"ticks\":\"\"}},\"coloraxis\":{\"colorbar\":{\"outlinewidth\":0,\"ticks\":\"\"}},\"colorscale\":{\"sequential\":[[0.0,\"#0d0887\"],[0.1111111111111111,\"#46039f\"],[0.2222222222222222,\"#7201a8\"],[0.3333333333333333,\"#9c179e\"],[0.4444444444444444,\"#bd3786\"],[0.5555555555555556,\"#d8576b\"],[0.6666666666666666,\"#ed7953\"],[0.7777777777777778,\"#fb9f3a\"],[0.8888888888888888,\"#fdca26\"],[1.0,\"#f0f921\"]],\"sequentialminus\":[[0.0,\"#0d0887\"],[0.1111111111111111,\"#46039f\"],[0.2222222222222222,\"#7201a8\"],[0.3333333333333333,\"#9c179e\"],[0.4444444444444444,\"#bd3786\"],[0.5555555555555556,\"#d8576b\"],[0.6666666666666666,\"#ed7953\"],[0.7777777777777778,\"#fb9f3a\"],[0.8888888888888888,\"#fdca26\"],[1.0,\"#f0f921\"]],\"diverging\":[[0,\"#8e0152\"],[0.1,\"#c51b7d\"],[0.2,\"#de77ae\"],[0.3,\"#f1b6da\"],[0.4,\"#fde0ef\"],[0.5,\"#f7f7f7\"],[0.6,\"#e6f5d0\"],[0.7,\"#b8e186\"],[0.8,\"#7fbc41\"],[0.9,\"#4d9221\"],[1,\"#276419\"]]},\"xaxis\":{\"gridcolor\":\"white\",\"linecolor\":\"white\",\"ticks\":\"\",\"title\":{\"standoff\":15},\"zerolinecolor\":\"white\",\"automargin\":true,\"zerolinewidth\":2},\"yaxis\":{\"gridcolor\":\"white\",\"linecolor\":\"white\",\"ticks\":\"\",\"title\":{\"standoff\":15},\"zerolinecolor\":\"white\",\"automargin\":true,\"zerolinewidth\":2},\"scene\":{\"xaxis\":{\"backgroundcolor\":\"#E5ECF6\",\"gridcolor\":\"white\",\"linecolor\":\"white\",\"showbackground\":true,\"ticks\":\"\",\"zerolinecolor\":\"white\",\"gridwidth\":2},\"yaxis\":{\"backgroundcolor\":\"#E5ECF6\",\"gridcolor\":\"white\",\"linecolor\":\"white\",\"showbackground\":true,\"ticks\":\"\",\"zerolinecolor\":\"white\",\"gridwidth\":2},\"zaxis\":{\"backgroundcolor\":\"#E5ECF6\",\"gridcolor\":\"white\",\"linecolor\":\"white\",\"showbackground\":true,\"ticks\":\"\",\"zerolinecolor\":\"white\",\"gridwidth\":2}},\"shapedefaults\":{\"line\":{\"color\":\"#2a3f5f\"}},\"annotationdefaults\":{\"arrowcolor\":\"#2a3f5f\",\"arrowhead\":0,\"arrowwidth\":1},\"geo\":{\"bgcolor\":\"white\",\"landcolor\":\"#E5ECF6\",\"subunitcolor\":\"white\",\"showland\":true,\"showlakes\":true,\"lakecolor\":\"white\"},\"title\":{\"x\":0.05},\"mapbox\":{\"style\":\"light\"}}},\"font\":{\"size\":16},\"width\":1000,\"height\":600},                        {\"responsive\": true}                    ).then(function(){\n",
       "                            \n",
       "var gd = document.getElementById('1b4b24ca-0c99-4151-9c02-6b2af6de3cc8');\n",
       "var x = new MutationObserver(function (mutations, observer) {{\n",
       "        var display = window.getComputedStyle(gd).display;\n",
       "        if (!display || display === 'none') {{\n",
       "            console.log([gd, 'removed!']);\n",
       "            Plotly.purge(gd);\n",
       "            observer.disconnect();\n",
       "        }}\n",
       "}});\n",
       "\n",
       "// Listen for the removal of the full notebook cells\n",
       "var notebookContainer = gd.closest('#notebook-container');\n",
       "if (notebookContainer) {{\n",
       "    x.observe(notebookContainer, {childList: true});\n",
       "}}\n",
       "\n",
       "// Listen for the clearing of the current output cell\n",
       "var outputEl = gd.closest('.output');\n",
       "if (outputEl) {{\n",
       "    x.observe(outputEl, {childList: true});\n",
       "}}\n",
       "\n",
       "                        })                };                });            </script>        </div>"
      ]
     },
     "metadata": {},
     "output_type": "display_data"
    }
   ],
   "source": [
    "labels = ['A', 'B', 'C', 'D', 'E', 'F', 'G', 'H', 'I', 'J', 'K', 'L', 'M', 'N', 'O', 'P', 'Q', 'R', '优', '良', '中', '差']\n",
    "source = source_hm\n",
    "target = target_hm\n",
    "value = val_hm\n",
    "# 创建桑基图\n",
    "fig = go.Figure(data=[go.Sankey(\n",
    "    node=dict(\n",
    "        label=labels,\n",
    "        # arrangement='perpendicular'\n",
    "    ),\n",
    "    link=dict(\n",
    "        source=source,\n",
    "        target=target,\n",
    "        value=value,\n",
    "    )\n",
    ")])\n",
    "\n",
    "fig.update_layout(\n",
    "    width=1000,  # 设置宽度为800像素\n",
    "    height=600,  # 设置高度为600像素\n",
    "    font_size=16\n",
    ")\n",
    "\n",
    "# 显示图形\n",
    "# fig.write_image(\"img/ed_sankey.pdf\")\n",
    "fig.show()"
   ]
  },
  {
   "cell_type": "markdown",
   "id": "443d117c-d546-4634-9af3-4c8547774433",
   "metadata": {},
   "source": [
    "### 桑基图可视化血肿/水肿体积进展"
   ]
  },
  {
   "cell_type": "code",
   "execution_count": 272,
   "id": "60782ea0-5d15-44d7-b972-d40a5e64b154",
   "metadata": {},
   "outputs": [
    {
     "data": {
      "application/vnd.plotly.v1+json": {
       "config": {
        "plotlyServerURL": "https://plot.ly"
       },
       "data": [
        {
         "link": {
          "source": [
           0,
           0,
           0,
           0,
           1,
           1,
           1,
           1,
           2,
           2,
           2,
           2,
           3,
           3,
           3,
           4,
           4,
           4,
           5,
           5,
           5,
           6,
           6,
           6,
           6,
           7,
           7,
           8,
           8,
           9,
           10,
           11,
           12,
           13,
           14,
           15,
           16,
           17,
           21,
           21,
           21,
           20,
           20,
           19,
           19,
           18,
           18
          ],
          "target": [
           21,
           20,
           19,
           18,
           21,
           20,
           19,
           18,
           21,
           20,
           19,
           18,
           20,
           19,
           18,
           21,
           20,
           19,
           21,
           20,
           19,
           21,
           20,
           19,
           18,
           21,
           20,
           20,
           18,
           19,
           20,
           20,
           19,
           18,
           21,
           20,
           19,
           21,
           24,
           23,
           22,
           24,
           22,
           24,
           22,
           23,
           22
          ],
          "value": [
           7,
           24,
           11,
           11,
           1,
           3,
           2,
           2,
           2,
           1,
           2,
           2,
           3,
           1,
           1,
           1,
           3,
           1,
           1,
           3,
           1,
           1,
           1,
           1,
           1,
           1,
           1,
           1,
           0,
           1,
           1,
           1,
           1,
           0,
           1,
           1,
           1,
           1,
           5,
           9,
           2,
           11,
           32,
           14,
           8,
           14,
           5
          ]
         },
         "node": {
          "label": [
           "A",
           "B",
           "C",
           "D",
           "E",
           "F",
           "G",
           "H",
           "I",
           "J",
           "K",
           "L",
           "M",
           "N",
           "O",
           "P",
           "Q",
           "R",
           "血肿-优",
           "血肿-良",
           "血肿-中",
           "血肿-差",
           "水肿-良",
           "水肿-中",
           "水肿-差"
          ],
          "x": [
           0.013095238662901378,
           0.011904761904761904,
           0.011904761904761904,
           0.011904761904761904,
           0.011904761904761904,
           0.011904761904761904,
           0.011904761904761904,
           0.011904761904761904,
           0.011904761904761904,
           0.011904761904761904,
           0.011904761904761904,
           0.011904761904761904,
           0.011904761904761904,
           0.011904761904761904,
           0.011904761904761904,
           0.011904761904761904,
           0.011904761904761904,
           0.5035714285714286,
           0.5,
           0.4988095238095238,
           0.4988095238095238,
           0.9833333333333332,
           0.9833333333333332,
           0.986904761904762
          ],
          "y": [
           0.09251700680271994,
           0.5918367346938768,
           0.897959183673469,
           0.4107142857142849,
           0.46938775510204,
           0.5280612244897951,
           0.8375850340136048,
           0.7857142857142849,
           0.22363945578231192,
           0.648809523809523,
           0.2687074829931963,
           0.31377551020408073,
           0.6938775510204074,
           0.9532312925170066,
           0.3588435374149652,
           0.7389455782312918,
           0.9982993197278911,
           0.03793399537102174,
           0.3491573915636932,
           0.6445578322118644,
           0.9727891156462581,
           0.08552650710028548,
           0.5923292372713335,
           0.9489795918367346
          ]
         },
         "type": "sankey"
        }
       ],
       "layout": {
        "font": {
         "size": 16
        },
        "height": 600,
        "template": {
         "data": {
          "bar": [
           {
            "error_x": {
             "color": "#2a3f5f"
            },
            "error_y": {
             "color": "#2a3f5f"
            },
            "marker": {
             "line": {
              "color": "#E5ECF6",
              "width": 0.5
             },
             "pattern": {
              "fillmode": "overlay",
              "size": 10,
              "solidity": 0.2
             }
            },
            "type": "bar"
           }
          ],
          "barpolar": [
           {
            "marker": {
             "line": {
              "color": "#E5ECF6",
              "width": 0.5
             },
             "pattern": {
              "fillmode": "overlay",
              "size": 10,
              "solidity": 0.2
             }
            },
            "type": "barpolar"
           }
          ],
          "carpet": [
           {
            "aaxis": {
             "endlinecolor": "#2a3f5f",
             "gridcolor": "white",
             "linecolor": "white",
             "minorgridcolor": "white",
             "startlinecolor": "#2a3f5f"
            },
            "baxis": {
             "endlinecolor": "#2a3f5f",
             "gridcolor": "white",
             "linecolor": "white",
             "minorgridcolor": "white",
             "startlinecolor": "#2a3f5f"
            },
            "type": "carpet"
           }
          ],
          "choropleth": [
           {
            "colorbar": {
             "outlinewidth": 0,
             "ticks": ""
            },
            "type": "choropleth"
           }
          ],
          "contour": [
           {
            "colorbar": {
             "outlinewidth": 0,
             "ticks": ""
            },
            "colorscale": [
             [
              0,
              "#0d0887"
             ],
             [
              0.1111111111111111,
              "#46039f"
             ],
             [
              0.2222222222222222,
              "#7201a8"
             ],
             [
              0.3333333333333333,
              "#9c179e"
             ],
             [
              0.4444444444444444,
              "#bd3786"
             ],
             [
              0.5555555555555556,
              "#d8576b"
             ],
             [
              0.6666666666666666,
              "#ed7953"
             ],
             [
              0.7777777777777778,
              "#fb9f3a"
             ],
             [
              0.8888888888888888,
              "#fdca26"
             ],
             [
              1,
              "#f0f921"
             ]
            ],
            "type": "contour"
           }
          ],
          "contourcarpet": [
           {
            "colorbar": {
             "outlinewidth": 0,
             "ticks": ""
            },
            "type": "contourcarpet"
           }
          ],
          "heatmap": [
           {
            "colorbar": {
             "outlinewidth": 0,
             "ticks": ""
            },
            "colorscale": [
             [
              0,
              "#0d0887"
             ],
             [
              0.1111111111111111,
              "#46039f"
             ],
             [
              0.2222222222222222,
              "#7201a8"
             ],
             [
              0.3333333333333333,
              "#9c179e"
             ],
             [
              0.4444444444444444,
              "#bd3786"
             ],
             [
              0.5555555555555556,
              "#d8576b"
             ],
             [
              0.6666666666666666,
              "#ed7953"
             ],
             [
              0.7777777777777778,
              "#fb9f3a"
             ],
             [
              0.8888888888888888,
              "#fdca26"
             ],
             [
              1,
              "#f0f921"
             ]
            ],
            "type": "heatmap"
           }
          ],
          "heatmapgl": [
           {
            "colorbar": {
             "outlinewidth": 0,
             "ticks": ""
            },
            "colorscale": [
             [
              0,
              "#0d0887"
             ],
             [
              0.1111111111111111,
              "#46039f"
             ],
             [
              0.2222222222222222,
              "#7201a8"
             ],
             [
              0.3333333333333333,
              "#9c179e"
             ],
             [
              0.4444444444444444,
              "#bd3786"
             ],
             [
              0.5555555555555556,
              "#d8576b"
             ],
             [
              0.6666666666666666,
              "#ed7953"
             ],
             [
              0.7777777777777778,
              "#fb9f3a"
             ],
             [
              0.8888888888888888,
              "#fdca26"
             ],
             [
              1,
              "#f0f921"
             ]
            ],
            "type": "heatmapgl"
           }
          ],
          "histogram": [
           {
            "marker": {
             "pattern": {
              "fillmode": "overlay",
              "size": 10,
              "solidity": 0.2
             }
            },
            "type": "histogram"
           }
          ],
          "histogram2d": [
           {
            "colorbar": {
             "outlinewidth": 0,
             "ticks": ""
            },
            "colorscale": [
             [
              0,
              "#0d0887"
             ],
             [
              0.1111111111111111,
              "#46039f"
             ],
             [
              0.2222222222222222,
              "#7201a8"
             ],
             [
              0.3333333333333333,
              "#9c179e"
             ],
             [
              0.4444444444444444,
              "#bd3786"
             ],
             [
              0.5555555555555556,
              "#d8576b"
             ],
             [
              0.6666666666666666,
              "#ed7953"
             ],
             [
              0.7777777777777778,
              "#fb9f3a"
             ],
             [
              0.8888888888888888,
              "#fdca26"
             ],
             [
              1,
              "#f0f921"
             ]
            ],
            "type": "histogram2d"
           }
          ],
          "histogram2dcontour": [
           {
            "colorbar": {
             "outlinewidth": 0,
             "ticks": ""
            },
            "colorscale": [
             [
              0,
              "#0d0887"
             ],
             [
              0.1111111111111111,
              "#46039f"
             ],
             [
              0.2222222222222222,
              "#7201a8"
             ],
             [
              0.3333333333333333,
              "#9c179e"
             ],
             [
              0.4444444444444444,
              "#bd3786"
             ],
             [
              0.5555555555555556,
              "#d8576b"
             ],
             [
              0.6666666666666666,
              "#ed7953"
             ],
             [
              0.7777777777777778,
              "#fb9f3a"
             ],
             [
              0.8888888888888888,
              "#fdca26"
             ],
             [
              1,
              "#f0f921"
             ]
            ],
            "type": "histogram2dcontour"
           }
          ],
          "mesh3d": [
           {
            "colorbar": {
             "outlinewidth": 0,
             "ticks": ""
            },
            "type": "mesh3d"
           }
          ],
          "parcoords": [
           {
            "line": {
             "colorbar": {
              "outlinewidth": 0,
              "ticks": ""
             }
            },
            "type": "parcoords"
           }
          ],
          "pie": [
           {
            "automargin": true,
            "type": "pie"
           }
          ],
          "scatter": [
           {
            "fillpattern": {
             "fillmode": "overlay",
             "size": 10,
             "solidity": 0.2
            },
            "type": "scatter"
           }
          ],
          "scatter3d": [
           {
            "line": {
             "colorbar": {
              "outlinewidth": 0,
              "ticks": ""
             }
            },
            "marker": {
             "colorbar": {
              "outlinewidth": 0,
              "ticks": ""
             }
            },
            "type": "scatter3d"
           }
          ],
          "scattercarpet": [
           {
            "marker": {
             "colorbar": {
              "outlinewidth": 0,
              "ticks": ""
             }
            },
            "type": "scattercarpet"
           }
          ],
          "scattergeo": [
           {
            "marker": {
             "colorbar": {
              "outlinewidth": 0,
              "ticks": ""
             }
            },
            "type": "scattergeo"
           }
          ],
          "scattergl": [
           {
            "marker": {
             "colorbar": {
              "outlinewidth": 0,
              "ticks": ""
             }
            },
            "type": "scattergl"
           }
          ],
          "scattermapbox": [
           {
            "marker": {
             "colorbar": {
              "outlinewidth": 0,
              "ticks": ""
             }
            },
            "type": "scattermapbox"
           }
          ],
          "scatterpolar": [
           {
            "marker": {
             "colorbar": {
              "outlinewidth": 0,
              "ticks": ""
             }
            },
            "type": "scatterpolar"
           }
          ],
          "scatterpolargl": [
           {
            "marker": {
             "colorbar": {
              "outlinewidth": 0,
              "ticks": ""
             }
            },
            "type": "scatterpolargl"
           }
          ],
          "scatterternary": [
           {
            "marker": {
             "colorbar": {
              "outlinewidth": 0,
              "ticks": ""
             }
            },
            "type": "scatterternary"
           }
          ],
          "surface": [
           {
            "colorbar": {
             "outlinewidth": 0,
             "ticks": ""
            },
            "colorscale": [
             [
              0,
              "#0d0887"
             ],
             [
              0.1111111111111111,
              "#46039f"
             ],
             [
              0.2222222222222222,
              "#7201a8"
             ],
             [
              0.3333333333333333,
              "#9c179e"
             ],
             [
              0.4444444444444444,
              "#bd3786"
             ],
             [
              0.5555555555555556,
              "#d8576b"
             ],
             [
              0.6666666666666666,
              "#ed7953"
             ],
             [
              0.7777777777777778,
              "#fb9f3a"
             ],
             [
              0.8888888888888888,
              "#fdca26"
             ],
             [
              1,
              "#f0f921"
             ]
            ],
            "type": "surface"
           }
          ],
          "table": [
           {
            "cells": {
             "fill": {
              "color": "#EBF0F8"
             },
             "line": {
              "color": "white"
             }
            },
            "header": {
             "fill": {
              "color": "#C8D4E3"
             },
             "line": {
              "color": "white"
             }
            },
            "type": "table"
           }
          ]
         },
         "layout": {
          "annotationdefaults": {
           "arrowcolor": "#2a3f5f",
           "arrowhead": 0,
           "arrowwidth": 1
          },
          "autotypenumbers": "strict",
          "coloraxis": {
           "colorbar": {
            "outlinewidth": 0,
            "ticks": ""
           }
          },
          "colorscale": {
           "diverging": [
            [
             0,
             "#8e0152"
            ],
            [
             0.1,
             "#c51b7d"
            ],
            [
             0.2,
             "#de77ae"
            ],
            [
             0.3,
             "#f1b6da"
            ],
            [
             0.4,
             "#fde0ef"
            ],
            [
             0.5,
             "#f7f7f7"
            ],
            [
             0.6,
             "#e6f5d0"
            ],
            [
             0.7,
             "#b8e186"
            ],
            [
             0.8,
             "#7fbc41"
            ],
            [
             0.9,
             "#4d9221"
            ],
            [
             1,
             "#276419"
            ]
           ],
           "sequential": [
            [
             0,
             "#0d0887"
            ],
            [
             0.1111111111111111,
             "#46039f"
            ],
            [
             0.2222222222222222,
             "#7201a8"
            ],
            [
             0.3333333333333333,
             "#9c179e"
            ],
            [
             0.4444444444444444,
             "#bd3786"
            ],
            [
             0.5555555555555556,
             "#d8576b"
            ],
            [
             0.6666666666666666,
             "#ed7953"
            ],
            [
             0.7777777777777778,
             "#fb9f3a"
            ],
            [
             0.8888888888888888,
             "#fdca26"
            ],
            [
             1,
             "#f0f921"
            ]
           ],
           "sequentialminus": [
            [
             0,
             "#0d0887"
            ],
            [
             0.1111111111111111,
             "#46039f"
            ],
            [
             0.2222222222222222,
             "#7201a8"
            ],
            [
             0.3333333333333333,
             "#9c179e"
            ],
            [
             0.4444444444444444,
             "#bd3786"
            ],
            [
             0.5555555555555556,
             "#d8576b"
            ],
            [
             0.6666666666666666,
             "#ed7953"
            ],
            [
             0.7777777777777778,
             "#fb9f3a"
            ],
            [
             0.8888888888888888,
             "#fdca26"
            ],
            [
             1,
             "#f0f921"
            ]
           ]
          },
          "colorway": [
           "#636efa",
           "#EF553B",
           "#00cc96",
           "#ab63fa",
           "#FFA15A",
           "#19d3f3",
           "#FF6692",
           "#B6E880",
           "#FF97FF",
           "#FECB52"
          ],
          "font": {
           "color": "#2a3f5f"
          },
          "geo": {
           "bgcolor": "white",
           "lakecolor": "white",
           "landcolor": "#E5ECF6",
           "showlakes": true,
           "showland": true,
           "subunitcolor": "white"
          },
          "hoverlabel": {
           "align": "left"
          },
          "hovermode": "closest",
          "mapbox": {
           "style": "light"
          },
          "paper_bgcolor": "white",
          "plot_bgcolor": "#E5ECF6",
          "polar": {
           "angularaxis": {
            "gridcolor": "white",
            "linecolor": "white",
            "ticks": ""
           },
           "bgcolor": "#E5ECF6",
           "radialaxis": {
            "gridcolor": "white",
            "linecolor": "white",
            "ticks": ""
           }
          },
          "scene": {
           "xaxis": {
            "backgroundcolor": "#E5ECF6",
            "gridcolor": "white",
            "gridwidth": 2,
            "linecolor": "white",
            "showbackground": true,
            "ticks": "",
            "zerolinecolor": "white"
           },
           "yaxis": {
            "backgroundcolor": "#E5ECF6",
            "gridcolor": "white",
            "gridwidth": 2,
            "linecolor": "white",
            "showbackground": true,
            "ticks": "",
            "zerolinecolor": "white"
           },
           "zaxis": {
            "backgroundcolor": "#E5ECF6",
            "gridcolor": "white",
            "gridwidth": 2,
            "linecolor": "white",
            "showbackground": true,
            "ticks": "",
            "zerolinecolor": "white"
           }
          },
          "shapedefaults": {
           "line": {
            "color": "#2a3f5f"
           }
          },
          "ternary": {
           "aaxis": {
            "gridcolor": "white",
            "linecolor": "white",
            "ticks": ""
           },
           "baxis": {
            "gridcolor": "white",
            "linecolor": "white",
            "ticks": ""
           },
           "bgcolor": "#E5ECF6",
           "caxis": {
            "gridcolor": "white",
            "linecolor": "white",
            "ticks": ""
           }
          },
          "title": {
           "x": 0.05
          },
          "xaxis": {
           "automargin": true,
           "gridcolor": "white",
           "linecolor": "white",
           "ticks": "",
           "title": {
            "standoff": 15
           },
           "zerolinecolor": "white",
           "zerolinewidth": 2
          },
          "yaxis": {
           "automargin": true,
           "gridcolor": "white",
           "linecolor": "white",
           "ticks": "",
           "title": {
            "standoff": 15
           },
           "zerolinecolor": "white",
           "zerolinewidth": 2
          }
         }
        },
        "width": 1000
       }
      },
      "image/png": "[encoded data removed]",
      "text/html": [
       "<div>                            <div id=\"5ffabaf7-f056-48c1-aa8c-28e7079d0c94\" class=\"plotly-graph-div\" style=\"height:600px; width:1000px;\"></div>            <script type=\"text/javascript\">                require([\"plotly\"], function(Plotly) {                    window.PLOTLYENV=window.PLOTLYENV || {};                                    if (document.getElementById(\"5ffabaf7-f056-48c1-aa8c-28e7079d0c94\")) {                    Plotly.newPlot(                        \"5ffabaf7-f056-48c1-aa8c-28e7079d0c94\",                        [{\"link\":{\"source\":[0,0,0,0,1,1,1,1,2,2,2,2,3,3,3,4,4,4,5,5,5,6,6,6,6,7,7,8,8,9,10,11,12,13,14,15,16,17,21,21,21,20,20,19,19,18,18],\"target\":[21,20,19,18,21,20,19,18,21,20,19,18,20,19,18,21,20,19,21,20,19,21,20,19,18,21,20,20,18,19,20,20,19,18,21,20,19,21,24,23,22,24,22,24,22,23,22],\"value\":[7,24,11,11,1,3,2,2,2,1,2,2,3,1,1,1,3,1,1,3,1,1,1,1,1,1,1,1,0,1,1,1,1,0,1,1,1,1,5,9,2,11,32,14,8,14,5]},\"node\":{\"label\":[\"A\",\"B\",\"C\",\"D\",\"E\",\"F\",\"G\",\"H\",\"I\",\"J\",\"K\",\"L\",\"M\",\"N\",\"O\",\"P\",\"Q\",\"R\",\"\\u8840\\u80bf-\\u4f18\",\"\\u8840\\u80bf-\\u826f\",\"\\u8840\\u80bf-\\u4e2d\",\"\\u8840\\u80bf-\\u5dee\",\"\\u6c34\\u80bf-\\u826f\",\"\\u6c34\\u80bf-\\u4e2d\",\"\\u6c34\\u80bf-\\u5dee\"]},\"type\":\"sankey\"}],                        {\"template\":{\"data\":{\"histogram2dcontour\":[{\"type\":\"histogram2dcontour\",\"colorbar\":{\"outlinewidth\":0,\"ticks\":\"\"},\"colorscale\":[[0.0,\"#0d0887\"],[0.1111111111111111,\"#46039f\"],[0.2222222222222222,\"#7201a8\"],[0.3333333333333333,\"#9c179e\"],[0.4444444444444444,\"#bd3786\"],[0.5555555555555556,\"#d8576b\"],[0.6666666666666666,\"#ed7953\"],[0.7777777777777778,\"#fb9f3a\"],[0.8888888888888888,\"#fdca26\"],[1.0,\"#f0f921\"]]}],\"choropleth\":[{\"type\":\"choropleth\",\"colorbar\":{\"outlinewidth\":0,\"ticks\":\"\"}}],\"histogram2d\":[{\"type\":\"histogram2d\",\"colorbar\":{\"outlinewidth\":0,\"ticks\":\"\"},\"colorscale\":[[0.0,\"#0d0887\"],[0.1111111111111111,\"#46039f\"],[0.2222222222222222,\"#7201a8\"],[0.3333333333333333,\"#9c179e\"],[0.4444444444444444,\"#bd3786\"],[0.5555555555555556,\"#d8576b\"],[0.6666666666666666,\"#ed7953\"],[0.7777777777777778,\"#fb9f3a\"],[0.8888888888888888,\"#fdca26\"],[1.0,\"#f0f921\"]]}],\"heatmap\":[{\"type\":\"heatmap\",\"colorbar\":{\"outlinewidth\":0,\"ticks\":\"\"},\"colorscale\":[[0.0,\"#0d0887\"],[0.1111111111111111,\"#46039f\"],[0.2222222222222222,\"#7201a8\"],[0.3333333333333333,\"#9c179e\"],[0.4444444444444444,\"#bd3786\"],[0.5555555555555556,\"#d8576b\"],[0.6666666666666666,\"#ed7953\"],[0.7777777777777778,\"#fb9f3a\"],[0.8888888888888888,\"#fdca26\"],[1.0,\"#f0f921\"]]}],\"heatmapgl\":[{\"type\":\"heatmapgl\",\"colorbar\":{\"outlinewidth\":0,\"ticks\":\"\"},\"colorscale\":[[0.0,\"#0d0887\"],[0.1111111111111111,\"#46039f\"],[0.2222222222222222,\"#7201a8\"],[0.3333333333333333,\"#9c179e\"],[0.4444444444444444,\"#bd3786\"],[0.5555555555555556,\"#d8576b\"],[0.6666666666666666,\"#ed7953\"],[0.7777777777777778,\"#fb9f3a\"],[0.8888888888888888,\"#fdca26\"],[1.0,\"#f0f921\"]]}],\"contourcarpet\":[{\"type\":\"contourcarpet\",\"colorbar\":{\"outlinewidth\":0,\"ticks\":\"\"}}],\"contour\":[{\"type\":\"contour\",\"colorbar\":{\"outlinewidth\":0,\"ticks\":\"\"},\"colorscale\":[[0.0,\"#0d0887\"],[0.1111111111111111,\"#46039f\"],[0.2222222222222222,\"#7201a8\"],[0.3333333333333333,\"#9c179e\"],[0.4444444444444444,\"#bd3786\"],[0.5555555555555556,\"#d8576b\"],[0.6666666666666666,\"#ed7953\"],[0.7777777777777778,\"#fb9f3a\"],[0.8888888888888888,\"#fdca26\"],[1.0,\"#f0f921\"]]}],\"surface\":[{\"type\":\"surface\",\"colorbar\":{\"outlinewidth\":0,\"ticks\":\"\"},\"colorscale\":[[0.0,\"#0d0887\"],[0.1111111111111111,\"#46039f\"],[0.2222222222222222,\"#7201a8\"],[0.3333333333333333,\"#9c179e\"],[0.4444444444444444,\"#bd3786\"],[0.5555555555555556,\"#d8576b\"],[0.6666666666666666,\"#ed7953\"],[0.7777777777777778,\"#fb9f3a\"],[0.8888888888888888,\"#fdca26\"],[1.0,\"#f0f921\"]]}],\"mesh3d\":[{\"type\":\"mesh3d\",\"colorbar\":{\"outlinewidth\":0,\"ticks\":\"\"}}],\"scatter\":[{\"fillpattern\":{\"fillmode\":\"overlay\",\"size\":10,\"solidity\":0.2},\"type\":\"scatter\"}],\"parcoords\":[{\"type\":\"parcoords\",\"line\":{\"colorbar\":{\"outlinewidth\":0,\"ticks\":\"\"}}}],\"scatterpolargl\":[{\"type\":\"scatterpolargl\",\"marker\":{\"colorbar\":{\"outlinewidth\":0,\"ticks\":\"\"}}}],\"bar\":[{\"error_x\":{\"color\":\"#2a3f5f\"},\"error_y\":{\"color\":\"#2a3f5f\"},\"marker\":{\"line\":{\"color\":\"#E5ECF6\",\"width\":0.5},\"pattern\":{\"fillmode\":\"overlay\",\"size\":10,\"solidity\":0.2}},\"type\":\"bar\"}],\"scattergeo\":[{\"type\":\"scattergeo\",\"marker\":{\"colorbar\":{\"outlinewidth\":0,\"ticks\":\"\"}}}],\"scatterpolar\":[{\"type\":\"scatterpolar\",\"marker\":{\"colorbar\":{\"outlinewidth\":0,\"ticks\":\"\"}}}],\"histogram\":[{\"marker\":{\"pattern\":{\"fillmode\":\"overlay\",\"size\":10,\"solidity\":0.2}},\"type\":\"histogram\"}],\"scattergl\":[{\"type\":\"scattergl\",\"marker\":{\"colorbar\":{\"outlinewidth\":0,\"ticks\":\"\"}}}],\"scatter3d\":[{\"type\":\"scatter3d\",\"line\":{\"colorbar\":{\"outlinewidth\":0,\"ticks\":\"\"}},\"marker\":{\"colorbar\":{\"outlinewidth\":0,\"ticks\":\"\"}}}],\"scattermapbox\":[{\"type\":\"scattermapbox\",\"marker\":{\"colorbar\":{\"outlinewidth\":0,\"ticks\":\"\"}}}],\"scatterternary\":[{\"type\":\"scatterternary\",\"marker\":{\"colorbar\":{\"outlinewidth\":0,\"ticks\":\"\"}}}],\"scattercarpet\":[{\"type\":\"scattercarpet\",\"marker\":{\"colorbar\":{\"outlinewidth\":0,\"ticks\":\"\"}}}],\"carpet\":[{\"aaxis\":{\"endlinecolor\":\"#2a3f5f\",\"gridcolor\":\"white\",\"linecolor\":\"white\",\"minorgridcolor\":\"white\",\"startlinecolor\":\"#2a3f5f\"},\"baxis\":{\"endlinecolor\":\"#2a3f5f\",\"gridcolor\":\"white\",\"linecolor\":\"white\",\"minorgridcolor\":\"white\",\"startlinecolor\":\"#2a3f5f\"},\"type\":\"carpet\"}],\"table\":[{\"cells\":{\"fill\":{\"color\":\"#EBF0F8\"},\"line\":{\"color\":\"white\"}},\"header\":{\"fill\":{\"color\":\"#C8D4E3\"},\"line\":{\"color\":\"white\"}},\"type\":\"table\"}],\"barpolar\":[{\"marker\":{\"line\":{\"color\":\"#E5ECF6\",\"width\":0.5},\"pattern\":{\"fillmode\":\"overlay\",\"size\":10,\"solidity\":0.2}},\"type\":\"barpolar\"}],\"pie\":[{\"automargin\":true,\"type\":\"pie\"}]},\"layout\":{\"autotypenumbers\":\"strict\",\"colorway\":[\"#636efa\",\"#EF553B\",\"#00cc96\",\"#ab63fa\",\"#FFA15A\",\"#19d3f3\",\"#FF6692\",\"#B6E880\",\"#FF97FF\",\"#FECB52\"],\"font\":{\"color\":\"#2a3f5f\"},\"hovermode\":\"closest\",\"hoverlabel\":{\"align\":\"left\"},\"paper_bgcolor\":\"white\",\"plot_bgcolor\":\"#E5ECF6\",\"polar\":{\"bgcolor\":\"#E5ECF6\",\"angularaxis\":{\"gridcolor\":\"white\",\"linecolor\":\"white\",\"ticks\":\"\"},\"radialaxis\":{\"gridcolor\":\"white\",\"linecolor\":\"white\",\"ticks\":\"\"}},\"ternary\":{\"bgcolor\":\"#E5ECF6\",\"aaxis\":{\"gridcolor\":\"white\",\"linecolor\":\"white\",\"ticks\":\"\"},\"baxis\":{\"gridcolor\":\"white\",\"linecolor\":\"white\",\"ticks\":\"\"},\"caxis\":{\"gridcolor\":\"white\",\"linecolor\":\"white\",\"ticks\":\"\"}},\"coloraxis\":{\"colorbar\":{\"outlinewidth\":0,\"ticks\":\"\"}},\"colorscale\":{\"sequential\":[[0.0,\"#0d0887\"],[0.1111111111111111,\"#46039f\"],[0.2222222222222222,\"#7201a8\"],[0.3333333333333333,\"#9c179e\"],[0.4444444444444444,\"#bd3786\"],[0.5555555555555556,\"#d8576b\"],[0.6666666666666666,\"#ed7953\"],[0.7777777777777778,\"#fb9f3a\"],[0.8888888888888888,\"#fdca26\"],[1.0,\"#f0f921\"]],\"sequentialminus\":[[0.0,\"#0d0887\"],[0.1111111111111111,\"#46039f\"],[0.2222222222222222,\"#7201a8\"],[0.3333333333333333,\"#9c179e\"],[0.4444444444444444,\"#bd3786\"],[0.5555555555555556,\"#d8576b\"],[0.6666666666666666,\"#ed7953\"],[0.7777777777777778,\"#fb9f3a\"],[0.8888888888888888,\"#fdca26\"],[1.0,\"#f0f921\"]],\"diverging\":[[0,\"#8e0152\"],[0.1,\"#c51b7d\"],[0.2,\"#de77ae\"],[0.3,\"#f1b6da\"],[0.4,\"#fde0ef\"],[0.5,\"#f7f7f7\"],[0.6,\"#e6f5d0\"],[0.7,\"#b8e186\"],[0.8,\"#7fbc41\"],[0.9,\"#4d9221\"],[1,\"#276419\"]]},\"xaxis\":{\"gridcolor\":\"white\",\"linecolor\":\"white\",\"ticks\":\"\",\"title\":{\"standoff\":15},\"zerolinecolor\":\"white\",\"automargin\":true,\"zerolinewidth\":2},\"yaxis\":{\"gridcolor\":\"white\",\"linecolor\":\"white\",\"ticks\":\"\",\"title\":{\"standoff\":15},\"zerolinecolor\":\"white\",\"automargin\":true,\"zerolinewidth\":2},\"scene\":{\"xaxis\":{\"backgroundcolor\":\"#E5ECF6\",\"gridcolor\":\"white\",\"linecolor\":\"white\",\"showbackground\":true,\"ticks\":\"\",\"zerolinecolor\":\"white\",\"gridwidth\":2},\"yaxis\":{\"backgroundcolor\":\"#E5ECF6\",\"gridcolor\":\"white\",\"linecolor\":\"white\",\"showbackground\":true,\"ticks\":\"\",\"zerolinecolor\":\"white\",\"gridwidth\":2},\"zaxis\":{\"backgroundcolor\":\"#E5ECF6\",\"gridcolor\":\"white\",\"linecolor\":\"white\",\"showbackground\":true,\"ticks\":\"\",\"zerolinecolor\":\"white\",\"gridwidth\":2}},\"shapedefaults\":{\"line\":{\"color\":\"#2a3f5f\"}},\"annotationdefaults\":{\"arrowcolor\":\"#2a3f5f\",\"arrowhead\":0,\"arrowwidth\":1},\"geo\":{\"bgcolor\":\"white\",\"landcolor\":\"#E5ECF6\",\"subunitcolor\":\"white\",\"showland\":true,\"showlakes\":true,\"lakecolor\":\"white\"},\"title\":{\"x\":0.05},\"mapbox\":{\"style\":\"light\"}}},\"font\":{\"size\":16},\"width\":1000,\"height\":600},                        {\"responsive\": true}                    ).then(function(){\n",
       "                            \n",
       "var gd = document.getElementById('5ffabaf7-f056-48c1-aa8c-28e7079d0c94');\n",
       "var x = new MutationObserver(function (mutations, observer) {{\n",
       "        var display = window.getComputedStyle(gd).display;\n",
       "        if (!display || display === 'none') {{\n",
       "            console.log([gd, 'removed!']);\n",
       "            Plotly.purge(gd);\n",
       "            observer.disconnect();\n",
       "        }}\n",
       "}});\n",
       "\n",
       "// Listen for the removal of the full notebook cells\n",
       "var notebookContainer = gd.closest('#notebook-container');\n",
       "if (notebookContainer) {{\n",
       "    x.observe(notebookContainer, {childList: true});\n",
       "}}\n",
       "\n",
       "// Listen for the clearing of the current output cell\n",
       "var outputEl = gd.closest('.output');\n",
       "if (outputEl) {{\n",
       "    x.observe(outputEl, {childList: true});\n",
       "}}\n",
       "\n",
       "                        })                };                });            </script>        </div>"
      ]
     },
     "metadata": {},
     "output_type": "display_data"
    }
   ],
   "source": [
    "labels = ['A', 'B', 'C', 'D', 'E', 'F', 'G', 'H', 'I', 'J', 'K', 'L', 'M', 'N', 'O', 'P', 'Q', 'R', '血肿-优', '血肿-良', '血肿-中', '血肿-差', '水肿-良', '水肿-中', '水肿-差']\n",
    "source = source_all\n",
    "target = target_all\n",
    "value = val_all\n",
    "# 创建桑基图\n",
    "fig = go.Figure(data=[go.Sankey(\n",
    "    node=dict(\n",
    "        label=labels,\n",
    "        # arrangement='perpendicular'\n",
    "    ),\n",
    "    link=dict(\n",
    "        source=source,\n",
    "        target=target,\n",
    "        value=value,\n",
    "    )\n",
    ")])\n",
    "\n",
    "fig.update_layout(\n",
    "    width=1000,  # 设置宽度为800像素\n",
    "    height=600,  # 设置高度为600像素\n",
    "    font_size=16\n",
    ")\n",
    "\n",
    "# 显示图形\n",
    "# fig.write_image(\"img/ed_sankey.pdf\")\n",
    "fig.show()"
   ]
  },
  {
   "cell_type": "markdown",
   "id": "88d5e511-2cec-4bd6-a77e-e16ec4383494",
   "metadata": {},
   "source": [
    "## 水肿体积相关性分析"
   ]
  },
  {
   "cell_type": "code",
   "execution_count": 177,
   "id": "4671005a-e429-49f2-b6a9-82cfe816d304",
   "metadata": {},
   "outputs": [
    {
     "data": {
      "text/html": [
       "<div>\n",
       "<style scoped>\n",
       "    .dataframe tbody tr th:only-of-type {\n",
       "        vertical-align: middle;\n",
       "    }\n",
       "\n",
       "    .dataframe tbody tr th {\n",
       "        vertical-align: top;\n",
       "    }\n",
       "\n",
       "    .dataframe thead th {\n",
       "        text-align: right;\n",
       "    }\n",
       "</style>\n",
       "<table border=\"1\" class=\"dataframe\">\n",
       "  <thead>\n",
       "    <tr style=\"text-align: right;\">\n",
       "      <th></th>\n",
       "      <th>ID</th>\n",
       "      <th>90天mRS</th>\n",
       "      <th>数据集划分</th>\n",
       "      <th>入院首次影像检查流水号</th>\n",
       "      <th>年龄</th>\n",
       "      <th>性别</th>\n",
       "      <th>脑出血前mRS评分</th>\n",
       "      <th>高血压病史</th>\n",
       "      <th>卒中病史</th>\n",
       "      <th>糖尿病史</th>\n",
       "      <th>...</th>\n",
       "      <th>血压</th>\n",
       "      <th>脑室引流</th>\n",
       "      <th>止血治疗</th>\n",
       "      <th>降颅压治疗</th>\n",
       "      <th>降压治疗</th>\n",
       "      <th>镇静、镇痛治疗</th>\n",
       "      <th>止吐护胃</th>\n",
       "      <th>营养神经</th>\n",
       "      <th>ed</th>\n",
       "      <th>hm</th>\n",
       "    </tr>\n",
       "  </thead>\n",
       "  <tbody>\n",
       "    <tr>\n",
       "      <th>0</th>\n",
       "      <td>sub001</td>\n",
       "      <td>4.0</td>\n",
       "      <td>训练</td>\n",
       "      <td>20161212002136</td>\n",
       "      <td>43</td>\n",
       "      <td>女</td>\n",
       "      <td>0</td>\n",
       "      <td>0</td>\n",
       "      <td>0</td>\n",
       "      <td>0</td>\n",
       "      <td>...</td>\n",
       "      <td>180/90</td>\n",
       "      <td>0</td>\n",
       "      <td>1</td>\n",
       "      <td>1</td>\n",
       "      <td>1</td>\n",
       "      <td>1</td>\n",
       "      <td>1</td>\n",
       "      <td>1</td>\n",
       "      <td>0</td>\n",
       "      <td>0</td>\n",
       "    </tr>\n",
       "    <tr>\n",
       "      <th>1</th>\n",
       "      <td>sub002</td>\n",
       "      <td>0.0</td>\n",
       "      <td>训练</td>\n",
       "      <td>20160406002131</td>\n",
       "      <td>58</td>\n",
       "      <td>男</td>\n",
       "      <td>0</td>\n",
       "      <td>1</td>\n",
       "      <td>0</td>\n",
       "      <td>0</td>\n",
       "      <td>...</td>\n",
       "      <td>199/120</td>\n",
       "      <td>0</td>\n",
       "      <td>1</td>\n",
       "      <td>1</td>\n",
       "      <td>1</td>\n",
       "      <td>0</td>\n",
       "      <td>1</td>\n",
       "      <td>1</td>\n",
       "      <td>2</td>\n",
       "      <td>0</td>\n",
       "    </tr>\n",
       "    <tr>\n",
       "      <th>2</th>\n",
       "      <td>sub003</td>\n",
       "      <td>5.0</td>\n",
       "      <td>训练</td>\n",
       "      <td>20160413000006</td>\n",
       "      <td>78</td>\n",
       "      <td>男</td>\n",
       "      <td>0</td>\n",
       "      <td>1</td>\n",
       "      <td>0</td>\n",
       "      <td>0</td>\n",
       "      <td>...</td>\n",
       "      <td>199/120</td>\n",
       "      <td>0</td>\n",
       "      <td>1</td>\n",
       "      <td>1</td>\n",
       "      <td>1</td>\n",
       "      <td>1</td>\n",
       "      <td>1</td>\n",
       "      <td>1</td>\n",
       "      <td>1</td>\n",
       "      <td>0</td>\n",
       "    </tr>\n",
       "    <tr>\n",
       "      <th>3</th>\n",
       "      <td>sub004</td>\n",
       "      <td>4.0</td>\n",
       "      <td>训练</td>\n",
       "      <td>20161215001667</td>\n",
       "      <td>70</td>\n",
       "      <td>男</td>\n",
       "      <td>2</td>\n",
       "      <td>1</td>\n",
       "      <td>1</td>\n",
       "      <td>0</td>\n",
       "      <td>...</td>\n",
       "      <td>186/99</td>\n",
       "      <td>0</td>\n",
       "      <td>1</td>\n",
       "      <td>1</td>\n",
       "      <td>1</td>\n",
       "      <td>0</td>\n",
       "      <td>0</td>\n",
       "      <td>0</td>\n",
       "      <td>2</td>\n",
       "      <td>0</td>\n",
       "    </tr>\n",
       "    <tr>\n",
       "      <th>4</th>\n",
       "      <td>sub005</td>\n",
       "      <td>3.0</td>\n",
       "      <td>训练</td>\n",
       "      <td>20161222000978</td>\n",
       "      <td>51</td>\n",
       "      <td>男</td>\n",
       "      <td>0</td>\n",
       "      <td>0</td>\n",
       "      <td>0</td>\n",
       "      <td>0</td>\n",
       "      <td>...</td>\n",
       "      <td>135/92</td>\n",
       "      <td>0</td>\n",
       "      <td>1</td>\n",
       "      <td>1</td>\n",
       "      <td>0</td>\n",
       "      <td>0</td>\n",
       "      <td>1</td>\n",
       "      <td>1</td>\n",
       "      <td>2</td>\n",
       "      <td>0</td>\n",
       "    </tr>\n",
       "  </tbody>\n",
       "</table>\n",
       "<p>5 rows × 25 columns</p>\n",
       "</div>"
      ],
      "text/plain": [
       "       ID  90天mRS 数据集划分     入院首次影像检查流水号  年龄 性别  脑出血前mRS评分  高血压病史  卒中病史  糖尿病史  \\\n",
       "0  sub001     4.0    训练  20161212002136  43  女          0      0     0     0   \n",
       "1  sub002     0.0    训练  20160406002131  58  男          0      1     0     0   \n",
       "2  sub003     5.0    训练  20160413000006  78  男          0      1     0     0   \n",
       "3  sub004     4.0    训练  20161215001667  70  男          2      1     1     0   \n",
       "4  sub005     3.0    训练  20161222000978  51  男          0      0     0     0   \n",
       "\n",
       "   ...       血压  脑室引流  止血治疗  降颅压治疗  降压治疗 镇静、镇痛治疗  止吐护胃  营养神经  ed  hm  \n",
       "0  ...   180/90     0     1      1     1       1     1     1   0   0  \n",
       "1  ...  199/120     0     1      1     1       0     1     1   2   0  \n",
       "2  ...  199/120     0     1      1     1       1     1     1   1   0  \n",
       "3  ...   186/99     0     1      1     1       0     0     0   2   0  \n",
       "4  ...   135/92     0     1      1     0       0     1     1   2   0  \n",
       "\n",
       "[5 rows x 25 columns]"
      ]
     },
     "execution_count": 177,
     "metadata": {},
     "output_type": "execute_result"
    }
   ],
   "source": [
    "tab_1_100.head()"
   ]
  },
  {
   "cell_type": "code",
   "execution_count": 204,
   "id": "7da0ef11-62ae-4c01-aca7-aef62fe17e6a",
   "metadata": {
    "collapsed": true,
    "jupyter": {
     "outputs_hidden": true
    },
    "tags": []
   },
   "outputs": [
    {
     "name": "stderr",
     "output_type": "stream",
     "text": [
      "/tmp/ipykernel_78155/2068494105.py:1: SettingWithCopyWarning:\n",
      "\n",
      "\n",
      "A value is trying to be set on a copy of a slice from a DataFrame.\n",
      "Try using .loc[row_indexer,col_indexer] = value instead\n",
      "\n",
      "See the caveats in the documentation: https://pandas.pydata.org/pandas-docs/stable/user_guide/indexing.html#returning-a-view-versus-a-copy\n",
      "\n"
     ]
    }
   ],
   "source": [
    "# 要把数据类型换成 int，不然默认 object 算不了 corr\n",
    "tab_1_100['ed'] = tab_1_100['ed'].astype(int)"
   ]
  },
  {
   "cell_type": "code",
   "execution_count": 277,
   "id": "63053cc1-dd92-4181-adcd-c2f71312938f",
   "metadata": {
    "tags": []
   },
   "outputs": [],
   "source": [
    "pearson_corr = tab_1_100[\"ed\"].corr(tab_1_100[\"脑室引流\"])"
   ]
  },
  {
   "cell_type": "code",
   "execution_count": 278,
   "id": "e6ecf2ae-ea42-41b5-9ce2-867dfad3021c",
   "metadata": {},
   "outputs": [],
   "source": [
    "correlation_matrix = tab_1_100.corr()"
   ]
  },
  {
   "cell_type": "code",
   "execution_count": 279,
   "id": "494d3316-8b2e-4a8d-ab23-3a49af060875",
   "metadata": {},
   "outputs": [
    {
     "data": {
      "text/html": [
       "<div>\n",
       "<style scoped>\n",
       "    .dataframe tbody tr th:only-of-type {\n",
       "        vertical-align: middle;\n",
       "    }\n",
       "\n",
       "    .dataframe tbody tr th {\n",
       "        vertical-align: top;\n",
       "    }\n",
       "\n",
       "    .dataframe thead th {\n",
       "        text-align: right;\n",
       "    }\n",
       "</style>\n",
       "<table border=\"1\" class=\"dataframe\">\n",
       "  <thead>\n",
       "    <tr style=\"text-align: right;\">\n",
       "      <th></th>\n",
       "      <th>90天mRS</th>\n",
       "      <th>入院首次影像检查流水号</th>\n",
       "      <th>年龄</th>\n",
       "      <th>脑出血前mRS评分</th>\n",
       "      <th>高血压病史</th>\n",
       "      <th>卒中病史</th>\n",
       "      <th>糖尿病史</th>\n",
       "      <th>房颤史</th>\n",
       "      <th>冠心病史</th>\n",
       "      <th>吸烟史</th>\n",
       "      <th>...</th>\n",
       "      <th>发病到首次影像检查时间间隔</th>\n",
       "      <th>脑室引流</th>\n",
       "      <th>止血治疗</th>\n",
       "      <th>降颅压治疗</th>\n",
       "      <th>降压治疗</th>\n",
       "      <th>镇静、镇痛治疗</th>\n",
       "      <th>止吐护胃</th>\n",
       "      <th>营养神经</th>\n",
       "      <th>ed</th>\n",
       "      <th>hm</th>\n",
       "    </tr>\n",
       "  </thead>\n",
       "  <tbody>\n",
       "    <tr>\n",
       "      <th>90天mRS</th>\n",
       "      <td>1.000000</td>\n",
       "      <td>0.101548</td>\n",
       "      <td>0.233561</td>\n",
       "      <td>0.058260</td>\n",
       "      <td>0.090089</td>\n",
       "      <td>0.067648</td>\n",
       "      <td>0.313328</td>\n",
       "      <td>0.155620</td>\n",
       "      <td>0.313127</td>\n",
       "      <td>-0.205370</td>\n",
       "      <td>...</td>\n",
       "      <td>0.138745</td>\n",
       "      <td>0.201444</td>\n",
       "      <td>-0.060480</td>\n",
       "      <td>0.164959</td>\n",
       "      <td>0.159672</td>\n",
       "      <td>0.148310</td>\n",
       "      <td>-0.070460</td>\n",
       "      <td>0.019434</td>\n",
       "      <td>-0.036080</td>\n",
       "      <td>-0.312184</td>\n",
       "    </tr>\n",
       "    <tr>\n",
       "      <th>入院首次影像检查流水号</th>\n",
       "      <td>0.101548</td>\n",
       "      <td>1.000000</td>\n",
       "      <td>0.039053</td>\n",
       "      <td>-0.087409</td>\n",
       "      <td>0.087079</td>\n",
       "      <td>-0.045510</td>\n",
       "      <td>0.065783</td>\n",
       "      <td>0.064955</td>\n",
       "      <td>0.241289</td>\n",
       "      <td>0.149792</td>\n",
       "      <td>...</td>\n",
       "      <td>-0.101704</td>\n",
       "      <td>0.110253</td>\n",
       "      <td>-0.138655</td>\n",
       "      <td>-0.087694</td>\n",
       "      <td>0.016170</td>\n",
       "      <td>0.630219</td>\n",
       "      <td>0.260508</td>\n",
       "      <td>0.304084</td>\n",
       "      <td>0.014354</td>\n",
       "      <td>0.040750</td>\n",
       "    </tr>\n",
       "    <tr>\n",
       "      <th>年龄</th>\n",
       "      <td>0.233561</td>\n",
       "      <td>0.039053</td>\n",
       "      <td>1.000000</td>\n",
       "      <td>-0.007503</td>\n",
       "      <td>-0.188249</td>\n",
       "      <td>0.196340</td>\n",
       "      <td>0.108256</td>\n",
       "      <td>0.267706</td>\n",
       "      <td>0.341695</td>\n",
       "      <td>-0.083961</td>\n",
       "      <td>...</td>\n",
       "      <td>-0.057425</td>\n",
       "      <td>-0.070733</td>\n",
       "      <td>-0.388495</td>\n",
       "      <td>-0.245819</td>\n",
       "      <td>-0.112105</td>\n",
       "      <td>-0.042445</td>\n",
       "      <td>-0.010136</td>\n",
       "      <td>-0.046221</td>\n",
       "      <td>0.222030</td>\n",
       "      <td>-0.053750</td>\n",
       "    </tr>\n",
       "    <tr>\n",
       "      <th>脑出血前mRS评分</th>\n",
       "      <td>0.058260</td>\n",
       "      <td>-0.087409</td>\n",
       "      <td>-0.007503</td>\n",
       "      <td>1.000000</td>\n",
       "      <td>0.071361</td>\n",
       "      <td>0.399005</td>\n",
       "      <td>0.169771</td>\n",
       "      <td>-0.044334</td>\n",
       "      <td>-0.060773</td>\n",
       "      <td>0.070606</td>\n",
       "      <td>...</td>\n",
       "      <td>0.042349</td>\n",
       "      <td>-0.048823</td>\n",
       "      <td>0.099634</td>\n",
       "      <td>0.033182</td>\n",
       "      <td>0.056985</td>\n",
       "      <td>-0.099220</td>\n",
       "      <td>-0.343626</td>\n",
       "      <td>-0.289273</td>\n",
       "      <td>0.074078</td>\n",
       "      <td>0.177455</td>\n",
       "    </tr>\n",
       "    <tr>\n",
       "      <th>高血压病史</th>\n",
       "      <td>0.090089</td>\n",
       "      <td>0.087079</td>\n",
       "      <td>-0.188249</td>\n",
       "      <td>0.071361</td>\n",
       "      <td>1.000000</td>\n",
       "      <td>0.178848</td>\n",
       "      <td>0.085200</td>\n",
       "      <td>-0.056478</td>\n",
       "      <td>0.008602</td>\n",
       "      <td>0.100406</td>\n",
       "      <td>...</td>\n",
       "      <td>0.068248</td>\n",
       "      <td>0.093296</td>\n",
       "      <td>-0.039287</td>\n",
       "      <td>-0.135461</td>\n",
       "      <td>0.004537</td>\n",
       "      <td>0.103418</td>\n",
       "      <td>0.115452</td>\n",
       "      <td>-0.075378</td>\n",
       "      <td>0.072922</td>\n",
       "      <td>-0.149304</td>\n",
       "    </tr>\n",
       "    <tr>\n",
       "      <th>卒中病史</th>\n",
       "      <td>0.067648</td>\n",
       "      <td>-0.045510</td>\n",
       "      <td>0.196340</td>\n",
       "      <td>0.399005</td>\n",
       "      <td>0.178848</td>\n",
       "      <td>1.000000</td>\n",
       "      <td>0.187974</td>\n",
       "      <td>0.122807</td>\n",
       "      <td>0.114902</td>\n",
       "      <td>0.090318</td>\n",
       "      <td>...</td>\n",
       "      <td>-0.093960</td>\n",
       "      <td>-0.015027</td>\n",
       "      <td>-0.125792</td>\n",
       "      <td>-0.265003</td>\n",
       "      <td>-0.045101</td>\n",
       "      <td>-0.082096</td>\n",
       "      <td>-0.064254</td>\n",
       "      <td>-0.291382</td>\n",
       "      <td>0.052410</td>\n",
       "      <td>0.016770</td>\n",
       "    </tr>\n",
       "    <tr>\n",
       "      <th>糖尿病史</th>\n",
       "      <td>0.313328</td>\n",
       "      <td>0.065783</td>\n",
       "      <td>0.108256</td>\n",
       "      <td>0.169771</td>\n",
       "      <td>0.085200</td>\n",
       "      <td>0.187974</td>\n",
       "      <td>1.000000</td>\n",
       "      <td>0.018322</td>\n",
       "      <td>0.229769</td>\n",
       "      <td>0.120113</td>\n",
       "      <td>...</td>\n",
       "      <td>0.057979</td>\n",
       "      <td>-0.002242</td>\n",
       "      <td>-0.028105</td>\n",
       "      <td>0.191988</td>\n",
       "      <td>0.133456</td>\n",
       "      <td>0.115561</td>\n",
       "      <td>0.079590</td>\n",
       "      <td>-0.043473</td>\n",
       "      <td>-0.089371</td>\n",
       "      <td>0.014230</td>\n",
       "    </tr>\n",
       "    <tr>\n",
       "      <th>房颤史</th>\n",
       "      <td>0.155620</td>\n",
       "      <td>0.064955</td>\n",
       "      <td>0.267706</td>\n",
       "      <td>-0.044334</td>\n",
       "      <td>-0.056478</td>\n",
       "      <td>0.122807</td>\n",
       "      <td>0.018322</td>\n",
       "      <td>1.000000</td>\n",
       "      <td>0.569167</td>\n",
       "      <td>0.005848</td>\n",
       "      <td>...</td>\n",
       "      <td>-0.053061</td>\n",
       "      <td>-0.057961</td>\n",
       "      <td>-0.107017</td>\n",
       "      <td>0.021487</td>\n",
       "      <td>0.067651</td>\n",
       "      <td>-0.032125</td>\n",
       "      <td>0.040346</td>\n",
       "      <td>0.046829</td>\n",
       "      <td>0.007995</td>\n",
       "      <td>-0.245256</td>\n",
       "    </tr>\n",
       "    <tr>\n",
       "      <th>冠心病史</th>\n",
       "      <td>0.313127</td>\n",
       "      <td>0.241289</td>\n",
       "      <td>0.341695</td>\n",
       "      <td>-0.060773</td>\n",
       "      <td>0.008602</td>\n",
       "      <td>0.114902</td>\n",
       "      <td>0.229769</td>\n",
       "      <td>0.569167</td>\n",
       "      <td>1.000000</td>\n",
       "      <td>-0.063241</td>\n",
       "      <td>...</td>\n",
       "      <td>-0.071840</td>\n",
       "      <td>0.067682</td>\n",
       "      <td>-0.181016</td>\n",
       "      <td>-0.068727</td>\n",
       "      <td>-0.036064</td>\n",
       "      <td>0.132110</td>\n",
       "      <td>0.055306</td>\n",
       "      <td>0.064194</td>\n",
       "      <td>-0.062103</td>\n",
       "      <td>-0.285913</td>\n",
       "    </tr>\n",
       "    <tr>\n",
       "      <th>吸烟史</th>\n",
       "      <td>-0.205370</td>\n",
       "      <td>0.149792</td>\n",
       "      <td>-0.083961</td>\n",
       "      <td>0.070606</td>\n",
       "      <td>0.100406</td>\n",
       "      <td>0.090318</td>\n",
       "      <td>0.120113</td>\n",
       "      <td>0.005848</td>\n",
       "      <td>-0.063241</td>\n",
       "      <td>1.000000</td>\n",
       "      <td>...</td>\n",
       "      <td>-0.009308</td>\n",
       "      <td>-0.122362</td>\n",
       "      <td>0.187124</td>\n",
       "      <td>-0.085947</td>\n",
       "      <td>0.142819</td>\n",
       "      <td>0.060680</td>\n",
       "      <td>0.085174</td>\n",
       "      <td>-0.031220</td>\n",
       "      <td>0.052410</td>\n",
       "      <td>0.252592</td>\n",
       "    </tr>\n",
       "    <tr>\n",
       "      <th>饮酒史</th>\n",
       "      <td>-0.254885</td>\n",
       "      <td>0.150114</td>\n",
       "      <td>-0.154589</td>\n",
       "      <td>0.027752</td>\n",
       "      <td>0.041667</td>\n",
       "      <td>-0.021964</td>\n",
       "      <td>-0.085200</td>\n",
       "      <td>-0.084717</td>\n",
       "      <td>-0.116131</td>\n",
       "      <td>0.605572</td>\n",
       "      <td>...</td>\n",
       "      <td>-0.099763</td>\n",
       "      <td>-0.093296</td>\n",
       "      <td>0.190391</td>\n",
       "      <td>-0.080700</td>\n",
       "      <td>0.108893</td>\n",
       "      <td>-0.017236</td>\n",
       "      <td>0.064942</td>\n",
       "      <td>0.075378</td>\n",
       "      <td>0.213047</td>\n",
       "      <td>0.117672</td>\n",
       "    </tr>\n",
       "    <tr>\n",
       "      <th>发病到首次影像检查时间间隔</th>\n",
       "      <td>0.138745</td>\n",
       "      <td>-0.101704</td>\n",
       "      <td>-0.057425</td>\n",
       "      <td>0.042349</td>\n",
       "      <td>0.068248</td>\n",
       "      <td>-0.093960</td>\n",
       "      <td>0.057979</td>\n",
       "      <td>-0.053061</td>\n",
       "      <td>-0.071840</td>\n",
       "      <td>-0.009308</td>\n",
       "      <td>...</td>\n",
       "      <td>1.000000</td>\n",
       "      <td>0.147362</td>\n",
       "      <td>-0.158245</td>\n",
       "      <td>-0.020836</td>\n",
       "      <td>-0.027711</td>\n",
       "      <td>-0.196000</td>\n",
       "      <td>0.093538</td>\n",
       "      <td>0.043532</td>\n",
       "      <td>0.082147</td>\n",
       "      <td>-0.025349</td>\n",
       "    </tr>\n",
       "    <tr>\n",
       "      <th>脑室引流</th>\n",
       "      <td>0.201444</td>\n",
       "      <td>0.110253</td>\n",
       "      <td>-0.070733</td>\n",
       "      <td>-0.048823</td>\n",
       "      <td>0.093296</td>\n",
       "      <td>-0.015027</td>\n",
       "      <td>-0.002242</td>\n",
       "      <td>-0.057961</td>\n",
       "      <td>0.067682</td>\n",
       "      <td>-0.122362</td>\n",
       "      <td>...</td>\n",
       "      <td>0.147362</td>\n",
       "      <td>1.000000</td>\n",
       "      <td>-0.076501</td>\n",
       "      <td>-0.055212</td>\n",
       "      <td>0.074501</td>\n",
       "      <td>-0.011792</td>\n",
       "      <td>0.044431</td>\n",
       "      <td>0.051571</td>\n",
       "      <td>0.047934</td>\n",
       "      <td>-0.070985</td>\n",
       "    </tr>\n",
       "    <tr>\n",
       "      <th>止血治疗</th>\n",
       "      <td>-0.060480</td>\n",
       "      <td>-0.138655</td>\n",
       "      <td>-0.388495</td>\n",
       "      <td>0.099634</td>\n",
       "      <td>-0.039287</td>\n",
       "      <td>-0.125792</td>\n",
       "      <td>-0.028105</td>\n",
       "      <td>-0.107017</td>\n",
       "      <td>-0.181016</td>\n",
       "      <td>0.187124</td>\n",
       "      <td>...</td>\n",
       "      <td>-0.158245</td>\n",
       "      <td>-0.076501</td>\n",
       "      <td>1.000000</td>\n",
       "      <td>0.457591</td>\n",
       "      <td>0.300453</td>\n",
       "      <td>0.058444</td>\n",
       "      <td>-0.090672</td>\n",
       "      <td>0.020046</td>\n",
       "      <td>0.073295</td>\n",
       "      <td>0.056531</td>\n",
       "    </tr>\n",
       "    <tr>\n",
       "      <th>降颅压治疗</th>\n",
       "      <td>0.164959</td>\n",
       "      <td>-0.087694</td>\n",
       "      <td>-0.245819</td>\n",
       "      <td>0.033182</td>\n",
       "      <td>-0.135461</td>\n",
       "      <td>-0.265003</td>\n",
       "      <td>0.191988</td>\n",
       "      <td>0.021487</td>\n",
       "      <td>-0.068727</td>\n",
       "      <td>-0.085947</td>\n",
       "      <td>...</td>\n",
       "      <td>-0.020836</td>\n",
       "      <td>-0.055212</td>\n",
       "      <td>0.457591</td>\n",
       "      <td>1.000000</td>\n",
       "      <td>0.352135</td>\n",
       "      <td>-0.039344</td>\n",
       "      <td>0.038433</td>\n",
       "      <td>0.004779</td>\n",
       "      <td>-0.106619</td>\n",
       "      <td>0.061616</td>\n",
       "    </tr>\n",
       "    <tr>\n",
       "      <th>降压治疗</th>\n",
       "      <td>0.159672</td>\n",
       "      <td>0.016170</td>\n",
       "      <td>-0.112105</td>\n",
       "      <td>0.056985</td>\n",
       "      <td>0.004537</td>\n",
       "      <td>-0.045101</td>\n",
       "      <td>0.133456</td>\n",
       "      <td>0.067651</td>\n",
       "      <td>-0.036064</td>\n",
       "      <td>0.142819</td>\n",
       "      <td>...</td>\n",
       "      <td>-0.027711</td>\n",
       "      <td>0.074501</td>\n",
       "      <td>0.300453</td>\n",
       "      <td>0.352135</td>\n",
       "      <td>1.000000</td>\n",
       "      <td>0.082584</td>\n",
       "      <td>-0.051859</td>\n",
       "      <td>0.127910</td>\n",
       "      <td>-0.241491</td>\n",
       "      <td>0.057593</td>\n",
       "    </tr>\n",
       "    <tr>\n",
       "      <th>镇静、镇痛治疗</th>\n",
       "      <td>0.148310</td>\n",
       "      <td>0.630219</td>\n",
       "      <td>-0.042445</td>\n",
       "      <td>-0.099220</td>\n",
       "      <td>0.103418</td>\n",
       "      <td>-0.082096</td>\n",
       "      <td>0.115561</td>\n",
       "      <td>-0.032125</td>\n",
       "      <td>0.132110</td>\n",
       "      <td>0.060680</td>\n",
       "      <td>...</td>\n",
       "      <td>-0.196000</td>\n",
       "      <td>-0.011792</td>\n",
       "      <td>0.058444</td>\n",
       "      <td>-0.039344</td>\n",
       "      <td>0.082584</td>\n",
       "      <td>1.000000</td>\n",
       "      <td>0.418638</td>\n",
       "      <td>0.200082</td>\n",
       "      <td>-0.047171</td>\n",
       "      <td>0.074848</td>\n",
       "    </tr>\n",
       "    <tr>\n",
       "      <th>止吐护胃</th>\n",
       "      <td>-0.070460</td>\n",
       "      <td>0.260508</td>\n",
       "      <td>-0.010136</td>\n",
       "      <td>-0.343626</td>\n",
       "      <td>0.115452</td>\n",
       "      <td>-0.064254</td>\n",
       "      <td>0.079590</td>\n",
       "      <td>0.040346</td>\n",
       "      <td>0.055306</td>\n",
       "      <td>0.085174</td>\n",
       "      <td>...</td>\n",
       "      <td>0.093538</td>\n",
       "      <td>0.044431</td>\n",
       "      <td>-0.090672</td>\n",
       "      <td>0.038433</td>\n",
       "      <td>-0.051859</td>\n",
       "      <td>0.418638</td>\n",
       "      <td>1.000000</td>\n",
       "      <td>0.263251</td>\n",
       "      <td>0.034728</td>\n",
       "      <td>-0.040976</td>\n",
       "    </tr>\n",
       "    <tr>\n",
       "      <th>营养神经</th>\n",
       "      <td>0.019434</td>\n",
       "      <td>0.304084</td>\n",
       "      <td>-0.046221</td>\n",
       "      <td>-0.289273</td>\n",
       "      <td>-0.075378</td>\n",
       "      <td>-0.291382</td>\n",
       "      <td>-0.043473</td>\n",
       "      <td>0.046829</td>\n",
       "      <td>0.064194</td>\n",
       "      <td>-0.031220</td>\n",
       "      <td>...</td>\n",
       "      <td>0.043532</td>\n",
       "      <td>0.051571</td>\n",
       "      <td>0.020046</td>\n",
       "      <td>0.004779</td>\n",
       "      <td>0.127910</td>\n",
       "      <td>0.200082</td>\n",
       "      <td>0.263251</td>\n",
       "      <td>1.000000</td>\n",
       "      <td>0.040309</td>\n",
       "      <td>-0.065046</td>\n",
       "    </tr>\n",
       "    <tr>\n",
       "      <th>ed</th>\n",
       "      <td>-0.036080</td>\n",
       "      <td>0.014354</td>\n",
       "      <td>0.222030</td>\n",
       "      <td>0.074078</td>\n",
       "      <td>0.072922</td>\n",
       "      <td>0.052410</td>\n",
       "      <td>-0.089371</td>\n",
       "      <td>0.007995</td>\n",
       "      <td>-0.062103</td>\n",
       "      <td>0.052410</td>\n",
       "      <td>...</td>\n",
       "      <td>0.082147</td>\n",
       "      <td>0.047934</td>\n",
       "      <td>0.073295</td>\n",
       "      <td>-0.106619</td>\n",
       "      <td>-0.241491</td>\n",
       "      <td>-0.047171</td>\n",
       "      <td>0.034728</td>\n",
       "      <td>0.040309</td>\n",
       "      <td>1.000000</td>\n",
       "      <td>-0.005731</td>\n",
       "    </tr>\n",
       "    <tr>\n",
       "      <th>hm</th>\n",
       "      <td>-0.312184</td>\n",
       "      <td>0.040750</td>\n",
       "      <td>-0.053750</td>\n",
       "      <td>0.177455</td>\n",
       "      <td>-0.149304</td>\n",
       "      <td>0.016770</td>\n",
       "      <td>0.014230</td>\n",
       "      <td>-0.245256</td>\n",
       "      <td>-0.285913</td>\n",
       "      <td>0.252592</td>\n",
       "      <td>...</td>\n",
       "      <td>-0.025349</td>\n",
       "      <td>-0.070985</td>\n",
       "      <td>0.056531</td>\n",
       "      <td>0.061616</td>\n",
       "      <td>0.057593</td>\n",
       "      <td>0.074848</td>\n",
       "      <td>-0.040976</td>\n",
       "      <td>-0.065046</td>\n",
       "      <td>-0.005731</td>\n",
       "      <td>1.000000</td>\n",
       "    </tr>\n",
       "  </tbody>\n",
       "</table>\n",
       "<p>21 rows × 21 columns</p>\n",
       "</div>"
      ],
      "text/plain": [
       "                 90天mRS  入院首次影像检查流水号        年龄  脑出血前mRS评分     高血压病史      卒中病史  \\\n",
       "90天mRS         1.000000     0.101548  0.233561   0.058260  0.090089  0.067648   \n",
       "入院首次影像检查流水号    0.101548     1.000000  0.039053  -0.087409  0.087079 -0.045510   \n",
       "年龄             0.233561     0.039053  1.000000  -0.007503 -0.188249  0.196340   \n",
       "脑出血前mRS评分      0.058260    -0.087409 -0.007503   1.000000  0.071361  0.399005   \n",
       "高血压病史          0.090089     0.087079 -0.188249   0.071361  1.000000  0.178848   \n",
       "卒中病史           0.067648    -0.045510  0.196340   0.399005  0.178848  1.000000   \n",
       "糖尿病史           0.313328     0.065783  0.108256   0.169771  0.085200  0.187974   \n",
       "房颤史            0.155620     0.064955  0.267706  -0.044334 -0.056478  0.122807   \n",
       "冠心病史           0.313127     0.241289  0.341695  -0.060773  0.008602  0.114902   \n",
       "吸烟史           -0.205370     0.149792 -0.083961   0.070606  0.100406  0.090318   \n",
       "饮酒史           -0.254885     0.150114 -0.154589   0.027752  0.041667 -0.021964   \n",
       "发病到首次影像检查时间间隔  0.138745    -0.101704 -0.057425   0.042349  0.068248 -0.093960   \n",
       "脑室引流           0.201444     0.110253 -0.070733  -0.048823  0.093296 -0.015027   \n",
       "止血治疗          -0.060480    -0.138655 -0.388495   0.099634 -0.039287 -0.125792   \n",
       "降颅压治疗          0.164959    -0.087694 -0.245819   0.033182 -0.135461 -0.265003   \n",
       "降压治疗           0.159672     0.016170 -0.112105   0.056985  0.004537 -0.045101   \n",
       "镇静、镇痛治疗        0.148310     0.630219 -0.042445  -0.099220  0.103418 -0.082096   \n",
       "止吐护胃          -0.070460     0.260508 -0.010136  -0.343626  0.115452 -0.064254   \n",
       "营养神经           0.019434     0.304084 -0.046221  -0.289273 -0.075378 -0.291382   \n",
       "ed            -0.036080     0.014354  0.222030   0.074078  0.072922  0.052410   \n",
       "hm            -0.312184     0.040750 -0.053750   0.177455 -0.149304  0.016770   \n",
       "\n",
       "                   糖尿病史       房颤史      冠心病史       吸烟史  ...  发病到首次影像检查时间间隔  \\\n",
       "90天mRS         0.313328  0.155620  0.313127 -0.205370  ...       0.138745   \n",
       "入院首次影像检查流水号    0.065783  0.064955  0.241289  0.149792  ...      -0.101704   \n",
       "年龄             0.108256  0.267706  0.341695 -0.083961  ...      -0.057425   \n",
       "脑出血前mRS评分      0.169771 -0.044334 -0.060773  0.070606  ...       0.042349   \n",
       "高血压病史          0.085200 -0.056478  0.008602  0.100406  ...       0.068248   \n",
       "卒中病史           0.187974  0.122807  0.114902  0.090318  ...      -0.093960   \n",
       "糖尿病史           1.000000  0.018322  0.229769  0.120113  ...       0.057979   \n",
       "房颤史            0.018322  1.000000  0.569167  0.005848  ...      -0.053061   \n",
       "冠心病史           0.229769  0.569167  1.000000 -0.063241  ...      -0.071840   \n",
       "吸烟史            0.120113  0.005848 -0.063241  1.000000  ...      -0.009308   \n",
       "饮酒史           -0.085200 -0.084717 -0.116131  0.605572  ...      -0.099763   \n",
       "发病到首次影像检查时间间隔  0.057979 -0.053061 -0.071840 -0.009308  ...       1.000000   \n",
       "脑室引流          -0.002242 -0.057961  0.067682 -0.122362  ...       0.147362   \n",
       "止血治疗          -0.028105 -0.107017 -0.181016  0.187124  ...      -0.158245   \n",
       "降颅压治疗          0.191988  0.021487 -0.068727 -0.085947  ...      -0.020836   \n",
       "降压治疗           0.133456  0.067651 -0.036064  0.142819  ...      -0.027711   \n",
       "镇静、镇痛治疗        0.115561 -0.032125  0.132110  0.060680  ...      -0.196000   \n",
       "止吐护胃           0.079590  0.040346  0.055306  0.085174  ...       0.093538   \n",
       "营养神经          -0.043473  0.046829  0.064194 -0.031220  ...       0.043532   \n",
       "ed            -0.089371  0.007995 -0.062103  0.052410  ...       0.082147   \n",
       "hm             0.014230 -0.245256 -0.285913  0.252592  ...      -0.025349   \n",
       "\n",
       "                   脑室引流      止血治疗     降颅压治疗      降压治疗   镇静、镇痛治疗      止吐护胃  \\\n",
       "90天mRS         0.201444 -0.060480  0.164959  0.159672  0.148310 -0.070460   \n",
       "入院首次影像检查流水号    0.110253 -0.138655 -0.087694  0.016170  0.630219  0.260508   \n",
       "年龄            -0.070733 -0.388495 -0.245819 -0.112105 -0.042445 -0.010136   \n",
       "脑出血前mRS评分     -0.048823  0.099634  0.033182  0.056985 -0.099220 -0.343626   \n",
       "高血压病史          0.093296 -0.039287 -0.135461  0.004537  0.103418  0.115452   \n",
       "卒中病史          -0.015027 -0.125792 -0.265003 -0.045101 -0.082096 -0.064254   \n",
       "糖尿病史          -0.002242 -0.028105  0.191988  0.133456  0.115561  0.079590   \n",
       "房颤史           -0.057961 -0.107017  0.021487  0.067651 -0.032125  0.040346   \n",
       "冠心病史           0.067682 -0.181016 -0.068727 -0.036064  0.132110  0.055306   \n",
       "吸烟史           -0.122362  0.187124 -0.085947  0.142819  0.060680  0.085174   \n",
       "饮酒史           -0.093296  0.190391 -0.080700  0.108893 -0.017236  0.064942   \n",
       "发病到首次影像检查时间间隔  0.147362 -0.158245 -0.020836 -0.027711 -0.196000  0.093538   \n",
       "脑室引流           1.000000 -0.076501 -0.055212  0.074501 -0.011792  0.044431   \n",
       "止血治疗          -0.076501  1.000000  0.457591  0.300453  0.058444 -0.090672   \n",
       "降颅压治疗         -0.055212  0.457591  1.000000  0.352135 -0.039344  0.038433   \n",
       "降压治疗           0.074501  0.300453  0.352135  1.000000  0.082584 -0.051859   \n",
       "镇静、镇痛治疗       -0.011792  0.058444 -0.039344  0.082584  1.000000  0.418638   \n",
       "止吐护胃           0.044431 -0.090672  0.038433 -0.051859  0.418638  1.000000   \n",
       "营养神经           0.051571  0.020046  0.004779  0.127910  0.200082  0.263251   \n",
       "ed             0.047934  0.073295 -0.106619 -0.241491 -0.047171  0.034728   \n",
       "hm            -0.070985  0.056531  0.061616  0.057593  0.074848 -0.040976   \n",
       "\n",
       "                   营养神经        ed        hm  \n",
       "90天mRS         0.019434 -0.036080 -0.312184  \n",
       "入院首次影像检查流水号    0.304084  0.014354  0.040750  \n",
       "年龄            -0.046221  0.222030 -0.053750  \n",
       "脑出血前mRS评分     -0.289273  0.074078  0.177455  \n",
       "高血压病史         -0.075378  0.072922 -0.149304  \n",
       "卒中病史          -0.291382  0.052410  0.016770  \n",
       "糖尿病史          -0.043473 -0.089371  0.014230  \n",
       "房颤史            0.046829  0.007995 -0.245256  \n",
       "冠心病史           0.064194 -0.062103 -0.285913  \n",
       "吸烟史           -0.031220  0.052410  0.252592  \n",
       "饮酒史            0.075378  0.213047  0.117672  \n",
       "发病到首次影像检查时间间隔  0.043532  0.082147 -0.025349  \n",
       "脑室引流           0.051571  0.047934 -0.070985  \n",
       "止血治疗           0.020046  0.073295  0.056531  \n",
       "降颅压治疗          0.004779 -0.106619  0.061616  \n",
       "降压治疗           0.127910 -0.241491  0.057593  \n",
       "镇静、镇痛治疗        0.200082 -0.047171  0.074848  \n",
       "止吐护胃           0.263251  0.034728 -0.040976  \n",
       "营养神经           1.000000  0.040309 -0.065046  \n",
       "ed             0.040309  1.000000 -0.005731  \n",
       "hm            -0.065046 -0.005731  1.000000  \n",
       "\n",
       "[21 rows x 21 columns]"
      ]
     },
     "execution_count": 279,
     "metadata": {},
     "output_type": "execute_result"
    }
   ],
   "source": [
    "correlation_matrix"
   ]
  },
  {
   "cell_type": "code",
   "execution_count": 206,
   "id": "cc2230ed-677d-4ab2-9d70-aecacc3d1aa0",
   "metadata": {},
   "outputs": [
    {
     "data": {
      "text/plain": [
       "dtype('int64')"
      ]
     },
     "execution_count": 206,
     "metadata": {},
     "output_type": "execute_result"
    }
   ],
   "source": [
    "tab_1_100[\"ed\"].dtype"
   ]
  },
  {
   "cell_type": "markdown",
   "id": "ab6d700f-ea94-43ab-8150-c8eff7841b33",
   "metadata": {},
   "source": [
    "### One-Hot+LR   \n",
    "每种治疗方案相当于是一种治疗特征，进展模式0~2做回归"
   ]
  },
  {
   "cell_type": "code",
   "execution_count": 280,
   "id": "fa83f9e4-0e32-4b75-91b2-cff806018344",
   "metadata": {},
   "outputs": [
    {
     "data": {
      "text/html": [
       "<div>\n",
       "<style scoped>\n",
       "    .dataframe tbody tr th:only-of-type {\n",
       "        vertical-align: middle;\n",
       "    }\n",
       "\n",
       "    .dataframe tbody tr th {\n",
       "        vertical-align: top;\n",
       "    }\n",
       "\n",
       "    .dataframe thead th {\n",
       "        text-align: right;\n",
       "    }\n",
       "</style>\n",
       "<table border=\"1\" class=\"dataframe\">\n",
       "  <thead>\n",
       "    <tr style=\"text-align: right;\">\n",
       "      <th></th>\n",
       "      <th>脑室引流</th>\n",
       "      <th>止血治疗</th>\n",
       "      <th>降颅压治疗</th>\n",
       "      <th>降压治疗</th>\n",
       "      <th>镇静、镇痛治疗</th>\n",
       "      <th>止吐护胃</th>\n",
       "      <th>营养神经</th>\n",
       "      <th>ed</th>\n",
       "      <th>hm</th>\n",
       "    </tr>\n",
       "  </thead>\n",
       "  <tbody>\n",
       "    <tr>\n",
       "      <th>0</th>\n",
       "      <td>0</td>\n",
       "      <td>1</td>\n",
       "      <td>1</td>\n",
       "      <td>1</td>\n",
       "      <td>1</td>\n",
       "      <td>1</td>\n",
       "      <td>1</td>\n",
       "      <td>0</td>\n",
       "      <td>1</td>\n",
       "    </tr>\n",
       "    <tr>\n",
       "      <th>1</th>\n",
       "      <td>0</td>\n",
       "      <td>1</td>\n",
       "      <td>1</td>\n",
       "      <td>1</td>\n",
       "      <td>0</td>\n",
       "      <td>1</td>\n",
       "      <td>1</td>\n",
       "      <td>2</td>\n",
       "      <td>1</td>\n",
       "    </tr>\n",
       "    <tr>\n",
       "      <th>2</th>\n",
       "      <td>0</td>\n",
       "      <td>1</td>\n",
       "      <td>1</td>\n",
       "      <td>1</td>\n",
       "      <td>1</td>\n",
       "      <td>1</td>\n",
       "      <td>1</td>\n",
       "      <td>1</td>\n",
       "      <td>0</td>\n",
       "    </tr>\n",
       "    <tr>\n",
       "      <th>3</th>\n",
       "      <td>0</td>\n",
       "      <td>1</td>\n",
       "      <td>1</td>\n",
       "      <td>1</td>\n",
       "      <td>0</td>\n",
       "      <td>0</td>\n",
       "      <td>0</td>\n",
       "      <td>2</td>\n",
       "      <td>2</td>\n",
       "    </tr>\n",
       "    <tr>\n",
       "      <th>4</th>\n",
       "      <td>0</td>\n",
       "      <td>1</td>\n",
       "      <td>1</td>\n",
       "      <td>0</td>\n",
       "      <td>0</td>\n",
       "      <td>1</td>\n",
       "      <td>1</td>\n",
       "      <td>2</td>\n",
       "      <td>0</td>\n",
       "    </tr>\n",
       "    <tr>\n",
       "      <th>...</th>\n",
       "      <td>...</td>\n",
       "      <td>...</td>\n",
       "      <td>...</td>\n",
       "      <td>...</td>\n",
       "      <td>...</td>\n",
       "      <td>...</td>\n",
       "      <td>...</td>\n",
       "      <td>...</td>\n",
       "      <td>...</td>\n",
       "    </tr>\n",
       "    <tr>\n",
       "      <th>95</th>\n",
       "      <td>0</td>\n",
       "      <td>0</td>\n",
       "      <td>0</td>\n",
       "      <td>1</td>\n",
       "      <td>1</td>\n",
       "      <td>1</td>\n",
       "      <td>1</td>\n",
       "      <td>2</td>\n",
       "      <td>1</td>\n",
       "    </tr>\n",
       "    <tr>\n",
       "      <th>96</th>\n",
       "      <td>0</td>\n",
       "      <td>1</td>\n",
       "      <td>1</td>\n",
       "      <td>1</td>\n",
       "      <td>1</td>\n",
       "      <td>1</td>\n",
       "      <td>1</td>\n",
       "      <td>2</td>\n",
       "      <td>3</td>\n",
       "    </tr>\n",
       "    <tr>\n",
       "      <th>97</th>\n",
       "      <td>0</td>\n",
       "      <td>1</td>\n",
       "      <td>1</td>\n",
       "      <td>1</td>\n",
       "      <td>1</td>\n",
       "      <td>1</td>\n",
       "      <td>1</td>\n",
       "      <td>2</td>\n",
       "      <td>1</td>\n",
       "    </tr>\n",
       "    <tr>\n",
       "      <th>98</th>\n",
       "      <td>1</td>\n",
       "      <td>1</td>\n",
       "      <td>1</td>\n",
       "      <td>1</td>\n",
       "      <td>1</td>\n",
       "      <td>1</td>\n",
       "      <td>1</td>\n",
       "      <td>1</td>\n",
       "      <td>0</td>\n",
       "    </tr>\n",
       "    <tr>\n",
       "      <th>99</th>\n",
       "      <td>0</td>\n",
       "      <td>1</td>\n",
       "      <td>1</td>\n",
       "      <td>1</td>\n",
       "      <td>1</td>\n",
       "      <td>1</td>\n",
       "      <td>1</td>\n",
       "      <td>2</td>\n",
       "      <td>3</td>\n",
       "    </tr>\n",
       "  </tbody>\n",
       "</table>\n",
       "<p>100 rows × 9 columns</p>\n",
       "</div>"
      ],
      "text/plain": [
       "    脑室引流  止血治疗  降颅压治疗  降压治疗  镇静、镇痛治疗  止吐护胃  营养神经  ed  hm\n",
       "0      0     1      1     1        1     1     1   0   1\n",
       "1      0     1      1     1        0     1     1   2   1\n",
       "2      0     1      1     1        1     1     1   1   0\n",
       "3      0     1      1     1        0     0     0   2   2\n",
       "4      0     1      1     0        0     1     1   2   0\n",
       "..   ...   ...    ...   ...      ...   ...   ...  ..  ..\n",
       "95     0     0      0     1        1     1     1   2   1\n",
       "96     0     1      1     1        1     1     1   2   3\n",
       "97     0     1      1     1        1     1     1   2   1\n",
       "98     1     1      1     1        1     1     1   1   0\n",
       "99     0     1      1     1        1     1     1   2   3\n",
       "\n",
       "[100 rows x 9 columns]"
      ]
     },
     "execution_count": 280,
     "metadata": {},
     "output_type": "execute_result"
    }
   ],
   "source": [
    "tab_1_100[[\"脑室引流\",\"止血治疗\",\"降颅压治疗\",\"降压治疗\",\"镇静、镇痛治疗\",\"止吐护胃\",\"营养神经\",\"ed\",\"hm\"]]"
   ]
  },
  {
   "cell_type": "code",
   "execution_count": 221,
   "id": "f7e42ae7-5225-4a34-847f-7212df09acb5",
   "metadata": {},
   "outputs": [],
   "source": [
    "import numpy as np"
   ]
  },
  {
   "cell_type": "code",
   "execution_count": 220,
   "id": "e0376079-7bed-4a0c-85f5-d306364d205a",
   "metadata": {},
   "outputs": [],
   "source": [
    "X_ed = list()\n",
    "y_ed = list()\n",
    "\n",
    "for i, data in tab_1_100.iterrows():\n",
    "    data = list(data)[16:24]\n",
    "    X_ed.append(data[:7])\n",
    "    y_ed.append(data[-1])"
   ]
  },
  {
   "cell_type": "code",
   "execution_count": 222,
   "id": "96873c0a-7652-4ea1-b477-7366a236bf41",
   "metadata": {},
   "outputs": [],
   "source": [
    "X_ed_np = np.array(X_ed)\n",
    "y_ed_np = np.array(y_ed)"
   ]
  },
  {
   "cell_type": "code",
   "execution_count": 227,
   "id": "18129b91-5df5-45ed-ac73-fe98b5abde42",
   "metadata": {},
   "outputs": [],
   "source": [
    "from sklearn.linear_model import LogisticRegression\n",
    "from sklearn.model_selection import train_test_split\n",
    "from sklearn.model_selection import cross_val_score\n",
    "from sklearn.metrics import mean_squared_error\n",
    "from sklearn.metrics import r2_score"
   ]
  },
  {
   "cell_type": "code",
   "execution_count": 289,
   "id": "d48f26f5-21e3-49f6-abb2-6f761e005302",
   "metadata": {},
   "outputs": [],
   "source": [
    "# 数据集划分\n",
    "X_train, X_test, y_train, y_test = train_test_split(X_ed_np, y_ed_np, test_size=0.2, random_state=42)\n",
    "\n",
    "logreg = LogisticRegression()"
   ]
  },
  {
   "cell_type": "code",
   "execution_count": 238,
   "id": "e42f9478-61de-4dac-8a90-e90e1963942c",
   "metadata": {},
   "outputs": [
    {
     "name": "stdout",
     "output_type": "stream",
     "text": [
      "交叉验证的平均R2： -0.8382618918430096\n"
     ]
    }
   ],
   "source": [
    "# 使用交叉验证评估模型性能\n",
    "scores = cross_val_score(logreg, X_ed_np, y_ed_np, cv=5, scoring='r2')\n",
    "\n",
    "# 交叉验证的结果是负均方误差（Negative Mean Squared Error），需要取其相反数并计算平均值\n",
    "# mse_scores = -scores\n",
    "# mean_mse = mse_scores.mean()\n",
    "mean_r2 = scores.mean()\n",
    "\n",
    "# print(\"交叉验证的平均均方误差：\", mean_mse)\n",
    "print(\"交叉验证的平均R2：\", mean_r2)"
   ]
  },
  {
   "cell_type": "code",
   "execution_count": 242,
   "id": "c23fea2e-7fb1-4d4c-9e9f-d9a50f9ee8f1",
   "metadata": {},
   "outputs": [
    {
     "name": "stdout",
     "output_type": "stream",
     "text": [
      "均方误差（MSE）： 2.2\n",
      "R^2： -1.8947368421052633\n",
      "Feature 1 Coefficient: -0.15727632185359566\n",
      "Feature 2 Coefficient: -0.420630459539834\n",
      "Feature 3 Coefficient: -0.006679604680470564\n",
      "Feature 4 Coefficient: 0.6587060504484085\n",
      "Feature 5 Coefficient: -0.07884356827021502\n",
      "Feature 6 Coefficient: -0.02389653080971312\n",
      "Feature 7 Coefficient: -0.5770263913956217\n"
     ]
    }
   ],
   "source": [
    "# 在训练集上训练逻辑回归模型\n",
    "logreg.fit(X_train, y_train)\n",
    "\n",
    "# 在测试集上进行预测\n",
    "y_pred = logreg.predict(X_test)\n",
    "\n",
    "# 评估模型性能，使用均方误差（Mean Squared Error）\n",
    "mse = mean_squared_error(y_test, y_pred)\n",
    "r2 = r2_score(y_test, y_pred)\n",
    "print(\"均方误差（MSE）：\", mse)\n",
    "print(\"R^2：\", r2)\n",
    "\n",
    "# 获取特征系数\n",
    "feature_coefficients = logreg.coef_\n",
    "\n",
    "# 打印特征系数\n",
    "# 这个特征系数有正负，正相关，负相关\n",
    "for i, coef in enumerate(feature_coefficients[0]):\n",
    "    print(\"Feature\", i+1, \"Coefficient:\", coef)"
   ]
  },
  {
   "cell_type": "code",
   "execution_count": 239,
   "id": "351b6a22-7a41-489a-b216-48ca42dddc98",
   "metadata": {},
   "outputs": [],
   "source": [
    "from sklearn.ensemble import RandomForestClassifier"
   ]
  },
  {
   "cell_type": "code",
   "execution_count": 240,
   "id": "f160a940-b448-46bb-b4e4-dfe507c88043",
   "metadata": {},
   "outputs": [
    {
     "name": "stdout",
     "output_type": "stream",
     "text": [
      "Feature 1 Importance Score: 0.13517773512072345\n",
      "Feature 2 Importance Score: 0.16427232083587628\n",
      "Feature 3 Importance Score: 0.17453086363959244\n",
      "Feature 4 Importance Score: 0.18315161862456683\n",
      "Feature 5 Importance Score: 0.12584484211983185\n",
      "Feature 6 Importance Score: 0.09825463586137533\n",
      "Feature 7 Importance Score: 0.1187679837980339\n"
     ]
    }
   ],
   "source": [
    "# 创建随机森林分类器\n",
    "rf = RandomForestClassifier()\n",
    "\n",
    "# 训练模型\n",
    "rf.fit(X_ed_np, y_ed_np)\n",
    "\n",
    "# 获取特征重要性得分\n",
    "importance_scores = rf.feature_importances_\n",
    "\n",
    "# 打印特征重要性得分\n",
    "# 范围从 0~1，得分更高地说明重要性更大\n",
    "for i, score in enumerate(importance_scores):\n",
    "    print(\"Feature\", i+1, \"Importance Score:\", score)"
   ]
  },
  {
   "cell_type": "code",
   "execution_count": 241,
   "id": "1384f44b-1d53-404a-98de-d3a4b9a13ea9",
   "metadata": {},
   "outputs": [
    {
     "name": "stdout",
     "output_type": "stream",
     "text": [
      "均方误差（MSE）： 1.8\n",
      "R^2： -1.3684210526315792\n"
     ]
    }
   ],
   "source": [
    "y_pred = rf.predict(X_test)\n",
    "mse = mean_squared_error(y_test, y_pred)\n",
    "r2 = r2_score(y_test, y_pred)\n",
    "print(\"均方误差（MSE）：\", mse)\n",
    "print(\"R^2：\", r2)"
   ]
  },
  {
   "cell_type": "code",
   "execution_count": 290,
   "id": "b6d3c353-a1e4-4b01-8dc6-476a6255b57c",
   "metadata": {},
   "outputs": [
    {
     "name": "stdout",
     "output_type": "stream",
     "text": [
      "Accuracy: 0.25\n"
     ]
    }
   ],
   "source": [
    "rf_classifier = RandomForestClassifier(n_estimators=100, random_state=42)\n",
    "rf_classifier.fit(X_train, y_train)\n",
    "\n",
    "y_pred = rf_classifier.predict(X_test)\n",
    "accuracy = accuracy_score(y_test, y_pred)\n",
    "print(\"Accuracy:\", accuracy)"
   ]
  },
  {
   "cell_type": "markdown",
   "id": "b40b28d3-4b11-42bc-8dd8-34224625115c",
   "metadata": {},
   "source": [
    "## 血肿体积相关性分析"
   ]
  },
  {
   "cell_type": "code",
   "execution_count": 274,
   "id": "a043ad17-288a-4bf9-807f-383fac71c93d",
   "metadata": {},
   "outputs": [
    {
     "data": {
      "text/html": [
       "<div>\n",
       "<style scoped>\n",
       "    .dataframe tbody tr th:only-of-type {\n",
       "        vertical-align: middle;\n",
       "    }\n",
       "\n",
       "    .dataframe tbody tr th {\n",
       "        vertical-align: top;\n",
       "    }\n",
       "\n",
       "    .dataframe thead th {\n",
       "        text-align: right;\n",
       "    }\n",
       "</style>\n",
       "<table border=\"1\" class=\"dataframe\">\n",
       "  <thead>\n",
       "    <tr style=\"text-align: right;\">\n",
       "      <th></th>\n",
       "      <th>ID</th>\n",
       "      <th>90天mRS</th>\n",
       "      <th>数据集划分</th>\n",
       "      <th>入院首次影像检查流水号</th>\n",
       "      <th>年龄</th>\n",
       "      <th>性别</th>\n",
       "      <th>脑出血前mRS评分</th>\n",
       "      <th>高血压病史</th>\n",
       "      <th>卒中病史</th>\n",
       "      <th>糖尿病史</th>\n",
       "      <th>...</th>\n",
       "      <th>血压</th>\n",
       "      <th>脑室引流</th>\n",
       "      <th>止血治疗</th>\n",
       "      <th>降颅压治疗</th>\n",
       "      <th>降压治疗</th>\n",
       "      <th>镇静、镇痛治疗</th>\n",
       "      <th>止吐护胃</th>\n",
       "      <th>营养神经</th>\n",
       "      <th>ed</th>\n",
       "      <th>hm</th>\n",
       "    </tr>\n",
       "  </thead>\n",
       "  <tbody>\n",
       "    <tr>\n",
       "      <th>0</th>\n",
       "      <td>sub001</td>\n",
       "      <td>4.0</td>\n",
       "      <td>训练</td>\n",
       "      <td>20161212002136</td>\n",
       "      <td>43</td>\n",
       "      <td>女</td>\n",
       "      <td>0</td>\n",
       "      <td>0</td>\n",
       "      <td>0</td>\n",
       "      <td>0</td>\n",
       "      <td>...</td>\n",
       "      <td>180/90</td>\n",
       "      <td>0</td>\n",
       "      <td>1</td>\n",
       "      <td>1</td>\n",
       "      <td>1</td>\n",
       "      <td>1</td>\n",
       "      <td>1</td>\n",
       "      <td>1</td>\n",
       "      <td>0</td>\n",
       "      <td>1</td>\n",
       "    </tr>\n",
       "    <tr>\n",
       "      <th>1</th>\n",
       "      <td>sub002</td>\n",
       "      <td>0.0</td>\n",
       "      <td>训练</td>\n",
       "      <td>20160406002131</td>\n",
       "      <td>58</td>\n",
       "      <td>男</td>\n",
       "      <td>0</td>\n",
       "      <td>1</td>\n",
       "      <td>0</td>\n",
       "      <td>0</td>\n",
       "      <td>...</td>\n",
       "      <td>199/120</td>\n",
       "      <td>0</td>\n",
       "      <td>1</td>\n",
       "      <td>1</td>\n",
       "      <td>1</td>\n",
       "      <td>0</td>\n",
       "      <td>1</td>\n",
       "      <td>1</td>\n",
       "      <td>2</td>\n",
       "      <td>1</td>\n",
       "    </tr>\n",
       "    <tr>\n",
       "      <th>2</th>\n",
       "      <td>sub003</td>\n",
       "      <td>5.0</td>\n",
       "      <td>训练</td>\n",
       "      <td>20160413000006</td>\n",
       "      <td>78</td>\n",
       "      <td>男</td>\n",
       "      <td>0</td>\n",
       "      <td>1</td>\n",
       "      <td>0</td>\n",
       "      <td>0</td>\n",
       "      <td>...</td>\n",
       "      <td>199/120</td>\n",
       "      <td>0</td>\n",
       "      <td>1</td>\n",
       "      <td>1</td>\n",
       "      <td>1</td>\n",
       "      <td>1</td>\n",
       "      <td>1</td>\n",
       "      <td>1</td>\n",
       "      <td>1</td>\n",
       "      <td>0</td>\n",
       "    </tr>\n",
       "    <tr>\n",
       "      <th>3</th>\n",
       "      <td>sub004</td>\n",
       "      <td>4.0</td>\n",
       "      <td>训练</td>\n",
       "      <td>20161215001667</td>\n",
       "      <td>70</td>\n",
       "      <td>男</td>\n",
       "      <td>2</td>\n",
       "      <td>1</td>\n",
       "      <td>1</td>\n",
       "      <td>0</td>\n",
       "      <td>...</td>\n",
       "      <td>186/99</td>\n",
       "      <td>0</td>\n",
       "      <td>1</td>\n",
       "      <td>1</td>\n",
       "      <td>1</td>\n",
       "      <td>0</td>\n",
       "      <td>0</td>\n",
       "      <td>0</td>\n",
       "      <td>2</td>\n",
       "      <td>2</td>\n",
       "    </tr>\n",
       "    <tr>\n",
       "      <th>4</th>\n",
       "      <td>sub005</td>\n",
       "      <td>3.0</td>\n",
       "      <td>训练</td>\n",
       "      <td>20161222000978</td>\n",
       "      <td>51</td>\n",
       "      <td>男</td>\n",
       "      <td>0</td>\n",
       "      <td>0</td>\n",
       "      <td>0</td>\n",
       "      <td>0</td>\n",
       "      <td>...</td>\n",
       "      <td>135/92</td>\n",
       "      <td>0</td>\n",
       "      <td>1</td>\n",
       "      <td>1</td>\n",
       "      <td>0</td>\n",
       "      <td>0</td>\n",
       "      <td>1</td>\n",
       "      <td>1</td>\n",
       "      <td>2</td>\n",
       "      <td>0</td>\n",
       "    </tr>\n",
       "  </tbody>\n",
       "</table>\n",
       "<p>5 rows × 25 columns</p>\n",
       "</div>"
      ],
      "text/plain": [
       "       ID  90天mRS 数据集划分     入院首次影像检查流水号  年龄 性别  脑出血前mRS评分  高血压病史  卒中病史  糖尿病史  \\\n",
       "0  sub001     4.0    训练  20161212002136  43  女          0      0     0     0   \n",
       "1  sub002     0.0    训练  20160406002131  58  男          0      1     0     0   \n",
       "2  sub003     5.0    训练  20160413000006  78  男          0      1     0     0   \n",
       "3  sub004     4.0    训练  20161215001667  70  男          2      1     1     0   \n",
       "4  sub005     3.0    训练  20161222000978  51  男          0      0     0     0   \n",
       "\n",
       "   ...       血压  脑室引流  止血治疗  降颅压治疗  降压治疗 镇静、镇痛治疗  止吐护胃  营养神经  ed  hm  \n",
       "0  ...   180/90     0     1      1     1       1     1     1   0   1  \n",
       "1  ...  199/120     0     1      1     1       0     1     1   2   1  \n",
       "2  ...  199/120     0     1      1     1       1     1     1   1   0  \n",
       "3  ...   186/99     0     1      1     1       0     0     0   2   2  \n",
       "4  ...   135/92     0     1      1     0       0     1     1   2   0  \n",
       "\n",
       "[5 rows x 25 columns]"
      ]
     },
     "execution_count": 274,
     "metadata": {},
     "output_type": "execute_result"
    }
   ],
   "source": [
    "tab_1_100.head()"
   ]
  },
  {
   "cell_type": "code",
   "execution_count": 275,
   "id": "748c1f8c-1641-47b8-bc2a-9330ac9648d8",
   "metadata": {
    "collapsed": true,
    "jupyter": {
     "outputs_hidden": true
    },
    "tags": []
   },
   "outputs": [
    {
     "name": "stderr",
     "output_type": "stream",
     "text": [
      "/tmp/ipykernel_78155/3716179394.py:2: SettingWithCopyWarning:\n",
      "\n",
      "\n",
      "A value is trying to be set on a copy of a slice from a DataFrame.\n",
      "Try using .loc[row_indexer,col_indexer] = value instead\n",
      "\n",
      "See the caveats in the documentation: https://pandas.pydata.org/pandas-docs/stable/user_guide/indexing.html#returning-a-view-versus-a-copy\n",
      "\n",
      "/tmp/ipykernel_78155/3716179394.py:3: SettingWithCopyWarning:\n",
      "\n",
      "\n",
      "A value is trying to be set on a copy of a slice from a DataFrame.\n",
      "Try using .loc[row_indexer,col_indexer] = value instead\n",
      "\n",
      "See the caveats in the documentation: https://pandas.pydata.org/pandas-docs/stable/user_guide/indexing.html#returning-a-view-versus-a-copy\n",
      "\n"
     ]
    }
   ],
   "source": [
    "# 要把数据类型换成 int，不然默认 object 算不了 corr\n",
    "tab_1_100['ed'] = tab_1_100['ed'].astype(int)\n",
    "tab_1_100['hm'] = tab_1_100['hm'].astype(int)"
   ]
  },
  {
   "cell_type": "code",
   "execution_count": 324,
   "id": "8d6cdfb9-05f0-458f-a120-f3636c8107e8",
   "metadata": {},
   "outputs": [],
   "source": [
    "X_all = list()\n",
    "y_all = list()\n",
    "\n",
    "for i, data in tab_1_100.iterrows():\n",
    "    data = list(data)[16:25]\n",
    "    X_all.append(data[:7]+[data[8]])\n",
    "    y_all.append(data[7])\n",
    "    \n",
    "X_all_np = np.array(X_all)\n",
    "y_all_np = np.array(y_all)"
   ]
  },
  {
   "cell_type": "code",
   "execution_count": 325,
   "id": "ee07ba96-e644-40f6-865f-d239945236b4",
   "metadata": {},
   "outputs": [
    {
     "name": "stdout",
     "output_type": "stream",
     "text": [
      "交叉验证的平均R2： -0.7993760173629951\n"
     ]
    }
   ],
   "source": [
    "# 数据集划分\n",
    "X_train, X_test, y_train, y_test = train_test_split(X_all_np, y_all_np, test_size=0.2, random_state=42)\n",
    "\n",
    "logreg = LogisticRegression()\n",
    "\n",
    "# 使用交叉验证评估模型性能\n",
    "scores = cross_val_score(logreg, X_all_np, y_all_np, cv=5, scoring='r2')\n",
    "\n",
    "mean_r2 = scores.mean()\n",
    "\n",
    "# print(\"交叉验证的平均均方误差：\", mean_mse)\n",
    "print(\"交叉验证的平均R2：\", mean_r2)"
   ]
  },
  {
   "cell_type": "code",
   "execution_count": 284,
   "id": "38d89af6-a990-43b3-bd2b-0b16b3b6b56c",
   "metadata": {},
   "outputs": [
    {
     "name": "stdout",
     "output_type": "stream",
     "text": [
      "均方误差（MSE）： 2.4\n",
      "R^2： -2.1578947368421053\n",
      "Feature 1 Coefficient: -0.16845595632546848\n",
      "Feature 2 Coefficient: -0.41664142337193033\n",
      "Feature 3 Coefficient: 0.005687109385172252\n",
      "Feature 4 Coefficient: 0.6502561117115022\n",
      "Feature 5 Coefficient: -0.07872586452021679\n",
      "Feature 6 Coefficient: -0.026720979841142693\n",
      "Feature 7 Coefficient: -0.5820247686261698\n",
      "Feature 8 Coefficient: -0.046611159321099764\n"
     ]
    }
   ],
   "source": [
    "# 在训练集上训练逻辑回归模型\n",
    "logreg.fit(X_train, y_train)\n",
    "\n",
    "# 在测试集上进行预测\n",
    "y_pred = logreg.predict(X_test)\n",
    "\n",
    "# 评估模型性能，使用均方误差（Mean Squared Error）\n",
    "mse = mean_squared_error(y_test, y_pred)\n",
    "r2 = r2_score(y_test, y_pred)\n",
    "print(\"均方误差（MSE）：\", mse)\n",
    "print(\"R^2：\", r2)\n",
    "\n",
    "# 获取特征系数\n",
    "feature_coefficients = logreg.coef_\n",
    "\n",
    "# 打印特征系数\n",
    "# 这个特征系数有正负，正相关，负相关\n",
    "for i, coef in enumerate(feature_coefficients[0]):\n",
    "    print(\"Feature\", i+1, \"Coefficient:\", coef)"
   ]
  },
  {
   "cell_type": "code",
   "execution_count": 327,
   "id": "77a94f54-2fc8-498e-96c2-66e0ba062fde",
   "metadata": {},
   "outputs": [
    {
     "name": "stdout",
     "output_type": "stream",
     "text": [
      "Feature 1 Importance Score: 0.05505486656707554\n",
      "Feature 2 Importance Score: 0.07315581645370257\n",
      "Feature 3 Importance Score: 0.06918661830851211\n",
      "Feature 4 Importance Score: 0.06690246686459485\n",
      "Feature 5 Importance Score: 0.051951449305872754\n",
      "Feature 6 Importance Score: 0.030585709206472404\n",
      "Feature 7 Importance Score: 0.025987933780260725\n",
      "Feature 8 Importance Score: 0.627175139513509\n"
     ]
    }
   ],
   "source": [
    "# 创建随机森林分类器\n",
    "rf = RandomForestClassifier(n_estimators=100, random_state=42)\n",
    "\n",
    "# 训练模型\n",
    "rf.fit(X_all_np, y_all_np)\n",
    "\n",
    "# 获取特征重要性得分\n",
    "importance_scores = rf.feature_importances_\n",
    "\n",
    "# 打印特征重要性得分\n",
    "# 范围从 0~1，得分更高地说明重要性更大\n",
    "for i, score in enumerate(importance_scores):\n",
    "    print(\"Feature\", i+1, \"Importance Score:\", score)"
   ]
  },
  {
   "cell_type": "code",
   "execution_count": 286,
   "id": "4363288d-1ac7-45c3-930d-2f8656ac57f4",
   "metadata": {},
   "outputs": [],
   "source": [
    "from sklearn.metrics import accuracy_score"
   ]
  },
  {
   "cell_type": "code",
   "execution_count": 326,
   "id": "477f539e-a8f2-4ec3-bb14-0f8a0ac74b48",
   "metadata": {},
   "outputs": [
    {
     "name": "stdout",
     "output_type": "stream",
     "text": [
      "Accuracy: 0.5\n"
     ]
    }
   ],
   "source": [
    "rf_classifier = RandomForestClassifier(n_estimators=100, random_state=42)\n",
    "rf_classifier.fit(X_train, y_train)\n",
    "\n",
    "y_pred = rf_classifier.predict(X_test)\n",
    "accuracy = accuracy_score(y_test, y_pred)\n",
    "print(\"Accuracy:\", accuracy)"
   ]
  },
  {
   "cell_type": "code",
   "execution_count": 288,
   "id": "afea5347-a602-4b8d-ae11-1b308ad0a12d",
   "metadata": {},
   "outputs": [
    {
     "data": {
      "text/plain": [
       "array([2, 0, 2, 1, 0, 2, 2, 1, 1, 2, 2, 2, 2, 1, 0, 1, 2, 1, 2, 1])"
      ]
     },
     "execution_count": 288,
     "metadata": {},
     "output_type": "execute_result"
    }
   ],
   "source": [
    "y_pred"
   ]
  },
  {
   "cell_type": "code",
   "execution_count": null,
   "id": "d9a358f4-224f-4724-a38d-c451c0c67d39",
   "metadata": {},
   "outputs": [],
   "source": []
  }
 ],
 "metadata": {
  "kernelspec": {
   "display_name": "cvtask",
   "language": "python",
   "name": "cvtask"
  },
  "language_info": {
   "codemirror_mode": {
    "name": "ipython",
    "version": 3
   },
   "file_extension": ".py",
   "mimetype": "text/x-python",
   "name": "python",
   "nbconvert_exporter": "python",
   "pygments_lexer": "ipython3",
   "version": "3.9.7"
  }
 },
 "nbformat": 4,
 "nbformat_minor": 5
}
