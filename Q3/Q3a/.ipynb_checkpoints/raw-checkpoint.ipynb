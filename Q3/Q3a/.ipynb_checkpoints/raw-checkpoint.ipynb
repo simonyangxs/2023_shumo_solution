{
 "cells": [
  {
   "cell_type": "markdown",
   "id": "1af8bfa0-2cf4-46a0-9c9b-6d980f054644",
   "metadata": {},
   "source": [
    "\n",
    "## 这是对1.b任务的预处理和\n",
    "#1.a 只有有label和时间处理\n",
    "\n",
    "1. load——data\n",
    "2. 统计特征数量（清洗）、选择、分析"
   ]
  },
  {
   "cell_type": "code",
   "execution_count": 2,
   "id": "72fc1036-6924-47fc-ad99-288beea48670",
   "metadata": {},
   "outputs": [],
   "source": [
    "import pandas as pd\n",
    "from tqdm import *\n",
    "import os\n",
    "import math\n",
    "from datetime import timedelta\n",
    "import numpy as np\n",
    "import warnings\n",
    "warnings.filterwarnings(\"ignore\")"
   ]
  },
  {
   "cell_type": "markdown",
   "id": "f9385fb6",
   "metadata": {},
   "source": [
    "## load_data"
   ]
  },
  {
   "cell_type": "code",
   "execution_count": 3,
   "id": "8dbcfa63-5dc6-44de-b32a-a450f060ec55",
   "metadata": {},
   "outputs": [
    {
     "name": "stdout",
     "output_type": "stream",
     "text": [
      "160\n",
      "160\n",
      "158\n",
      "158\n"
     ]
    }
   ],
   "source": [
    "#疾病史，发病和治疗\n",
    "tab1 = pd.read_excel('../../Q1/Q1a/metadata/表1-患者列表及临床信息.xlsx')\n",
    "tab1 = tab1.rename(columns={'Unnamed: 0': 'ID'})\n",
    "tab1 = tab1.rename(columns={'90天mRS': 'label'})\n",
    "del tab1['数据集划分']\n",
    "print(tab1.ID.nunique())\n",
    "\n",
    "\n",
    "#血肿总体积和水肿总体积\n",
    "tab2 = pd.read_excel('../../Q1/Q1a/metadata/表2-患者影像信息血肿及水肿的体积及位置.xlsx')\n",
    "tab2 = tab2.rename(columns={'Unnamed: 0': 'ID'})\n",
    "tab2 = tab2.iloc[:,:22+2]\n",
    "tab2 = tab2.rename(columns={'首次检查流水号': '流水号'})\n",
    "print(tab2.ID.nunique())\n",
    "\n",
    "#水肿影像\n",
    "tab3 = pd.read_excel('../../Q1/Q1a/metadata/表3-患者影像信息血肿及水肿的形状及灰度分布.xlsx',sheet_name='ED') \n",
    "del tab3['备注']\n",
    "tab3.columns = [col if '流水号' in col else 'ED_'+col   for col in tab3.columns]\n",
    "print(tab3[tab3.流水号.isin(tab2.流水号)].流水号.nunique())\n",
    "\n",
    "#血肿影像\n",
    "tab4 = pd.read_excel('../../Q1/Q1a/metadata/表3-患者影像信息血肿及水肿的形状及灰度分布.xlsx',sheet_name='Hemo') \n",
    "del tab4['备注']\n",
    "tab4.columns = [col if '流水号' in col else 'HM_'+col   for col in tab4.columns]\n",
    "print(tab4[tab4.流水号.isin(tab2.流水号)].流水号.nunique())"
   ]
  },
  {
   "cell_type": "code",
   "execution_count": 4,
   "id": "43251686-18df-4e2c-aebc-0392b84344a7",
   "metadata": {},
   "outputs": [],
   "source": [
    "#merge\n",
    "all_data = tab1.merge(tab2,how='outer')\n",
    "all_data = all_data.merge(tab3,how='left')\n",
    "all_data = all_data.merge(tab4,how='left')"
   ]
  },
  {
   "cell_type": "code",
   "execution_count": 5,
   "id": "fb0e9f7f-1ee0-479a-8ec7-92b644bcd135",
   "metadata": {},
   "outputs": [],
   "source": [
    "#发现异常：存在首次异常这个数值错误\n",
    "\n",
    "# https://www.shumo.com/forum/forum.php?mod=viewthread&tid=100012&page=1#pid240978\n",
    "# 131（3）和132（4） ，属于同一个人。直接使用3和4的来替换。 -- 使用131和132流水号根本匹配不了\n",
    "# 74号患者使用哪一个流水号：是表一记录错误，这不是它的首次，二是第二次。  ---  直接删除表1的入院首次影像检查流水号\n",
    "all_data[all_data.入院首次影像检查流水号 != all_data.流水号]\n",
    "del all_data['入院首次影像检查流水号']\n",
    "del all_data['流水号']"
   ]
  },
  {
   "cell_type": "markdown",
   "id": "38d9aa00",
   "metadata": {},
   "source": [
    "## 类型转换,异常值处理。归一化\n",
    "\n",
    "1. 没有空值\n",
    "2. 总量过少，异常值过少。同时outliers存在是有意义的，比如之前的MRS得分\n",
    "3. max-min归一化可以做"
   ]
  },
  {
   "cell_type": "code",
   "execution_count": 6,
   "id": "949fcaac-a6be-4513-9132-e266a04bc83f",
   "metadata": {
    "tags": []
   },
   "outputs": [
    {
     "data": {
      "text/plain": [
       "106"
      ]
     },
     "execution_count": 6,
     "metadata": {},
     "output_type": "execute_result"
    }
   ],
   "source": [
    "gender_mapping = {'男': 1, '女': 0}\n",
    "all_data['性别'] = all_data['性别'].map(gender_mapping)\n",
    "all_data[['收缩压', '舒张压']] = all_data['血压'].str.split('/', expand=True)\n",
    "del all_data['血压']\n",
    "\n",
    "for i in list( all_data.columns )[1:]:\n",
    "    if(i in ['性别','高血压病史','卒中病史','糖尿病史','房颤史','冠心病史','吸烟史','饮酒史','脑室引流', '止血治疗','降颅压治疗','降压治疗','镇静、镇痛治疗','止吐护胃','营养神经']):\n",
    "        all_data[i] = all_data[i].astype('int')\n",
    "    else:\n",
    "        all_data[i] = all_data[i].astype('float')\n",
    "    \n",
    "len(list( all_data.columns ) ) #正确的"
   ]
  },
  {
   "cell_type": "code",
   "execution_count": 7,
   "id": "2f0689fa",
   "metadata": {},
   "outputs": [],
   "source": [
    "target_column = ['label']\n",
    "features =list( all_data.columns )[2:]"
   ]
  },
  {
   "cell_type": "code",
   "execution_count": 8,
   "id": "aa08a7be",
   "metadata": {},
   "outputs": [],
   "source": [
    "all_data = all_data.loc[ all_data['ID'] != 'sub131']\n",
    "t = all_data.loc[ all_data['ID'] == 'sub003']\n",
    "t['ID'] = 'sub131'\n",
    "all_data=all_data.append(t)\n",
    "\n",
    "all_data = all_data.loc[ all_data['ID'] != 'sub132']\n",
    "t = all_data.loc[ all_data['ID'] == 'sub004']\n",
    "t['ID'] = 'sub132'\n",
    "all_data=all_data.append(t)\n",
    "all_data.sort_values(['ID'],inplace=True)\n",
    "all_data.reset_index(inplace=True,drop=True)"
   ]
  },
  {
   "cell_type": "code",
   "execution_count": 9,
   "id": "0166c888",
   "metadata": {},
   "outputs": [
    {
     "name": "stdout",
     "output_type": "stream",
     "text": [
      "Column label missing ratio: 58\n"
     ]
    }
   ],
   "source": [
    "## trainset和全体里面的空值: 没有空值\n",
    "# 遍历每个列\n",
    "for col in all_data.columns:\n",
    "    # 计算空值\n",
    "    missing_ratio = all_data[col].isnull().sum()\n",
    "    if(missing_ratio>0):\n",
    "        print(f\"Column {col} missing ratio: {missing_ratio}\")"
   ]
  },
  {
   "cell_type": "code",
   "execution_count": 10,
   "id": "dc66295b-b61b-4005-aa77-58eea8c91bc6",
   "metadata": {
    "tags": []
   },
   "outputs": [
    {
     "name": "stdout",
     "output_type": "stream",
     "text": [
      "脑出血前mRS评分\n",
      "Deleting 8 outliers in column 脑出血前mRS评分\n",
      "发病到首次影像检查时间间隔\n",
      "Deleting 6 outliers in column 发病到首次影像检查时间间隔\n",
      "HM_volume\n",
      "Deleting 3 outliers in column HM_volume\n",
      "Deleting 4 outliers in column HM_ACA_R_Ratio\n",
      "Deleting 3 outliers in column HM_PCA_R_Ratio\n",
      "Deleting 5 outliers in column HM_Pons_Medulla_R_Ratio\n",
      "Deleting 3 outliers in column HM_Cerebellum_R_Ratio\n",
      "Deleting 2 outliers in column HM_ACA_L_Ratio\n",
      "Deleting 5 outliers in column HM_PCA_L_Ratio\n",
      "HM_Pons_Medulla_L_Ratio\n",
      "Deleting 8 outliers in column HM_Pons_Medulla_L_Ratio\n",
      "Deleting 3 outliers in column HM_Cerebellum_L_Ratio\n",
      "ED_volume\n",
      "Deleting 1 outliers in column ED_volume\n",
      "ED_ACA_R_Ratio\n",
      "Deleting 5 outliers in column ED_ACA_R_Ratio\n",
      "Deleting 2 outliers in column ED_PCA_R_Ratio\n",
      "Deleting 2 outliers in column ED_Pons_Medulla_R_Ratio\n",
      "Deleting 3 outliers in column ED_Cerebellum_R_Ratio\n",
      "ED_ACA_L_Ratio\n",
      "Deleting 3 outliers in column ED_ACA_L_Ratio\n",
      "ED_PCA_L_Ratio\n",
      "Deleting 4 outliers in column ED_PCA_L_Ratio\n",
      "ED_Pons_Medulla_L_Ratio\n",
      "Deleting 3 outliers in column ED_Pons_Medulla_L_Ratio\n",
      "ED_Cerebellum_L_Ratio\n",
      "Deleting 2 outliers in column ED_Cerebellum_L_Ratio\n",
      "ED_original_shape_LeastAxisLength\n",
      "Deleting 1 outliers in column ED_original_shape_LeastAxisLength\n",
      "Deleting 1 outliers in column ED_original_shape_MajorAxisLength\n",
      "ED_original_shape_Maximum2DDiameterRow\n",
      "Deleting 1 outliers in column ED_original_shape_Maximum2DDiameterRow\n",
      "ED_original_shape_MeshVolume\n",
      "Deleting 1 outliers in column ED_original_shape_MeshVolume\n",
      "Deleting 2 outliers in column ED_original_shape_Sphericity\n",
      "ED_original_shape_SurfaceArea\n",
      "Deleting 1 outliers in column ED_original_shape_SurfaceArea\n",
      "Deleting 5 outliers in column ED_original_shape_SurfaceVolumeRatio\n",
      "ED_original_shape_VoxelVolume\n",
      "Deleting 1 outliers in column ED_original_shape_VoxelVolume\n",
      "ED_NCCT_original_firstorder_Energy\n",
      "Deleting 1 outliers in column ED_NCCT_original_firstorder_Energy\n",
      "Deleting 1 outliers in column ED_NCCT_original_firstorder_InterquartileRange\n",
      "ED_NCCT_original_firstorder_Kurtosis\n",
      "Deleting 2 outliers in column ED_NCCT_original_firstorder_Kurtosis\n",
      "ED_NCCT_original_firstorder_Maximum\n",
      "Deleting 1 outliers in column ED_NCCT_original_firstorder_Maximum\n",
      "Deleting 1 outliers in column ED_NCCT_original_firstorder_MeanAbsoluteDeviation\n",
      "Deleting 1 outliers in column ED_NCCT_original_firstorder_Range\n",
      "ED_NCCT_original_firstorder_Skewness\n",
      "Deleting 2 outliers in column ED_NCCT_original_firstorder_Skewness\n",
      "Deleting 1 outliers in column ED_NCCT_original_firstorder_Variance\n",
      "Deleting 1 outliers in column HM_original_shape_Flatness\n",
      "Deleting 2 outliers in column HM_original_shape_LeastAxisLength\n",
      "HM_original_shape_MajorAxisLength\n",
      "Deleting 2 outliers in column HM_original_shape_MajorAxisLength\n",
      "Deleting 3 outliers in column HM_original_shape_Maximum2DDiameterColumn\n",
      "HM_original_shape_Maximum2DDiameterRow\n",
      "Deleting 2 outliers in column HM_original_shape_Maximum2DDiameterRow\n",
      "Deleting 2 outliers in column HM_original_shape_Maximum2DDiameterSlice\n",
      "HM_original_shape_MeshVolume\n",
      "Deleting 3 outliers in column HM_original_shape_MeshVolume\n",
      "HM_original_shape_MinorAxisLength\n",
      "Deleting 3 outliers in column HM_original_shape_MinorAxisLength\n",
      "HM_original_shape_SurfaceArea\n",
      "Deleting 4 outliers in column HM_original_shape_SurfaceArea\n",
      "Deleting 3 outliers in column HM_original_shape_SurfaceVolumeRatio\n",
      "HM_original_shape_VoxelVolume\n",
      "Deleting 3 outliers in column HM_original_shape_VoxelVolume\n",
      "HM_NCCT_original_firstorder_Energy\n",
      "Deleting 3 outliers in column HM_NCCT_original_firstorder_Energy\n",
      "Deleting 3 outliers in column HM_NCCT_original_firstorder_Entropy\n",
      "Deleting 3 outliers in column HM_NCCT_original_firstorder_Kurtosis\n",
      "Deleting 1 outliers in column HM_NCCT_original_firstorder_Maximum\n",
      "HM_NCCT_original_firstorder_Minimum\n",
      "Deleting 2 outliers in column HM_NCCT_original_firstorder_Minimum\n",
      "Deleting 1 outliers in column HM_NCCT_original_firstorder_Range\n",
      "Deleting 2 outliers in column HM_NCCT_original_firstorder_Skewness\n",
      "Deleting 3 outliers in column HM_NCCT_original_firstorder_Uniformity\n",
      "Deleting 1 outliers in column 收缩压\n"
     ]
    },
    {
     "data": {
      "text/plain": [
       "62"
      ]
     },
     "execution_count": 10,
     "metadata": {},
     "output_type": "execute_result"
    }
   ],
   "source": [
    "indexlist= []\n",
    "## 异常值,使用统计方法衡量的异常在在合理情况\n",
    "for col in all_data.columns:\n",
    "    # 判断并删除异常值\n",
    "    if all_data[col].dtype == np.number:\n",
    "        std_dev = all_data[col].std()\n",
    "        mean_val = all_data[col].mean()\n",
    "        sigma = 3\n",
    "        outliers = all_data[all_data[col].gt(mean_val + sigma * std_dev) | all_data[col].lt(mean_val - sigma * std_dev)]\n",
    "        if( outliers.label.mean() > all_data.label.mean() ): print(col)\n",
    "        if not outliers.empty:\n",
    "            #print(outliers)\n",
    "            indexlist+=(list(outliers[col].index))\n",
    "            print(f\"Deleting {len(outliers)} outliers in column {col}\")\n",
    "len(set(indexlist))"
   ]
  },
  {
   "cell_type": "markdown",
   "id": "253989d3-ebd4-4bf0-8cf2-8a9fd71ed613",
   "metadata": {},
   "source": [
    "### 归一化"
   ]
  },
  {
   "cell_type": "code",
   "execution_count": 11,
   "id": "ddbfff9b",
   "metadata": {},
   "outputs": [],
   "source": [
    "from sklearn.preprocessing import MinMaxScaler\n",
    "\n",
    "# 定义MinMaxScaler对象\n",
    "scaler = MinMaxScaler()\n",
    "\n",
    "# 对train数据集做归一化\n",
    "train_normalized =scaler.fit_transform(all_data[features]) #scaler.fit_transform(all_data[~ all_data['label'].isnull() ][features])\n",
    "\n",
    "# 对test数据集做归一化（使用前面定义的scaler）\n",
    "all_data[features] = scaler.transform(all_data[features])\n"
   ]
  },
  {
   "cell_type": "code",
   "execution_count": 12,
   "id": "0181ea91",
   "metadata": {},
   "outputs": [],
   "source": [
    "## 尝试使用pca\n",
    "from sklearn.decomposition import PCA\n",
    "\n",
    "\n",
    "X_train = all_data[features ]\n",
    "# 创建PCA对象并指定要保留的主成分数量（根据需求调整）\n",
    "n_components = 10 # 选择要保留的主成分数量\n",
    "pca = PCA(n_components=n_components)\n",
    "\n",
    "# 使用PCA对特征矩阵进行降维\n",
    "X_pca = pca.fit_transform(X_train)\n",
    "\n",
    "# X_pca 包含了降维后的特征矩阵\n",
    "t = pd.DataFrame(X_pca)\n",
    "t['label'] = all_data[target_column ]\n",
    "t.to_csv('./data5.csv',index=False)"
   ]
  },
  {
   "cell_type": "code",
   "execution_count": 13,
   "id": "4d3ff321",
   "metadata": {},
   "outputs": [
    {
     "data": {
      "text/plain": [
       "count    160.000000\n",
       "mean       0.142795\n",
       "std        0.193779\n",
       "min        0.000000\n",
       "25%        0.031579\n",
       "50%        0.073684\n",
       "75%        0.157895\n",
       "max        1.000000\n",
       "Name: 发病到首次影像检查时间间隔, dtype: float64"
      ]
     },
     "execution_count": 13,
     "metadata": {},
     "output_type": "execute_result"
    }
   ],
   "source": [
    "all_data['发病到首次影像检查时间间隔'].describe()"
   ]
  },
  {
   "cell_type": "code",
   "execution_count": 14,
   "id": "f9c6370a",
   "metadata": {},
   "outputs": [],
   "source": [
    "all_data[features+target_column ].to_csv('./data1.csv',index=False)"
   ]
  },
  {
   "cell_type": "markdown",
   "id": "ddc13942",
   "metadata": {},
   "source": [
    "# 特征选择"
   ]
  },
  {
   "cell_type": "markdown",
   "id": "9e277254",
   "metadata": {},
   "source": [
    "\n",
    "## 灰色关联度分析\n"
   ]
  },
  {
   "cell_type": "code",
   "execution_count": 15,
   "id": "02374181",
   "metadata": {},
   "outputs": [],
   "source": [
    "train_df = all_data.head(100)\n",
    "select_columns = features"
   ]
  },
  {
   "cell_type": "code",
   "execution_count": 16,
   "id": "ef750b37",
   "metadata": {},
   "outputs": [
    {
     "data": {
      "text/plain": [
       "76"
      ]
     },
     "execution_count": 16,
     "metadata": {},
     "output_type": "execute_result"
    }
   ],
   "source": [
    "# 计算灰度关联系数\n",
    "def grey_relation_coefficient(x, y):\n",
    "    x,y = np.array(x),np.array(y).ravel()\n",
    "    min_x = x.min()\n",
    "    max_x = x.max()\n",
    "    min_y = y.min()\n",
    "    max_y = y.max()\n",
    "    rho = 0.15  # 灰度关联系数计算时的参数，可根据需要调整\n",
    "    return np.abs((min_x - x) / (max_x - min_x) - (min_y - y) / (max_y - min_y)) / (rho + np.abs((min_x - x) / (max_x - min_x) + (min_y - y) / (max_y - min_y)))\n",
    "\n",
    "grey_relational_matrix = pd.DataFrame()\n",
    "y = (train_df[target_column].values.tolist())\n",
    "for feature in select_columns:\n",
    "    grey_relational_matrix[feature] = grey_relation_coefficient( list(train_df[feature]) ,list( y)) \n",
    "\n",
    "# 求平均灰度关联系数，用于特征排序\n",
    "average_grey_relation = grey_relational_matrix.mean(axis=1)\n",
    "average_grey_relation = average_grey_relation.sort_values(ascending=False)\n",
    "average_grey_relation.describe()\n",
    "\n",
    "# 根据灰度关联系数排序特征\n",
    "ranked_features = average_grey_relation[average_grey_relation>.35].index\n",
    "len(ranked_features)\n",
    "select_columns = list(grey_relational_matrix.iloc[:,ranked_features].columns)\n",
    "len(select_columns)"
   ]
  },
  {
   "cell_type": "code",
   "execution_count": 17,
   "id": "e3610c9c",
   "metadata": {},
   "outputs": [
    {
     "data": {
      "text/plain": [
       "饮酒史                                          0.657116\n",
       "HM_Cerebellum_R_Ratio                        0.656505\n",
       "ED_Cerebellum_R_Ratio                        0.648433\n",
       "脑出血前mRS评分                                    0.644186\n",
       "ED_Cerebellum_L_Ratio                        0.640982\n",
       "                                               ...   \n",
       "ED_original_shape_MinorAxisLength            0.256710\n",
       "ED_NCCT_original_firstorder_Uniformity       0.253387\n",
       "ED_original_shape_Maximum3DDiameter          0.252995\n",
       "ED_NCCT_original_firstorder_Range            0.247265\n",
       "ED_original_shape_Maximum2DDiameterColumn    0.246221\n",
       "Length: 104, dtype: float64"
      ]
     },
     "execution_count": 17,
     "metadata": {},
     "output_type": "execute_result"
    }
   ],
   "source": [
    "grey_relational_matrix.mean(axis=0).sort_values(ascending=False)"
   ]
  },
  {
   "cell_type": "code",
   "execution_count": 18,
   "id": "cb5ec98f",
   "metadata": {},
   "outputs": [
    {
     "data": {
      "text/html": [
       "<div>\n",
       "<style scoped>\n",
       "    .dataframe tbody tr th:only-of-type {\n",
       "        vertical-align: middle;\n",
       "    }\n",
       "\n",
       "    .dataframe tbody tr th {\n",
       "        vertical-align: top;\n",
       "    }\n",
       "\n",
       "    .dataframe thead th {\n",
       "        text-align: right;\n",
       "    }\n",
       "</style>\n",
       "<table border=\"1\" class=\"dataframe\">\n",
       "  <thead>\n",
       "    <tr style=\"text-align: right;\">\n",
       "      <th></th>\n",
       "      <th>年龄</th>\n",
       "      <th>性别</th>\n",
       "      <th>脑出血前mRS评分</th>\n",
       "      <th>高血压病史</th>\n",
       "      <th>卒中病史</th>\n",
       "      <th>糖尿病史</th>\n",
       "      <th>房颤史</th>\n",
       "      <th>冠心病史</th>\n",
       "      <th>吸烟史</th>\n",
       "      <th>饮酒史</th>\n",
       "      <th>...</th>\n",
       "      <th>HM_NCCT_original_firstorder_Median</th>\n",
       "      <th>HM_NCCT_original_firstorder_Minimum</th>\n",
       "      <th>HM_NCCT_original_firstorder_Range</th>\n",
       "      <th>HM_NCCT_original_firstorder_RobustMeanAbsoluteDeviation</th>\n",
       "      <th>HM_NCCT_original_firstorder_RootMeanSquared</th>\n",
       "      <th>HM_NCCT_original_firstorder_Skewness</th>\n",
       "      <th>HM_NCCT_original_firstorder_Uniformity</th>\n",
       "      <th>HM_NCCT_original_firstorder_Variance</th>\n",
       "      <th>收缩压</th>\n",
       "      <th>舒张压</th>\n",
       "    </tr>\n",
       "  </thead>\n",
       "  <tbody>\n",
       "    <tr>\n",
       "      <th>0</th>\n",
       "      <td>0.553883</td>\n",
       "      <td>0.816327</td>\n",
       "      <td>0.816327</td>\n",
       "      <td>0.816327</td>\n",
       "      <td>0.816327</td>\n",
       "      <td>0.816327</td>\n",
       "      <td>0.816327</td>\n",
       "      <td>0.816327</td>\n",
       "      <td>0.816327</td>\n",
       "      <td>0.816327</td>\n",
       "      <td>...</td>\n",
       "      <td>0.079480</td>\n",
       "      <td>0.063604</td>\n",
       "      <td>0.277505</td>\n",
       "      <td>0.049622</td>\n",
       "      <td>0.051919</td>\n",
       "      <td>0.667121</td>\n",
       "      <td>0.414746</td>\n",
       "      <td>0.069034</td>\n",
       "      <td>0.126582</td>\n",
       "      <td>0.200816</td>\n",
       "    </tr>\n",
       "    <tr>\n",
       "      <th>1</th>\n",
       "      <td>0.725552</td>\n",
       "      <td>0.869565</td>\n",
       "      <td>0.000000</td>\n",
       "      <td>0.869565</td>\n",
       "      <td>0.000000</td>\n",
       "      <td>0.000000</td>\n",
       "      <td>0.000000</td>\n",
       "      <td>0.000000</td>\n",
       "      <td>0.000000</td>\n",
       "      <td>0.000000</td>\n",
       "      <td>...</td>\n",
       "      <td>0.675807</td>\n",
       "      <td>0.664784</td>\n",
       "      <td>0.657578</td>\n",
       "      <td>0.839438</td>\n",
       "      <td>0.728025</td>\n",
       "      <td>0.742390</td>\n",
       "      <td>0.044874</td>\n",
       "      <td>0.818264</td>\n",
       "      <td>0.812133</td>\n",
       "      <td>0.836502</td>\n",
       "    </tr>\n",
       "    <tr>\n",
       "      <th>2</th>\n",
       "      <td>0.053316</td>\n",
       "      <td>0.084034</td>\n",
       "      <td>0.847458</td>\n",
       "      <td>0.084034</td>\n",
       "      <td>0.847458</td>\n",
       "      <td>0.847458</td>\n",
       "      <td>0.847458</td>\n",
       "      <td>0.847458</td>\n",
       "      <td>0.847458</td>\n",
       "      <td>0.847458</td>\n",
       "      <td>...</td>\n",
       "      <td>0.455989</td>\n",
       "      <td>0.578551</td>\n",
       "      <td>0.343083</td>\n",
       "      <td>0.292835</td>\n",
       "      <td>0.419559</td>\n",
       "      <td>0.333449</td>\n",
       "      <td>0.342587</td>\n",
       "      <td>0.398583</td>\n",
       "      <td>0.113310</td>\n",
       "      <td>0.037636</td>\n",
       "    </tr>\n",
       "    <tr>\n",
       "      <th>3</th>\n",
       "      <td>0.044516</td>\n",
       "      <td>0.183486</td>\n",
       "      <td>0.183486</td>\n",
       "      <td>0.183486</td>\n",
       "      <td>0.183486</td>\n",
       "      <td>0.816327</td>\n",
       "      <td>0.816327</td>\n",
       "      <td>0.816327</td>\n",
       "      <td>0.816327</td>\n",
       "      <td>0.816327</td>\n",
       "      <td>...</td>\n",
       "      <td>0.510528</td>\n",
       "      <td>0.552120</td>\n",
       "      <td>0.086803</td>\n",
       "      <td>0.090946</td>\n",
       "      <td>0.405046</td>\n",
       "      <td>0.084746</td>\n",
       "      <td>0.055207</td>\n",
       "      <td>0.153115</td>\n",
       "      <td>0.087853</td>\n",
       "      <td>0.107029</td>\n",
       "    </tr>\n",
       "    <tr>\n",
       "      <th>4</th>\n",
       "      <td>0.242086</td>\n",
       "      <td>0.303030</td>\n",
       "      <td>0.769231</td>\n",
       "      <td>0.769231</td>\n",
       "      <td>0.769231</td>\n",
       "      <td>0.769231</td>\n",
       "      <td>0.769231</td>\n",
       "      <td>0.769231</td>\n",
       "      <td>0.769231</td>\n",
       "      <td>0.769231</td>\n",
       "      <td>...</td>\n",
       "      <td>0.088539</td>\n",
       "      <td>0.007760</td>\n",
       "      <td>0.409162</td>\n",
       "      <td>0.004841</td>\n",
       "      <td>0.054468</td>\n",
       "      <td>0.112550</td>\n",
       "      <td>0.728029</td>\n",
       "      <td>0.100368</td>\n",
       "      <td>0.440313</td>\n",
       "      <td>0.053248</td>\n",
       "    </tr>\n",
       "    <tr>\n",
       "      <th>...</th>\n",
       "      <td>...</td>\n",
       "      <td>...</td>\n",
       "      <td>...</td>\n",
       "      <td>...</td>\n",
       "      <td>...</td>\n",
       "      <td>...</td>\n",
       "      <td>...</td>\n",
       "      <td>...</td>\n",
       "      <td>...</td>\n",
       "      <td>...</td>\n",
       "      <td>...</td>\n",
       "      <td>...</td>\n",
       "      <td>...</td>\n",
       "      <td>...</td>\n",
       "      <td>...</td>\n",
       "      <td>...</td>\n",
       "      <td>...</td>\n",
       "      <td>...</td>\n",
       "      <td>...</td>\n",
       "      <td>...</td>\n",
       "      <td>...</td>\n",
       "    </tr>\n",
       "    <tr>\n",
       "      <th>95</th>\n",
       "      <td>0.183486</td>\n",
       "      <td>0.816327</td>\n",
       "      <td>0.816327</td>\n",
       "      <td>0.816327</td>\n",
       "      <td>0.816327</td>\n",
       "      <td>0.816327</td>\n",
       "      <td>0.816327</td>\n",
       "      <td>0.816327</td>\n",
       "      <td>0.816327</td>\n",
       "      <td>0.816327</td>\n",
       "      <td>...</td>\n",
       "      <td>0.251040</td>\n",
       "      <td>0.176358</td>\n",
       "      <td>0.396150</td>\n",
       "      <td>0.045731</td>\n",
       "      <td>0.207277</td>\n",
       "      <td>0.247059</td>\n",
       "      <td>0.628938</td>\n",
       "      <td>0.155879</td>\n",
       "      <td>0.119937</td>\n",
       "      <td>0.383086</td>\n",
       "    </tr>\n",
       "    <tr>\n",
       "      <th>96</th>\n",
       "      <td>0.377028</td>\n",
       "      <td>0.689655</td>\n",
       "      <td>0.689655</td>\n",
       "      <td>0.449438</td>\n",
       "      <td>0.689655</td>\n",
       "      <td>0.689655</td>\n",
       "      <td>0.689655</td>\n",
       "      <td>0.689655</td>\n",
       "      <td>0.689655</td>\n",
       "      <td>0.689655</td>\n",
       "      <td>...</td>\n",
       "      <td>0.239927</td>\n",
       "      <td>0.187188</td>\n",
       "      <td>0.077921</td>\n",
       "      <td>0.424457</td>\n",
       "      <td>0.303536</td>\n",
       "      <td>0.079390</td>\n",
       "      <td>0.512390</td>\n",
       "      <td>0.394812</td>\n",
       "      <td>0.097814</td>\n",
       "      <td>0.055083</td>\n",
       "    </tr>\n",
       "    <tr>\n",
       "      <th>97</th>\n",
       "      <td>0.012816</td>\n",
       "      <td>0.084034</td>\n",
       "      <td>0.847458</td>\n",
       "      <td>0.084034</td>\n",
       "      <td>0.084034</td>\n",
       "      <td>0.084034</td>\n",
       "      <td>0.084034</td>\n",
       "      <td>0.084034</td>\n",
       "      <td>0.084034</td>\n",
       "      <td>0.847458</td>\n",
       "      <td>...</td>\n",
       "      <td>0.196876</td>\n",
       "      <td>0.514580</td>\n",
       "      <td>0.397763</td>\n",
       "      <td>0.391733</td>\n",
       "      <td>0.220581</td>\n",
       "      <td>0.782942</td>\n",
       "      <td>0.265251</td>\n",
       "      <td>0.397588</td>\n",
       "      <td>0.108005</td>\n",
       "      <td>0.196579</td>\n",
       "    </tr>\n",
       "    <tr>\n",
       "      <th>98</th>\n",
       "      <td>0.197487</td>\n",
       "      <td>0.303030</td>\n",
       "      <td>0.769231</td>\n",
       "      <td>0.303030</td>\n",
       "      <td>0.769231</td>\n",
       "      <td>0.769231</td>\n",
       "      <td>0.769231</td>\n",
       "      <td>0.769231</td>\n",
       "      <td>0.769231</td>\n",
       "      <td>0.769231</td>\n",
       "      <td>...</td>\n",
       "      <td>0.600534</td>\n",
       "      <td>0.169067</td>\n",
       "      <td>0.051564</td>\n",
       "      <td>0.065241</td>\n",
       "      <td>0.270117</td>\n",
       "      <td>0.185739</td>\n",
       "      <td>0.184420</td>\n",
       "      <td>0.032140</td>\n",
       "      <td>0.166403</td>\n",
       "      <td>0.064586</td>\n",
       "    </tr>\n",
       "    <tr>\n",
       "      <th>99</th>\n",
       "      <td>0.351438</td>\n",
       "      <td>0.449438</td>\n",
       "      <td>0.689655</td>\n",
       "      <td>0.689655</td>\n",
       "      <td>0.689655</td>\n",
       "      <td>0.689655</td>\n",
       "      <td>0.689655</td>\n",
       "      <td>0.689655</td>\n",
       "      <td>0.449438</td>\n",
       "      <td>0.449438</td>\n",
       "      <td>...</td>\n",
       "      <td>0.317245</td>\n",
       "      <td>0.215748</td>\n",
       "      <td>0.067878</td>\n",
       "      <td>0.386595</td>\n",
       "      <td>0.324441</td>\n",
       "      <td>0.106191</td>\n",
       "      <td>0.469136</td>\n",
       "      <td>0.354005</td>\n",
       "      <td>0.068120</td>\n",
       "      <td>0.039467</td>\n",
       "    </tr>\n",
       "  </tbody>\n",
       "</table>\n",
       "<p>100 rows × 104 columns</p>\n",
       "</div>"
      ],
      "text/plain": [
       "          年龄        性别  脑出血前mRS评分     高血压病史      卒中病史      糖尿病史       房颤史  \\\n",
       "0   0.553883  0.816327   0.816327  0.816327  0.816327  0.816327  0.816327   \n",
       "1   0.725552  0.869565   0.000000  0.869565  0.000000  0.000000  0.000000   \n",
       "2   0.053316  0.084034   0.847458  0.084034  0.847458  0.847458  0.847458   \n",
       "3   0.044516  0.183486   0.183486  0.183486  0.183486  0.816327  0.816327   \n",
       "4   0.242086  0.303030   0.769231  0.769231  0.769231  0.769231  0.769231   \n",
       "..       ...       ...        ...       ...       ...       ...       ...   \n",
       "95  0.183486  0.816327   0.816327  0.816327  0.816327  0.816327  0.816327   \n",
       "96  0.377028  0.689655   0.689655  0.449438  0.689655  0.689655  0.689655   \n",
       "97  0.012816  0.084034   0.847458  0.084034  0.084034  0.084034  0.084034   \n",
       "98  0.197487  0.303030   0.769231  0.303030  0.769231  0.769231  0.769231   \n",
       "99  0.351438  0.449438   0.689655  0.689655  0.689655  0.689655  0.689655   \n",
       "\n",
       "        冠心病史       吸烟史       饮酒史  ...  HM_NCCT_original_firstorder_Median  \\\n",
       "0   0.816327  0.816327  0.816327  ...                            0.079480   \n",
       "1   0.000000  0.000000  0.000000  ...                            0.675807   \n",
       "2   0.847458  0.847458  0.847458  ...                            0.455989   \n",
       "3   0.816327  0.816327  0.816327  ...                            0.510528   \n",
       "4   0.769231  0.769231  0.769231  ...                            0.088539   \n",
       "..       ...       ...       ...  ...                                 ...   \n",
       "95  0.816327  0.816327  0.816327  ...                            0.251040   \n",
       "96  0.689655  0.689655  0.689655  ...                            0.239927   \n",
       "97  0.084034  0.084034  0.847458  ...                            0.196876   \n",
       "98  0.769231  0.769231  0.769231  ...                            0.600534   \n",
       "99  0.689655  0.449438  0.449438  ...                            0.317245   \n",
       "\n",
       "    HM_NCCT_original_firstorder_Minimum  HM_NCCT_original_firstorder_Range  \\\n",
       "0                              0.063604                           0.277505   \n",
       "1                              0.664784                           0.657578   \n",
       "2                              0.578551                           0.343083   \n",
       "3                              0.552120                           0.086803   \n",
       "4                              0.007760                           0.409162   \n",
       "..                                  ...                                ...   \n",
       "95                             0.176358                           0.396150   \n",
       "96                             0.187188                           0.077921   \n",
       "97                             0.514580                           0.397763   \n",
       "98                             0.169067                           0.051564   \n",
       "99                             0.215748                           0.067878   \n",
       "\n",
       "    HM_NCCT_original_firstorder_RobustMeanAbsoluteDeviation  \\\n",
       "0                                            0.049622         \n",
       "1                                            0.839438         \n",
       "2                                            0.292835         \n",
       "3                                            0.090946         \n",
       "4                                            0.004841         \n",
       "..                                                ...         \n",
       "95                                           0.045731         \n",
       "96                                           0.424457         \n",
       "97                                           0.391733         \n",
       "98                                           0.065241         \n",
       "99                                           0.386595         \n",
       "\n",
       "    HM_NCCT_original_firstorder_RootMeanSquared  \\\n",
       "0                                      0.051919   \n",
       "1                                      0.728025   \n",
       "2                                      0.419559   \n",
       "3                                      0.405046   \n",
       "4                                      0.054468   \n",
       "..                                          ...   \n",
       "95                                     0.207277   \n",
       "96                                     0.303536   \n",
       "97                                     0.220581   \n",
       "98                                     0.270117   \n",
       "99                                     0.324441   \n",
       "\n",
       "    HM_NCCT_original_firstorder_Skewness  \\\n",
       "0                               0.667121   \n",
       "1                               0.742390   \n",
       "2                               0.333449   \n",
       "3                               0.084746   \n",
       "4                               0.112550   \n",
       "..                                   ...   \n",
       "95                              0.247059   \n",
       "96                              0.079390   \n",
       "97                              0.782942   \n",
       "98                              0.185739   \n",
       "99                              0.106191   \n",
       "\n",
       "    HM_NCCT_original_firstorder_Uniformity  \\\n",
       "0                                 0.414746   \n",
       "1                                 0.044874   \n",
       "2                                 0.342587   \n",
       "3                                 0.055207   \n",
       "4                                 0.728029   \n",
       "..                                     ...   \n",
       "95                                0.628938   \n",
       "96                                0.512390   \n",
       "97                                0.265251   \n",
       "98                                0.184420   \n",
       "99                                0.469136   \n",
       "\n",
       "    HM_NCCT_original_firstorder_Variance       收缩压       舒张压  \n",
       "0                               0.069034  0.126582  0.200816  \n",
       "1                               0.818264  0.812133  0.836502  \n",
       "2                               0.398583  0.113310  0.037636  \n",
       "3                               0.153115  0.087853  0.107029  \n",
       "4                               0.100368  0.440313  0.053248  \n",
       "..                                   ...       ...       ...  \n",
       "95                              0.155879  0.119937  0.383086  \n",
       "96                              0.394812  0.097814  0.055083  \n",
       "97                              0.397588  0.108005  0.196579  \n",
       "98                              0.032140  0.166403  0.064586  \n",
       "99                              0.354005  0.068120  0.039467  \n",
       "\n",
       "[100 rows x 104 columns]"
      ]
     },
     "execution_count": 18,
     "metadata": {},
     "output_type": "execute_result"
    }
   ],
   "source": [
    "grey_relational_matrix"
   ]
  },
  {
   "cell_type": "code",
   "execution_count": 19,
   "id": "b2f7f30e",
   "metadata": {},
   "outputs": [
    {
     "data": {
      "text/plain": [
       "55    0.579040\n",
       "50    0.573479\n",
       "11    0.554614\n",
       "58    0.540017\n",
       "1     0.529613\n",
       "76    0.528488\n",
       "41    0.521811\n",
       "91    0.516366\n",
       "31    0.515880\n",
       "29    0.514529\n",
       "dtype: float64"
      ]
     },
     "execution_count": 19,
     "metadata": {},
     "output_type": "execute_result"
    }
   ],
   "source": [
    "average_grey_relation[:10]"
   ]
  },
  {
   "cell_type": "code",
   "execution_count": 20,
   "id": "3778a13d",
   "metadata": {},
   "outputs": [
    {
     "data": {
      "text/plain": [
       "['ED_NCCT_original_firstorder_90Percentile',\n",
       " 'ED_original_shape_Sphericity',\n",
       " '脑室引流']"
      ]
     },
     "execution_count": 20,
     "metadata": {},
     "output_type": "execute_result"
    }
   ],
   "source": [
    "select_columns[:3]"
   ]
  },
  {
   "cell_type": "code",
   "execution_count": 21,
   "id": "584f7493",
   "metadata": {},
   "outputs": [],
   "source": [
    "all_data[select_columns+target_column ].to_csv('./data2.csv',index=False)"
   ]
  },
  {
   "cell_type": "markdown",
   "id": "c1dc0ccf",
   "metadata": {},
   "source": [
    "\n",
    "## 弹性网回归"
   ]
  },
  {
   "cell_type": "code",
   "execution_count": 22,
   "id": "5b947dce",
   "metadata": {},
   "outputs": [
    {
     "name": "stdout",
     "output_type": "stream",
     "text": [
      "0.1 59\n"
     ]
    }
   ],
   "source": [
    "from sklearn.linear_model import ElasticNetCV\n",
    "\n",
    "X_train = (train_df[select_columns].values)\n",
    "y_train = (train_df[target_column].values)\n",
    "\n",
    "# for i in np.linspace(0.01, 1, num=99) :\n",
    "#     elastic_net = ElasticNetCV(l1_ratio=[i])  # 尝试不同的l1_ratio值\n",
    "#     elastic_net.fit(X_train, y_train)\n",
    "#     optimal_l1_ratio = elastic_net.l1_ratio_\n",
    "#     print( i,len(np.where(elastic_net.coef_ != 0)[0]) )\n",
    "\n",
    "elastic_net = ElasticNetCV(l1_ratio=[.1])  # 尝试不同的l1_ratio值\n",
    "elastic_net.fit(X_train, y_train)\n",
    "optimal_l1_ratio = elastic_net.l1_ratio_\n",
    "print( .1,len(np.where(elastic_net.coef_ != 0)[0]) )\n"
   ]
  },
  {
   "cell_type": "code",
   "execution_count": 23,
   "id": "50bca30a",
   "metadata": {},
   "outputs": [
    {
     "data": {
      "text/html": [
       "<div>\n",
       "<style scoped>\n",
       "    .dataframe tbody tr th:only-of-type {\n",
       "        vertical-align: middle;\n",
       "    }\n",
       "\n",
       "    .dataframe tbody tr th {\n",
       "        vertical-align: top;\n",
       "    }\n",
       "\n",
       "    .dataframe thead th {\n",
       "        text-align: right;\n",
       "    }\n",
       "</style>\n",
       "<table border=\"1\" class=\"dataframe\">\n",
       "  <thead>\n",
       "    <tr style=\"text-align: right;\">\n",
       "      <th></th>\n",
       "      <th>name</th>\n",
       "      <th>value</th>\n",
       "    </tr>\n",
       "  </thead>\n",
       "  <tbody>\n",
       "    <tr>\n",
       "      <th>0</th>\n",
       "      <td>ED_NCCT_original_firstorder_90Percentile</td>\n",
       "      <td>0.000000</td>\n",
       "    </tr>\n",
       "    <tr>\n",
       "      <th>56</th>\n",
       "      <td>ED_PCA_L_Ratio</td>\n",
       "      <td>0.000000</td>\n",
       "    </tr>\n",
       "    <tr>\n",
       "      <th>52</th>\n",
       "      <td>ED_original_shape_Elongation</td>\n",
       "      <td>0.000000</td>\n",
       "    </tr>\n",
       "    <tr>\n",
       "      <th>46</th>\n",
       "      <td>ED_Cerebellum_L_Ratio</td>\n",
       "      <td>0.000000</td>\n",
       "    </tr>\n",
       "    <tr>\n",
       "      <th>43</th>\n",
       "      <td>ED_Pons_Medulla_R_Ratio</td>\n",
       "      <td>0.000000</td>\n",
       "    </tr>\n",
       "    <tr>\n",
       "      <th>...</th>\n",
       "      <td>...</td>\n",
       "      <td>...</td>\n",
       "    </tr>\n",
       "    <tr>\n",
       "      <th>2</th>\n",
       "      <td>脑室引流</td>\n",
       "      <td>0.320638</td>\n",
       "    </tr>\n",
       "    <tr>\n",
       "      <th>31</th>\n",
       "      <td>镇静、镇痛治疗</td>\n",
       "      <td>0.427657</td>\n",
       "    </tr>\n",
       "    <tr>\n",
       "      <th>25</th>\n",
       "      <td>HM_original_shape_Maximum2DDiameterColumn</td>\n",
       "      <td>0.436921</td>\n",
       "    </tr>\n",
       "    <tr>\n",
       "      <th>75</th>\n",
       "      <td>年龄</td>\n",
       "      <td>0.451515</td>\n",
       "    </tr>\n",
       "    <tr>\n",
       "      <th>53</th>\n",
       "      <td>冠心病史</td>\n",
       "      <td>0.744870</td>\n",
       "    </tr>\n",
       "  </tbody>\n",
       "</table>\n",
       "<p>76 rows × 2 columns</p>\n",
       "</div>"
      ],
      "text/plain": [
       "                                         name     value\n",
       "0    ED_NCCT_original_firstorder_90Percentile  0.000000\n",
       "56                             ED_PCA_L_Ratio  0.000000\n",
       "52               ED_original_shape_Elongation  0.000000\n",
       "46                      ED_Cerebellum_L_Ratio  0.000000\n",
       "43                    ED_Pons_Medulla_R_Ratio  0.000000\n",
       "..                                        ...       ...\n",
       "2                                        脑室引流  0.320638\n",
       "31                                    镇静、镇痛治疗  0.427657\n",
       "25  HM_original_shape_Maximum2DDiameterColumn  0.436921\n",
       "75                                         年龄  0.451515\n",
       "53                                       冠心病史  0.744870\n",
       "\n",
       "[76 rows x 2 columns]"
      ]
     },
     "execution_count": 23,
     "metadata": {},
     "output_type": "execute_result"
    }
   ],
   "source": [
    "t = pd.DataFrame()\n",
    "t['name'] = select_columns\n",
    "t['value'] = elastic_net.coef_\n",
    "t['value'] = np.abs(t['value'])\n",
    "t.sort_values(['value'])"
   ]
  },
  {
   "cell_type": "code",
   "execution_count": 24,
   "id": "21ae2f9b",
   "metadata": {},
   "outputs": [],
   "source": [
    "select_columns = train_df[select_columns].iloc[:,(np.where(elastic_net.coef_ != 0)[0])].columns"
   ]
  },
  {
   "cell_type": "code",
   "execution_count": 25,
   "id": "8fc08ef0",
   "metadata": {},
   "outputs": [],
   "source": [
    "all_data[list(select_columns)+target_column ].to_csv('./data3.csv',index=False)"
   ]
  },
  {
   "cell_type": "markdown",
   "id": "40caefe6",
   "metadata": {},
   "source": [
    "## svm递归特征消除"
   ]
  },
  {
   "cell_type": "code",
   "execution_count": 26,
   "id": "8834a374",
   "metadata": {},
   "outputs": [],
   "source": [
    "from sklearn.svm import SVC\n",
    "from sklearn.feature_selection import RFE\n",
    "\n",
    "# 创建SVM分类器\n",
    "svm = SVC(kernel=\"linear\")\n",
    "\n",
    "\n",
    "X_train = (train_df[select_columns].values)\n",
    "y_train = (train_df[target_column].values)\n",
    "\n",
    "# 使用递归特征消除来选择特征\n",
    "rfe = RFE(estimator=svm, n_features_to_select=20)\n",
    "rfe.fit(X_train, y_train)\n",
    "\n",
    "# 获取选择的特征的索引\n",
    "selected_features_indices = np.where(rfe.support_)[0]\n",
    "selected_features = train_df[select_columns].iloc[:, selected_features_indices]\n",
    "select_columns = list(selected_features.columns)\n",
    "select_columns\n",
    "all_data[select_columns+target_column ].to_csv('./data8.csv',index=False)"
   ]
  },
  {
   "cell_type": "code",
   "execution_count": 27,
   "id": "b66f4f2d",
   "metadata": {},
   "outputs": [
    {
     "data": {
      "text/plain": [
       "['HM_ACA_R_Ratio',\n",
       " 'ED_NCCT_original_firstorder_Skewness',\n",
       " 'HM_original_shape_Elongation',\n",
       " 'HM_original_shape_Maximum2DDiameterColumn',\n",
       " '发病到首次影像检查时间间隔',\n",
       " 'ED_NCCT_original_firstorder_Entropy',\n",
       " '止吐护胃',\n",
       " 'HM_PCA_R_Ratio',\n",
       " '冠心病史',\n",
       " 'ED_original_shape_Maximum3DDiameter']"
      ]
     },
     "execution_count": 27,
     "metadata": {},
     "output_type": "execute_result"
    }
   ],
   "source": [
    "from sklearn.svm import SVC\n",
    "from sklearn.feature_selection import RFE\n",
    "\n",
    "# 创建SVM分类器\n",
    "svm = SVC(kernel=\"linear\")\n",
    "\n",
    "\n",
    "X_train = (train_df[select_columns].values)\n",
    "y_train = (train_df[target_column].values)\n",
    "\n",
    "# 使用递归特征消除来选择特征\n",
    "rfe = RFE(estimator=svm, n_features_to_select=10)\n",
    "rfe.fit(X_train, y_train)\n",
    "\n",
    "# 获取选择的特征的索引\n",
    "selected_features_indices = np.where(rfe.support_)[0]\n",
    "selected_features = train_df[select_columns].iloc[:, selected_features_indices]\n",
    "select_columns = list(selected_features.columns)\n",
    "select_columns"
   ]
  },
  {
   "cell_type": "code",
   "execution_count": 26,
   "id": "2db90c7e",
   "metadata": {},
   "outputs": [],
   "source": [
    "all_data[select_columns+target_column ].to_csv('./data4.csv',index=False)"
   ]
  },
  {
   "cell_type": "code",
   "execution_count": 27,
   "id": "42c4291a",
   "metadata": {},
   "outputs": [
    {
     "data": {
      "text/plain": [
       "0      0.495179\n",
       "1      0.365019\n",
       "2      0.387395\n",
       "3      0.716242\n",
       "4      0.330957\n",
       "         ...   \n",
       "155    0.473792\n",
       "156    0.346794\n",
       "157    0.342428\n",
       "158    0.288904\n",
       "159    0.385834\n",
       "Name: HM_NCCT_original_firstorder_Maximum, Length: 160, dtype: float64"
      ]
     },
     "execution_count": 27,
     "metadata": {},
     "output_type": "execute_result"
    }
   ],
   "source": [
    "all_data['HM_NCCT_original_firstorder_Maximum']"
   ]
  },
  {
   "cell_type": "markdown",
   "id": "5f93eef8",
   "metadata": {},
   "source": [
    "# 独立性检验"
   ]
  },
  {
   "cell_type": "code",
   "execution_count": 57,
   "id": "df9b36c8",
   "metadata": {},
   "outputs": [],
   "source": [
    "t2 = all_data[select_columns ]"
   ]
  },
  {
   "cell_type": "code",
   "execution_count": 58,
   "id": "0258f957",
   "metadata": {},
   "outputs": [],
   "source": [
    "# import scipy.stats as stats\n",
    "# import itertools\n",
    "# result=[]\n",
    "# hyperparameter_combinations = list(itertools.product(t1.columns, t1.columns))\n",
    "# for i,j in hyperparameter_combinations:\n",
    "#     if(i==j):\n",
    "#         continue\n",
    "#     group1, group2 = t1[i],t1[j]\n",
    "#     # 执行卡方独立性检验\n",
    "#     contingency_table  = pd.crosstab(t1[i],t1[j])\n",
    "#     chi2, p, dof, expected = stats.chi2_contingency(contingency_table)\n",
    "#     corr_coefficient, p_value1 = stats.pearsonr(group1, group2)\n",
    "#     result .append([i,j,  p,p_value1   ])\n",
    "# result = pd.DataFrame(result)\n",
    "# for i in range(2,4):\n",
    "#     print(result[result[i]<.01].shape[0])"
   ]
  },
  {
   "cell_type": "code",
   "execution_count": 59,
   "id": "be0a504b",
   "metadata": {},
   "outputs": [],
   "source": [
    "import scipy.stats as stats\n",
    "import itertools\n",
    "result=[]\n",
    "hyperparameter_combinations = list(itertools.product(t2.columns, t2.columns))\n",
    "for i,j in hyperparameter_combinations:\n",
    "    if(i==j):\n",
    "        continue\n",
    "    group1, group2 = t2[i],t2[j]\n",
    "    # 执行卡方独立性检验\n",
    "    contingency_table  = pd.crosstab(t2[i],t2[j])\n",
    "    chi2, p, dof, expected = stats.chi2_contingency(contingency_table)\n",
    "    corr_coefficient, p_value1 = stats.pearsonr(group1, group2)\n",
    "    result .append([i,j,  p,p_value1 ])\n",
    "result = pd.DataFrame(result)\n"
   ]
  },
  {
   "cell_type": "code",
   "execution_count": 61,
   "id": "53b5f905",
   "metadata": {},
   "outputs": [
    {
     "name": "stdout",
     "output_type": "stream",
     "text": [
      "6\n",
      "12\n"
     ]
    }
   ],
   "source": [
    "for i in range(2,4):\n",
    "    print(result[result[i]<.01].shape[0])"
   ]
  },
  {
   "cell_type": "code",
   "execution_count": 63,
   "id": "f593d985",
   "metadata": {},
   "outputs": [
    {
     "data": {
      "text/plain": [
       "count    9.000000e+01\n",
       "mean     3.967852e-01\n",
       "std      3.223808e-01\n",
       "min      8.727921e-17\n",
       "25%      5.928997e-02\n",
       "50%      3.663566e-01\n",
       "75%      6.906527e-01\n",
       "max      9.826200e-01\n",
       "Name: 3, dtype: float64"
      ]
     },
     "execution_count": 63,
     "metadata": {},
     "output_type": "execute_result"
    }
   ],
   "source": [
    "result[3].describe()"
   ]
  },
  {
   "cell_type": "code",
   "execution_count": null,
   "id": "189000d5",
   "metadata": {},
   "outputs": [],
   "source": []
  },
  {
   "cell_type": "code",
   "execution_count": null,
   "id": "727ae5b1",
   "metadata": {},
   "outputs": [],
   "source": []
  },
  {
   "cell_type": "code",
   "execution_count": null,
   "id": "45c18401",
   "metadata": {},
   "outputs": [],
   "source": []
  },
  {
   "cell_type": "code",
   "execution_count": null,
   "id": "9419970d",
   "metadata": {},
   "outputs": [],
   "source": [
    "# ##特征太多了 （）\n",
    "\n",
    "# 1. 没有信息的值： 删除方差为0的(没有),使用低方差滤波器处理\n",
    "\n",
    "# - person相关系数、speraman、kendall 来说明\n",
    "\n",
    "# 2. 直接指标：\n",
    "# -个人\n",
    "# -疾病史\n",
    "# -发病\n",
    "# -治疗\n",
    "\n",
    "# 方法：\n",
    "# - 距离相关系数\n",
    "# - 灰度关联\n",
    "\n",
    "# 3. 带target的\n",
    "# - 带LASSO 回归判断\n",
    "# - svm递归特征消除\n",
    "\n",
    "# ？ 降到多少维度\n",
    "\n",
    "# 4. 检验\n",
    "# - 独立性检验\n",
    "# - 信息熵理论验证\n",
    "# - 人类知识:专家知识\n",
    "\n",
    "# "
   ]
  },
  {
   "cell_type": "code",
   "execution_count": null,
   "id": "6c5bda59",
   "metadata": {},
   "outputs": [],
   "source": []
  },
  {
   "cell_type": "code",
   "execution_count": null,
   "id": "ff5895fb",
   "metadata": {},
   "outputs": [],
   "source": []
  }
 ],
 "metadata": {
  "kernelspec": {
   "display_name": "Python 3 (ipykernel)",
   "language": "python",
   "name": "python3"
  },
  "language_info": {
   "codemirror_mode": {
    "name": "ipython",
    "version": 3
   },
   "file_extension": ".py",
   "mimetype": "text/x-python",
   "name": "python",
   "nbconvert_exporter": "python",
   "pygments_lexer": "ipython3",
   "version": "3.9.7"
  }
 },
 "nbformat": 4,
 "nbformat_minor": 5
}
