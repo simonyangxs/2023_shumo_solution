{
 "cells": [
  {
   "cell_type": "markdown",
   "id": "1af8bfa0-2cf4-46a0-9c9b-6d980f054644",
   "metadata": {},
   "source": [
    "\n",
    "## 这是对1.b任务的预处理和\n",
    "#1.a 只有有label和时间处理\n",
    "\n",
    "1. load——data\n",
    "2. 统计特征数量（清洗）、选择、分析"
   ]
  },
  {
   "cell_type": "code",
   "execution_count": 1,
   "id": "72fc1036-6924-47fc-ad99-288beea48670",
   "metadata": {},
   "outputs": [],
   "source": [
    "import pandas as pd\n",
    "from tqdm import *\n",
    "import os\n",
    "import math\n",
    "from datetime import timedelta\n",
    "import numpy as np\n",
    "import warnings\n",
    "warnings.filterwarnings(\"ignore\")"
   ]
  },
  {
   "cell_type": "markdown",
   "id": "f9385fb6",
   "metadata": {},
   "source": [
    "## load_data"
   ]
  },
  {
   "cell_type": "code",
   "execution_count": 2,
   "id": "949fcaac-a6be-4513-9132-e266a04bc83f",
   "metadata": {
    "tags": []
   },
   "outputs": [],
   "source": [
    "import pickle\n",
    "def save_pkl(path,obj):\n",
    "    with open(path, 'wb') as f:\n",
    "        pickle.dump(obj,f)\n",
    "        \n",
    "def load_pkl(path): \n",
    "    with open(path, 'rb') as f:\n",
    "        return pickle.load(f) \n",
    "x1 = load_pkl(f'x_scale.pkl')\n",
    "x1 = x1[:,0,:]\n",
    "x2 = load_pkl(f'lstm_embedding.pkl').reshape(160, -1)\n",
    "x3 = load_pkl(f'y.pkl')\n",
    "all_data = pd.DataFrame(x1)\n",
    "all_data = pd.concat( [all_data,pd.DataFrame(x2) , pd.DataFrame(x3)],axis=1)\n",
    "all_data.columns = list(range(all_data.shape[1]))\n",
    "all_data= all_data.rename(columns={52:'label'})"
   ]
  },
  {
   "cell_type": "code",
   "execution_count": 3,
   "id": "fad297ab-77f8-4e49-aef5-d87fd8a9cac4",
   "metadata": {
    "collapsed": true,
    "jupyter": {
     "outputs_hidden": true
    },
    "tags": []
   },
   "outputs": [
    {
     "data": {
      "text/plain": [
       "{0: '年龄',\n",
       " 1: '性别',\n",
       " 2: '脑出血前mRS评分',\n",
       " 3: '高血压病史',\n",
       " 4: '卒中病史',\n",
       " 5: '糖尿病史',\n",
       " 6: '房颤史',\n",
       " 7: '冠心病史',\n",
       " 8: '吸烟史',\n",
       " 9: '饮酒史',\n",
       " 10: '发病到首次影像检查时间间隔',\n",
       " 11: '脑室引流',\n",
       " 12: '止血治疗',\n",
       " 13: '降颅压治疗',\n",
       " 14: '降压治疗',\n",
       " 15: '镇静、镇痛治疗',\n",
       " 16: '止吐护胃',\n",
       " 17: '营养神经',\n",
       " 18: '收缩压',\n",
       " 19: '舒张压',\n",
       " 20: 'lstm_0',\n",
       " 21: 'lstm_1',\n",
       " 22: 'lstm_2',\n",
       " 23: 'lstm_3',\n",
       " 24: 'lstm_4',\n",
       " 25: 'lstm_5',\n",
       " 26: 'lstm_6',\n",
       " 27: 'lstm_7',\n",
       " 28: 'lstm_8',\n",
       " 29: 'lstm_9',\n",
       " 30: 'lstm_10',\n",
       " 31: 'lstm_11',\n",
       " 32: 'lstm_12',\n",
       " 33: 'lstm_13',\n",
       " 34: 'lstm_14',\n",
       " 35: 'lstm_15',\n",
       " 36: 'lstm_16',\n",
       " 37: 'lstm_17',\n",
       " 38: 'lstm_18',\n",
       " 39: 'lstm_19',\n",
       " 40: 'lstm_20',\n",
       " 41: 'lstm_21',\n",
       " 42: 'lstm_22',\n",
       " 43: 'lstm_23',\n",
       " 44: 'lstm_24',\n",
       " 45: 'lstm_25',\n",
       " 46: 'lstm_26',\n",
       " 47: 'lstm_27',\n",
       " 48: 'lstm_28',\n",
       " 49: 'lstm_29',\n",
       " 50: 'lstm_30',\n",
       " 51: 'lstm_31'}"
      ]
     },
     "execution_count": 3,
     "metadata": {},
     "output_type": "execute_result"
    }
   ],
   "source": [
    "columns_dict={}\n",
    "columns_name= ['年龄', '性别', '脑出血前mRS评分', '高血压病史', '卒中病史',\n",
    "       '糖尿病史', '房颤史', '冠心病史', '吸烟史', '饮酒史', '发病到首次影像检查时间间隔', '脑室引流', '止血治疗',\n",
    "       '降颅压治疗', '降压治疗', '镇静、镇痛治疗', '止吐护胃', '营养神经', '收缩压', '舒张压'] +  ['lstm_'+str(i) for i in range(32)]\n",
    "for i,value in enumerate (columns_name):\n",
    "    columns_dict[i] = value\n"
   ]
  },
  {
   "cell_type": "code",
   "execution_count": 3,
   "id": "4e64dfb4",
   "metadata": {},
   "outputs": [
    {
     "data": {
      "text/plain": [
       "(160, 20)"
      ]
     },
     "execution_count": 3,
     "metadata": {},
     "output_type": "execute_result"
    }
   ],
   "source": [
    "x1.shape"
   ]
  },
  {
   "cell_type": "code",
   "execution_count": 4,
   "id": "58a9da66",
   "metadata": {},
   "outputs": [],
   "source": [
    "target_column = ['label']\n",
    "features =list( all_data.columns )[:-1]"
   ]
  },
  {
   "cell_type": "markdown",
   "id": "ddc13942",
   "metadata": {},
   "source": [
    "# 特征选择"
   ]
  },
  {
   "cell_type": "markdown",
   "id": "9e277254",
   "metadata": {},
   "source": [
    "\n",
    "## 灰色关联度分析\n"
   ]
  },
  {
   "cell_type": "code",
   "execution_count": 5,
   "id": "02374181",
   "metadata": {},
   "outputs": [],
   "source": [
    "train_df = all_data.head(100)\n",
    "select_columns = features"
   ]
  },
  {
   "cell_type": "code",
   "execution_count": 9,
   "id": "ef750b37",
   "metadata": {},
   "outputs": [],
   "source": [
    "# 计算灰度关联系数\n",
    "def grey_relation_coefficient(x, y):\n",
    "    x,y = np.array(x),np.array(y).ravel()\n",
    "    min_x = x.min()\n",
    "    max_x = x.max()\n",
    "    min_y = y.min()\n",
    "    max_y = y.max()\n",
    "    rho = 0.15  # 灰度关联系数计算时的参数，可根据需要调整\n",
    "    return np.abs((min_x - x) / (max_x - min_x) - (min_y - y) / (max_y - min_y)) / (rho + np.abs((min_x - x) / (max_x - min_x) + (min_y - y) / (max_y - min_y)))\n",
    "\n",
    "grey_relational_matrix = pd.DataFrame()\n",
    "y = (train_df[target_column].values.tolist())\n",
    "for feature in select_columns:\n",
    "    grey_relational_matrix[feature] = grey_relation_coefficient( list(train_df[feature]) ,list( y)) "
   ]
  },
  {
   "cell_type": "code",
   "execution_count": 16,
   "id": "9bef726a",
   "metadata": {},
   "outputs": [
    {
     "data": {
      "text/plain": [
       "30"
      ]
     },
     "execution_count": 16,
     "metadata": {},
     "output_type": "execute_result"
    }
   ],
   "source": [
    "\n",
    "# 求平均灰度关联系数，用于特征排序\n",
    "average_grey_relation = grey_relational_matrix.mean(axis=0)\n",
    "average_grey_relation = average_grey_relation.sort_values(ascending=False)\n",
    "average_grey_relation.describe()\n",
    "# 根据灰度关联系数排序特征\n",
    "ranked_features = average_grey_relation[average_grey_relation>.33].index\n",
    "len(ranked_features)"
   ]
  },
  {
   "cell_type": "code",
   "execution_count": 17,
   "id": "ac0023b2",
   "metadata": {},
   "outputs": [
    {
     "data": {
      "text/plain": [
       "30"
      ]
     },
     "execution_count": 17,
     "metadata": {},
     "output_type": "execute_result"
    }
   ],
   "source": [
    "select_columns = ranked_features\n",
    "len(select_columns)"
   ]
  },
  {
   "cell_type": "code",
   "execution_count": 18,
   "id": "3778a13d",
   "metadata": {},
   "outputs": [
    {
     "data": {
      "text/plain": [
       "Int64Index([9, 2, 8], dtype='int64')"
      ]
     },
     "execution_count": 18,
     "metadata": {},
     "output_type": "execute_result"
    }
   ],
   "source": [
    "select_columns[:3]"
   ]
  },
  {
   "cell_type": "markdown",
   "id": "c1dc0ccf",
   "metadata": {},
   "source": [
    "\n",
    "## 弹性网回归"
   ]
  },
  {
   "cell_type": "code",
   "execution_count": 19,
   "id": "5b947dce",
   "metadata": {},
   "outputs": [
    {
     "name": "stdout",
     "output_type": "stream",
     "text": [
      "0.1 21\n"
     ]
    }
   ],
   "source": [
    "from sklearn.linear_model import ElasticNetCV\n",
    "\n",
    "X_train = (train_df[select_columns].values)\n",
    "y_train = (train_df[target_column].values)\n",
    "\n",
    "# for i in np.linspace(0.01, 1, num=99) :\n",
    "#     elastic_net = ElasticNetCV(l1_ratio=[i])  # 尝试不同的l1_ratio值\n",
    "#     elastic_net.fit(X_train, y_train)\n",
    "#     optimal_l1_ratio = elastic_net.l1_ratio_\n",
    "#     print( i,len(np.where(elastic_net.coef_ != 0)[0]) )\n",
    "\n",
    "elastic_net = ElasticNetCV(l1_ratio=[.2])  # 尝试不同的l1_ratio值\n",
    "elastic_net.fit(X_train, y_train)\n",
    "optimal_l1_ratio = elastic_net.l1_ratio_\n",
    "print( .1,len(np.where(elastic_net.coef_ != 0)[0]) )\n"
   ]
  },
  {
   "cell_type": "code",
   "execution_count": 20,
   "id": "50bca30a",
   "metadata": {},
   "outputs": [
    {
     "data": {
      "text/html": [
       "<div>\n",
       "<style scoped>\n",
       "    .dataframe tbody tr th:only-of-type {\n",
       "        vertical-align: middle;\n",
       "    }\n",
       "\n",
       "    .dataframe tbody tr th {\n",
       "        vertical-align: top;\n",
       "    }\n",
       "\n",
       "    .dataframe thead th {\n",
       "        text-align: right;\n",
       "    }\n",
       "</style>\n",
       "<table border=\"1\" class=\"dataframe\">\n",
       "  <thead>\n",
       "    <tr style=\"text-align: right;\">\n",
       "      <th></th>\n",
       "      <th>name</th>\n",
       "      <th>value</th>\n",
       "    </tr>\n",
       "  </thead>\n",
       "  <tbody>\n",
       "    <tr>\n",
       "      <th>14</th>\n",
       "      <td>15</td>\n",
       "      <td>0.000000</td>\n",
       "    </tr>\n",
       "    <tr>\n",
       "      <th>27</th>\n",
       "      <td>20</td>\n",
       "      <td>0.000000</td>\n",
       "    </tr>\n",
       "    <tr>\n",
       "      <th>25</th>\n",
       "      <td>40</td>\n",
       "      <td>0.000000</td>\n",
       "    </tr>\n",
       "    <tr>\n",
       "      <th>21</th>\n",
       "      <td>30</td>\n",
       "      <td>0.000000</td>\n",
       "    </tr>\n",
       "    <tr>\n",
       "      <th>10</th>\n",
       "      <td>12</td>\n",
       "      <td>0.000000</td>\n",
       "    </tr>\n",
       "    <tr>\n",
       "      <th>8</th>\n",
       "      <td>1</td>\n",
       "      <td>0.000000</td>\n",
       "    </tr>\n",
       "    <tr>\n",
       "      <th>29</th>\n",
       "      <td>31</td>\n",
       "      <td>0.000000</td>\n",
       "    </tr>\n",
       "    <tr>\n",
       "      <th>1</th>\n",
       "      <td>2</td>\n",
       "      <td>0.000000</td>\n",
       "    </tr>\n",
       "    <tr>\n",
       "      <th>3</th>\n",
       "      <td>6</td>\n",
       "      <td>0.000000</td>\n",
       "    </tr>\n",
       "    <tr>\n",
       "      <th>15</th>\n",
       "      <td>17</td>\n",
       "      <td>0.030202</td>\n",
       "    </tr>\n",
       "    <tr>\n",
       "      <th>9</th>\n",
       "      <td>10</td>\n",
       "      <td>0.030559</td>\n",
       "    </tr>\n",
       "    <tr>\n",
       "      <th>6</th>\n",
       "      <td>4</td>\n",
       "      <td>0.042298</td>\n",
       "    </tr>\n",
       "    <tr>\n",
       "      <th>0</th>\n",
       "      <td>9</td>\n",
       "      <td>0.057361</td>\n",
       "    </tr>\n",
       "    <tr>\n",
       "      <th>12</th>\n",
       "      <td>3</td>\n",
       "      <td>0.060025</td>\n",
       "    </tr>\n",
       "    <tr>\n",
       "      <th>11</th>\n",
       "      <td>13</td>\n",
       "      <td>0.103423</td>\n",
       "    </tr>\n",
       "    <tr>\n",
       "      <th>24</th>\n",
       "      <td>46</td>\n",
       "      <td>0.116740</td>\n",
       "    </tr>\n",
       "    <tr>\n",
       "      <th>2</th>\n",
       "      <td>8</td>\n",
       "      <td>0.124544</td>\n",
       "    </tr>\n",
       "    <tr>\n",
       "      <th>4</th>\n",
       "      <td>11</td>\n",
       "      <td>0.130062</td>\n",
       "    </tr>\n",
       "    <tr>\n",
       "      <th>17</th>\n",
       "      <td>48</td>\n",
       "      <td>0.148757</td>\n",
       "    </tr>\n",
       "    <tr>\n",
       "      <th>13</th>\n",
       "      <td>16</td>\n",
       "      <td>0.160497</td>\n",
       "    </tr>\n",
       "    <tr>\n",
       "      <th>28</th>\n",
       "      <td>33</td>\n",
       "      <td>0.169535</td>\n",
       "    </tr>\n",
       "    <tr>\n",
       "      <th>7</th>\n",
       "      <td>5</td>\n",
       "      <td>0.176461</td>\n",
       "    </tr>\n",
       "    <tr>\n",
       "      <th>16</th>\n",
       "      <td>14</td>\n",
       "      <td>0.226488</td>\n",
       "    </tr>\n",
       "    <tr>\n",
       "      <th>26</th>\n",
       "      <td>25</td>\n",
       "      <td>0.275164</td>\n",
       "    </tr>\n",
       "    <tr>\n",
       "      <th>5</th>\n",
       "      <td>7</td>\n",
       "      <td>0.302310</td>\n",
       "    </tr>\n",
       "    <tr>\n",
       "      <th>18</th>\n",
       "      <td>39</td>\n",
       "      <td>0.307886</td>\n",
       "    </tr>\n",
       "    <tr>\n",
       "      <th>23</th>\n",
       "      <td>37</td>\n",
       "      <td>0.323141</td>\n",
       "    </tr>\n",
       "    <tr>\n",
       "      <th>19</th>\n",
       "      <td>22</td>\n",
       "      <td>0.352954</td>\n",
       "    </tr>\n",
       "    <tr>\n",
       "      <th>20</th>\n",
       "      <td>23</td>\n",
       "      <td>0.370999</td>\n",
       "    </tr>\n",
       "    <tr>\n",
       "      <th>22</th>\n",
       "      <td>47</td>\n",
       "      <td>0.659705</td>\n",
       "    </tr>\n",
       "  </tbody>\n",
       "</table>\n",
       "</div>"
      ],
      "text/plain": [
       "    name     value\n",
       "14    15  0.000000\n",
       "27    20  0.000000\n",
       "25    40  0.000000\n",
       "21    30  0.000000\n",
       "10    12  0.000000\n",
       "8      1  0.000000\n",
       "29    31  0.000000\n",
       "1      2  0.000000\n",
       "3      6  0.000000\n",
       "15    17  0.030202\n",
       "9     10  0.030559\n",
       "6      4  0.042298\n",
       "0      9  0.057361\n",
       "12     3  0.060025\n",
       "11    13  0.103423\n",
       "24    46  0.116740\n",
       "2      8  0.124544\n",
       "4     11  0.130062\n",
       "17    48  0.148757\n",
       "13    16  0.160497\n",
       "28    33  0.169535\n",
       "7      5  0.176461\n",
       "16    14  0.226488\n",
       "26    25  0.275164\n",
       "5      7  0.302310\n",
       "18    39  0.307886\n",
       "23    37  0.323141\n",
       "19    22  0.352954\n",
       "20    23  0.370999\n",
       "22    47  0.659705"
      ]
     },
     "execution_count": 20,
     "metadata": {},
     "output_type": "execute_result"
    }
   ],
   "source": [
    "t = pd.DataFrame()\n",
    "t['name'] = select_columns\n",
    "t['value'] = elastic_net.coef_\n",
    "t['value'] = np.abs(t['value'])\n",
    "t.sort_values(['value'])"
   ]
  },
  {
   "cell_type": "code",
   "execution_count": 21,
   "id": "21ae2f9b",
   "metadata": {},
   "outputs": [],
   "source": [
    "select_columns = train_df[select_columns].iloc[:,(np.where(elastic_net.coef_ != 0)[0])].columns"
   ]
  },
  {
   "cell_type": "markdown",
   "id": "40caefe6",
   "metadata": {},
   "source": [
    "## svm递归特征消除"
   ]
  },
  {
   "cell_type": "code",
   "execution_count": 22,
   "id": "b66f4f2d",
   "metadata": {},
   "outputs": [
    {
     "data": {
      "text/plain": [
       "[7, 10, 48, 39, 22, 23, 47, 37, 25, 33]"
      ]
     },
     "execution_count": 22,
     "metadata": {},
     "output_type": "execute_result"
    }
   ],
   "source": [
    "from sklearn.svm import SVC\n",
    "from sklearn.feature_selection import RFE\n",
    "\n",
    "# 创建SVM分类器\n",
    "svm = SVC(kernel=\"linear\")\n",
    "\n",
    "\n",
    "X_train = (train_df[select_columns].values)\n",
    "y_train = (train_df[target_column].values)\n",
    "\n",
    "# 使用递归特征消除来选择特征\n",
    "rfe = RFE(estimator=svm, n_features_to_select=10)\n",
    "rfe.fit(X_train, y_train)\n",
    "\n",
    "# 获取选择的特征的索引\n",
    "selected_features_indices = np.where(rfe.support_)[0]\n",
    "selected_features = train_df[select_columns].iloc[:, selected_features_indices]\n",
    "select_columns = list(selected_features.columns)\n",
    "select_columns"
   ]
  },
  {
   "cell_type": "code",
   "execution_count": 4,
   "id": "277daf29-963c-4b42-9952-da8ac7d26ea5",
   "metadata": {},
   "outputs": [
    {
     "data": {
      "text/plain": [
       "['冠心病史',\n",
       " '发病到首次影像检查时间间隔',\n",
       " 'lstm_28',\n",
       " 'lstm_19',\n",
       " 'lstm_2',\n",
       " 'lstm_3',\n",
       " 'lstm_27',\n",
       " 'lstm_17',\n",
       " 'lstm_5',\n",
       " 'lstm_13']"
      ]
     },
     "execution_count": 4,
     "metadata": {},
     "output_type": "execute_result"
    }
   ],
   "source": [
    "[columns_dict[i] for i in [7, 10, 48, 39, 22, 23, 47, 37, 25, 33] ]"
   ]
  },
  {
   "cell_type": "code",
   "execution_count": 23,
   "id": "2db90c7e",
   "metadata": {},
   "outputs": [],
   "source": [
    "all_data[select_columns+target_column ].to_csv('./data4.csv',index=False)"
   ]
  },
  {
   "cell_type": "markdown",
   "id": "5f93eef8",
   "metadata": {},
   "source": [
    "# 独立性检验"
   ]
  },
  {
   "cell_type": "code",
   "execution_count": 24,
   "id": "df9b36c8",
   "metadata": {},
   "outputs": [],
   "source": [
    "t2 = all_data[select_columns ]"
   ]
  },
  {
   "cell_type": "code",
   "execution_count": 25,
   "id": "0258f957",
   "metadata": {},
   "outputs": [],
   "source": [
    "# import scipy.stats as stats\n",
    "# import itertools\n",
    "# result=[]\n",
    "# hyperparameter_combinations = list(itertools.product(t1.columns, t1.columns))\n",
    "# for i,j in hyperparameter_combinations:\n",
    "#     if(i==j):\n",
    "#         continue\n",
    "#     group1, group2 = t1[i],t1[j]\n",
    "#     # 执行卡方独立性检验\n",
    "#     contingency_table  = pd.crosstab(t1[i],t1[j])\n",
    "#     chi2, p, dof, expected = stats.chi2_contingency(contingency_table)\n",
    "#     corr_coefficient, p_value1 = stats.pearsonr(group1, group2)\n",
    "#     result .append([i,j,  p,p_value1   ])\n",
    "# result = pd.DataFrame(result)\n",
    "# for i in range(2,4):\n",
    "#     print(result[result[i]<.01].shape[0])"
   ]
  },
  {
   "cell_type": "code",
   "execution_count": 26,
   "id": "be0a504b",
   "metadata": {},
   "outputs": [],
   "source": [
    "import scipy.stats as stats\n",
    "import itertools\n",
    "result=[]\n",
    "hyperparameter_combinations = list(itertools.product(t2.columns, t2.columns))\n",
    "for i,j in hyperparameter_combinations:\n",
    "    if(i==j):\n",
    "        continue\n",
    "    group1, group2 = t2[i],t2[j]\n",
    "    # 执行卡方独立性检验\n",
    "    contingency_table  = pd.crosstab(t2[i],t2[j])\n",
    "    chi2, p, dof, expected = stats.chi2_contingency(contingency_table)\n",
    "    corr_coefficient, p_value1 = stats.pearsonr(group1, group2)\n",
    "    result .append([i,j,  p,p_value1 ])\n",
    "result = pd.DataFrame(result)\n"
   ]
  },
  {
   "cell_type": "code",
   "execution_count": 27,
   "id": "53b5f905",
   "metadata": {},
   "outputs": [
    {
     "name": "stdout",
     "output_type": "stream",
     "text": [
      "72\n",
      "56\n"
     ]
    }
   ],
   "source": [
    "for i in range(2,4):\n",
    "    print(result[result[i]<.01].shape[0])"
   ]
  },
  {
   "cell_type": "code",
   "execution_count": 28,
   "id": "f593d985",
   "metadata": {},
   "outputs": [
    {
     "data": {
      "text/plain": [
       "count    9.000000e+01\n",
       "mean     2.189921e-01\n",
       "std      3.236225e-01\n",
       "min      3.738609e-71\n",
       "25%      2.149453e-45\n",
       "50%      5.886479e-29\n",
       "75%      3.104734e-01\n",
       "max      9.866047e-01\n",
       "Name: 3, dtype: float64"
      ]
     },
     "execution_count": 28,
     "metadata": {},
     "output_type": "execute_result"
    }
   ],
   "source": [
    "result[3].describe()"
   ]
  },
  {
   "cell_type": "code",
   "execution_count": null,
   "id": "189000d5",
   "metadata": {},
   "outputs": [],
   "source": []
  },
  {
   "cell_type": "code",
   "execution_count": null,
   "id": "727ae5b1",
   "metadata": {},
   "outputs": [],
   "source": []
  },
  {
   "cell_type": "code",
   "execution_count": null,
   "id": "45c18401",
   "metadata": {},
   "outputs": [],
   "source": []
  },
  {
   "cell_type": "code",
   "execution_count": null,
   "id": "9419970d",
   "metadata": {},
   "outputs": [],
   "source": [
    "# ##特征太多了 （）\n",
    "\n",
    "# 1. 没有信息的值： 删除方差为0的(没有),使用低方差滤波器处理\n",
    "\n",
    "# - person相关系数、speraman、kendall 来说明\n",
    "\n",
    "# 2. 直接指标：\n",
    "# -个人\n",
    "# -疾病史\n",
    "# -发病\n",
    "# -治疗\n",
    "\n",
    "# 方法：\n",
    "# - 距离相关系数\n",
    "# - 灰度关联\n",
    "\n",
    "# 3. 带target的\n",
    "# - 带LASSO 回归判断\n",
    "# - svm递归特征消除\n",
    "\n",
    "# ？ 降到多少维度\n",
    "\n",
    "# 4. 检验\n",
    "# - 独立性检验\n",
    "# - 信息熵理论验证\n",
    "# - 人类知识:专家知识\n",
    "\n",
    "# "
   ]
  },
  {
   "cell_type": "code",
   "execution_count": null,
   "id": "6c5bda59",
   "metadata": {},
   "outputs": [],
   "source": []
  },
  {
   "cell_type": "code",
   "execution_count": null,
   "id": "ff5895fb",
   "metadata": {},
   "outputs": [],
   "source": []
  }
 ],
 "metadata": {
  "kernelspec": {
   "display_name": "Python 3 (ipykernel)",
   "language": "python",
   "name": "python3"
  },
  "language_info": {
   "codemirror_mode": {
    "name": "ipython",
    "version": 3
   },
   "file_extension": ".py",
   "mimetype": "text/x-python",
   "name": "python",
   "nbconvert_exporter": "python",
   "pygments_lexer": "ipython3",
   "version": "3.9.7"
  }
 },
 "nbformat": 4,
 "nbformat_minor": 5
}
